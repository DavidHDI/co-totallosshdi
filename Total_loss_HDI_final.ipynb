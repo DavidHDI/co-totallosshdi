{
 "cells": [
  {
   "cell_type": "markdown",
   "id": "18713491",
   "metadata": {
    "tags": [
     "papermill-error-cell-tag"
    ]
   },
   "source": [
    "<span style=\"color:red; font-family:Helvetica Neue, Helvetica, Arial, sans-serif; font-size:2em;\">An Exception was encountered at '<a href=\"#papermill-error-cell\">In [11]</a>'.</span>"
   ]
  },
  {
   "cell_type": "code",
   "execution_count": 1,
   "id": "24b2c1ae-3a5d-4eae-95c2-7c9c408ff774",
   "metadata": {
    "papermill": {
     "duration": 0.339774,
     "end_time": "2024-12-27T14:13:06.234779",
     "exception": false,
     "start_time": "2024-12-27T14:13:05.895005",
     "status": "completed"
    },
    "tags": []
   },
   "outputs": [],
   "source": [
    "import pandas as pd\n",
    "import joblib"
   ]
  },
  {
   "cell_type": "code",
   "execution_count": 2,
   "id": "55076738-b456-4bd3-aea7-a655e6a49b9b",
   "metadata": {
    "papermill": {
     "duration": 0.00731,
     "end_time": "2024-12-27T14:13:06.245027",
     "exception": false,
     "start_time": "2024-12-27T14:13:06.237717",
     "status": "completed"
    },
    "tags": []
   },
   "outputs": [],
   "source": [
    "dtype_types = {\n",
    "    'Amparo': object ,\n",
    "    'placa':object ,\n",
    "    'siniestro': int,\n",
    "    'poliza': int,\n",
    "    'estado_siniestro': object ,\n",
    "    'causa_siniestro': object ,\n",
    "    'cod_marca': int,\n",
    "    'cod_clase': int,\n",
    "    'cod_tipo': int,\n",
    "    'modelo': int,\n",
    "    'valor_asegurado_sin_acc': float,\n",
    "    'valor_veh_fasecolda': int,\n",
    "    'valor_accesorios': int,\n",
    "    'color': object,\n",
    "    'descripcion': object\n",
    "}"
   ]
  },
  {
   "cell_type": "code",
   "execution_count": 3,
   "id": "edc6eff7-cc03-4139-8b32-adffdf6ed3b8",
   "metadata": {
    "papermill": {
     "duration": 0.09118,
     "end_time": "2024-12-27T14:13:06.339545",
     "exception": false,
     "start_time": "2024-12-27T14:13:06.248365",
     "status": "completed"
    },
    "tags": []
   },
   "outputs": [
    {
     "name": "stdout",
     "output_type": "stream",
     "text": [
      "<class 'pandas.core.frame.DataFrame'>\n",
      "RangeIndex: 13 entries, 0 to 12\n",
      "Data columns (total 15 columns):\n",
      " #   Column                   Non-Null Count  Dtype  \n",
      "---  ------                   --------------  -----  \n",
      " 0   Amparo                   13 non-null     object \n",
      " 1   placa                    1 non-null      object \n",
      " 2   siniestro                13 non-null     int64  \n",
      " 3   poliza                   13 non-null     int64  \n",
      " 4   estado_siniestro         13 non-null     object \n",
      " 5   causa_siniestro          13 non-null     object \n",
      " 6   cod_marca                13 non-null     int64  \n",
      " 7   cod_clase                13 non-null     int64  \n",
      " 8   cod_tipo                 13 non-null     int64  \n",
      " 9   modelo                   1 non-null      float64\n",
      " 10  valor_asegurado_sin_acc  13 non-null     int64  \n",
      " 11  valor_veh_fasecolda      13 non-null     int64  \n",
      " 12  valor_accesorios         13 non-null     int64  \n",
      " 13  color                    13 non-null     object \n",
      " 14  descripcion              13 non-null     object \n",
      "dtypes: float64(1), int64(8), object(6)\n",
      "memory usage: 1.6+ KB\n"
     ]
    }
   ],
   "source": [
    "df = pd.read_excel(\n",
    "    'prueba.xlsx', #dtype=dtype_types\n",
    "   # index_col=0\n",
    ")\n",
    "\n",
    "df.info()"
   ]
  },
  {
   "cell_type": "markdown",
   "id": "b28749bd-e8bd-4b81-b012-3c4b2403e12e",
   "metadata": {
    "papermill": {
     "duration": 0.002635,
     "end_time": "2024-12-27T14:13:06.345016",
     "exception": false,
     "start_time": "2024-12-27T14:13:06.342381",
     "status": "completed"
    },
    "tags": []
   },
   "source": [
    "#### Pre"
   ]
  },
  {
   "cell_type": "code",
   "execution_count": 4,
   "id": "1c1fc119-ca1c-450b-b592-6754cd977e27",
   "metadata": {
    "papermill": {
     "duration": 0.013113,
     "end_time": "2024-12-27T14:13:06.360636",
     "exception": false,
     "start_time": "2024-12-27T14:13:06.347523",
     "status": "completed"
    },
    "tags": []
   },
   "outputs": [],
   "source": [
    "df['descripcion']=df['descripcion'].str.lower()\n",
    "df['descripcion']=df['descripcion'].str.replace(\"(?i)contact center.*?;\", \"\", regex=True)\n",
    "df['descripcion']=df['descripcion'].str.replace(\"(?i)contac center.*?;\", \"\", regex=True)\n",
    "df['descripcion']=df['descripcion'].str.replace(\"(?i)contactcenter.*?;\", \"\", regex=True)\n",
    "df['descripcion']=df['descripcion'].str.replace(\"(?i)contaccenter.*?;\", \"\", regex=True)\n",
    "\n",
    "df['descripcion']=df['descripcion'].str.replace(\"(?i)contact.*?;\", \"\", regex=True)\n",
    "df['descripcion']=df['descripcion'].str.replace(\"(?i)contac.*?;\", \"\", regex=True)\n",
    "\n",
    "\n",
    "\n",
    "df['descripcion']=df['descripcion'].str.replace(\"(?i)call center.*?;\", \"\", regex=True)\n",
    "df['descripcion']=df['descripcion'].str.replace(\"(?i)callcenter.*?;\", \"\", regex=True)\n",
    "df['descripcion']=df['descripcion'].str.replace(\"(?i)cal center.*?;\", \"\", regex=True)\n",
    "df['descripcion']=df['descripcion'].str.replace(\"(?i)call centr.*?;\", \"\", regex=True)\n",
    "\n",
    "\n",
    "df['descripcion']=df['descripcion'].str.replace(\"(?i)cente.*?;\", \"\", regex=True)\n"
   ]
  },
  {
   "cell_type": "code",
   "execution_count": 5,
   "id": "2dc9c0f8-c55e-4531-84e9-6d8c9adac4aa",
   "metadata": {
    "papermill": {
     "duration": 0.009687,
     "end_time": "2024-12-27T14:13:06.372839",
     "exception": false,
     "start_time": "2024-12-27T14:13:06.363152",
     "status": "completed"
    },
    "tags": []
   },
   "outputs": [
    {
     "data": {
      "text/plain": [
       "0                                          410900039975\n",
       "1                                          410900044821\n",
       "2     4109000453314109000460624109000460624109000460...\n",
       "3                  410900047214410900048284410900048284\n",
       "4     4109000490264109000494954109000494954109000503...\n",
       "5     4109000508194109000508194109000508194109000508...\n",
       "6     4109000526614109000526614109000526614109000528...\n",
       "7     4109000545334109000545334109000545764109000545...\n",
       "8     4109000564324109000565134109000565134109000565...\n",
       "9                                          410900058545\n",
       "10    plantilla reporte hdi por sipo manual    decla...\n",
       "11                                       3-13-13-233083\n",
       "12    24/12/24 chat se comunica luz díaz de la funda...\n",
       "Name: descripcion, dtype: object"
      ]
     },
     "execution_count": 5,
     "metadata": {},
     "output_type": "execute_result"
    }
   ],
   "source": [
    "df['descripcion']"
   ]
  },
  {
   "cell_type": "code",
   "execution_count": 6,
   "id": "a0c47b6b-b537-4d67-8373-75013b76b9dc",
   "metadata": {
    "papermill": {
     "duration": 0.009183,
     "end_time": "2024-12-27T14:13:06.384619",
     "exception": false,
     "start_time": "2024-12-27T14:13:06.375436",
     "status": "completed"
    },
    "tags": []
   },
   "outputs": [
    {
     "data": {
      "text/plain": [
       "0     00601155\n",
       "1     06212009\n",
       "2     05601143\n",
       "3     09021052\n",
       "4     01604072\n",
       "5     02922011\n",
       "6     16721025\n",
       "7     03712091\n",
       "8     04422007\n",
       "9     04422007\n",
       "10    04422006\n",
       "11    06421072\n",
       "12    06401228\n",
       "Name: Codigo, dtype: object"
      ]
     },
     "execution_count": 6,
     "metadata": {},
     "output_type": "execute_result"
    }
   ],
   "source": [
    "df[\"Codigo\"]=df[\"cod_marca\"].astype(\"str\").str.zfill(3)+df[\"cod_clase\"].astype(\"str\").str.zfill(5)\n",
    "df[\"Codigo\"]"
   ]
  },
  {
   "cell_type": "code",
   "execution_count": 7,
   "id": "e0083ad3-be55-45f6-9791-cfb346837876",
   "metadata": {
    "papermill": {
     "duration": 0.13647,
     "end_time": "2024-12-27T14:13:06.523829",
     "exception": false,
     "start_time": "2024-12-27T14:13:06.387359",
     "status": "completed"
    },
    "tags": []
   },
   "outputs": [],
   "source": [
    "fase=pd.read_csv(\"Guia_CSV_333.csv\")\n",
    "fase[\"Codigo\"]=fase[\"Codigo\"].astype(\"str\").str.zfill(8)"
   ]
  },
  {
   "cell_type": "code",
   "execution_count": 8,
   "id": "673b907f-651f-4192-8aa6-f26b3a43f577",
   "metadata": {
    "papermill": {
     "duration": 0.008947,
     "end_time": "2024-12-27T14:13:06.535866",
     "exception": false,
     "start_time": "2024-12-27T14:13:06.526919",
     "status": "completed"
    },
    "tags": []
   },
   "outputs": [
    {
     "data": {
      "text/plain": [
       "0        00101001\n",
       "1        00208003\n",
       "2        00208004\n",
       "3        00206001\n",
       "4        00301001\n",
       "           ...   \n",
       "16873    46717001\n",
       "16874    46817001\n",
       "16875    46817002\n",
       "16876    46925001\n",
       "16877    47022001\n",
       "Name: Codigo, Length: 16878, dtype: object"
      ]
     },
     "execution_count": 8,
     "metadata": {},
     "output_type": "execute_result"
    }
   ],
   "source": [
    "fase[\"Codigo\"]"
   ]
  },
  {
   "cell_type": "code",
   "execution_count": 9,
   "id": "5c11afc1-a559-4214-88eb-f69f8679b28d",
   "metadata": {
    "papermill": {
     "duration": 0.013971,
     "end_time": "2024-12-27T14:13:06.552675",
     "exception": false,
     "start_time": "2024-12-27T14:13:06.538704",
     "status": "completed"
    },
    "tags": []
   },
   "outputs": [],
   "source": [
    "fase_2 = fase[['Codigo', 'Peso', 'Transmision', 'Cilindraje', 'Nacionalidad','CapacidadPasajeros', 'CapacidadCarga']]\n",
    "df = pd.merge(df, fase_2, on='Codigo', how='left')"
   ]
  },
  {
   "cell_type": "code",
   "execution_count": 10,
   "id": "787e068f-7e58-4661-bf14-c84a3285df7b",
   "metadata": {
    "papermill": {
     "duration": 0.012024,
     "end_time": "2024-12-27T14:13:06.567502",
     "exception": false,
     "start_time": "2024-12-27T14:13:06.555478",
     "status": "completed"
    },
    "tags": []
   },
   "outputs": [
    {
     "name": "stdout",
     "output_type": "stream",
     "text": [
      "<class 'pandas.core.frame.DataFrame'>\n",
      "RangeIndex: 13 entries, 0 to 12\n",
      "Data columns (total 22 columns):\n",
      " #   Column                   Non-Null Count  Dtype  \n",
      "---  ------                   --------------  -----  \n",
      " 0   Amparo                   13 non-null     object \n",
      " 1   placa                    1 non-null      object \n",
      " 2   siniestro                13 non-null     int64  \n",
      " 3   poliza                   13 non-null     int64  \n",
      " 4   estado_siniestro         13 non-null     object \n",
      " 5   causa_siniestro          13 non-null     object \n",
      " 6   cod_marca                13 non-null     int64  \n",
      " 7   cod_clase                13 non-null     int64  \n",
      " 8   cod_tipo                 13 non-null     int64  \n",
      " 9   modelo                   1 non-null      float64\n",
      " 10  valor_asegurado_sin_acc  13 non-null     int64  \n",
      " 11  valor_veh_fasecolda      13 non-null     int64  \n",
      " 12  valor_accesorios         13 non-null     int64  \n",
      " 13  color                    13 non-null     object \n",
      " 14  descripcion              13 non-null     object \n",
      " 15  Codigo                   13 non-null     object \n",
      " 16  Peso                     13 non-null     int64  \n",
      " 17  Transmision              13 non-null     object \n",
      " 18  Cilindraje               13 non-null     int64  \n",
      " 19  Nacionalidad             13 non-null     object \n",
      " 20  CapacidadPasajeros       13 non-null     int64  \n",
      " 21  CapacidadCarga           13 non-null     int64  \n",
      "dtypes: float64(1), int64(12), object(9)\n",
      "memory usage: 2.4+ KB\n"
     ]
    }
   ],
   "source": [
    "df.info()"
   ]
  },
  {
   "cell_type": "code",
   "execution_count": null,
   "id": "ad26aeb1-7d0b-4d93-ba11-5631cbe7d5f4",
   "metadata": {
    "papermill": {
     "duration": 0.002803,
     "end_time": "2024-12-27T14:13:06.573140",
     "exception": false,
     "start_time": "2024-12-27T14:13:06.570337",
     "status": "completed"
    },
    "tags": []
   },
   "outputs": [],
   "source": []
  },
  {
   "cell_type": "code",
   "execution_count": null,
   "id": "711a38cb-fa0a-4fb0-b520-f915b7afcdf6",
   "metadata": {
    "papermill": {
     "duration": 0.002737,
     "end_time": "2024-12-27T14:13:06.578712",
     "exception": false,
     "start_time": "2024-12-27T14:13:06.575975",
     "status": "completed"
    },
    "tags": []
   },
   "outputs": [],
   "source": []
  },
  {
   "cell_type": "markdown",
   "id": "c84ab747",
   "metadata": {
    "tags": [
     "papermill-error-cell-tag"
    ]
   },
   "source": [
    "<span id=\"papermill-error-cell\" style=\"color:red; font-family:Helvetica Neue, Helvetica, Arial, sans-serif; font-size:2em;\">Execution using papermill encountered an exception here and stopped:</span>"
   ]
  },
  {
   "cell_type": "code",
   "execution_count": 11,
   "id": "944d5385-d917-4990-a372-f7702abd7afe",
   "metadata": {
    "papermill": {
     "duration": 3.11096,
     "end_time": "2024-12-27T14:13:09.692544",
     "exception": true,
     "start_time": "2024-12-27T14:13:06.581584",
     "status": "failed"
    },
    "tags": []
   },
   "outputs": [
    {
     "name": "stderr",
     "output_type": "stream",
     "text": [
      "/home/ec2-user/SageMaker/totalloss_HDI/totallosshdi/lib/python3.10/site-packages/tqdm/auto.py:21: TqdmWarning: IProgress not found. Please update jupyter and ipywidgets. See https://ipywidgets.readthedocs.io/en/stable/user_install.html\n",
      "  from .autonotebook import tqdm as notebook_tqdm\n"
     ]
    },
    {
     "ename": "ModuleNotFoundError",
     "evalue": "No module named 'numpy._core'",
     "output_type": "error",
     "traceback": [
      "\u001b[0;31m---------------------------------------------------------------------------\u001b[0m",
      "\u001b[0;31mModuleNotFoundError\u001b[0m                       Traceback (most recent call last)",
      "Cell \u001b[0;32mIn[11], line 4\u001b[0m\n\u001b[1;32m      1\u001b[0m X_nuevo \u001b[38;5;241m=\u001b[39m df\u001b[38;5;241m.\u001b[39mdrop(columns\u001b[38;5;241m=\u001b[39m[\u001b[38;5;124m'\u001b[39m\u001b[38;5;124mplaca\u001b[39m\u001b[38;5;124m'\u001b[39m,\u001b[38;5;124m'\u001b[39m\u001b[38;5;124msiniestro\u001b[39m\u001b[38;5;124m'\u001b[39m,\u001b[38;5;124m'\u001b[39m\u001b[38;5;124mpoliza\u001b[39m\u001b[38;5;124m'\u001b[39m,\u001b[38;5;124m'\u001b[39m\u001b[38;5;124mAmparo\u001b[39m\u001b[38;5;124m'\u001b[39m,\u001b[38;5;124m'\u001b[39m\u001b[38;5;124mestado_siniestro\u001b[39m\u001b[38;5;124m'\u001b[39m,\u001b[38;5;124m'\u001b[39m\u001b[38;5;124mcolor\u001b[39m\u001b[38;5;124m'\u001b[39m,\u001b[38;5;124m'\u001b[39m\u001b[38;5;124mCodigo\u001b[39m\u001b[38;5;124m'\u001b[39m])\n\u001b[0;32m----> 4\u001b[0m optuned_model \u001b[38;5;241m=\u001b[39m \u001b[43mjoblib\u001b[49m\u001b[38;5;241;43m.\u001b[39;49m\u001b[43mload\u001b[49m\u001b[43m(\u001b[49m\u001b[38;5;124;43m'\u001b[39;49m\u001b[38;5;124;43mco_toralloss_5.joblib\u001b[39;49m\u001b[38;5;124;43m'\u001b[39;49m\u001b[43m)\u001b[49m\n",
      "File \u001b[0;32m~/SageMaker/totalloss_HDI/totallosshdi/lib/python3.10/site-packages/joblib/numpy_pickle.py:658\u001b[0m, in \u001b[0;36mload\u001b[0;34m(filename, mmap_mode)\u001b[0m\n\u001b[1;32m    652\u001b[0m             \u001b[38;5;28;01mif\u001b[39;00m \u001b[38;5;28misinstance\u001b[39m(fobj, \u001b[38;5;28mstr\u001b[39m):\n\u001b[1;32m    653\u001b[0m                 \u001b[38;5;66;03m# if the returned file object is a string, this means we\u001b[39;00m\n\u001b[1;32m    654\u001b[0m                 \u001b[38;5;66;03m# try to load a pickle file generated with an version of\u001b[39;00m\n\u001b[1;32m    655\u001b[0m                 \u001b[38;5;66;03m# Joblib so we load it with joblib compatibility function.\u001b[39;00m\n\u001b[1;32m    656\u001b[0m                 \u001b[38;5;28;01mreturn\u001b[39;00m load_compatibility(fobj)\n\u001b[0;32m--> 658\u001b[0m             obj \u001b[38;5;241m=\u001b[39m \u001b[43m_unpickle\u001b[49m\u001b[43m(\u001b[49m\u001b[43mfobj\u001b[49m\u001b[43m,\u001b[49m\u001b[43m \u001b[49m\u001b[43mfilename\u001b[49m\u001b[43m,\u001b[49m\u001b[43m \u001b[49m\u001b[43mmmap_mode\u001b[49m\u001b[43m)\u001b[49m\n\u001b[1;32m    659\u001b[0m \u001b[38;5;28;01mreturn\u001b[39;00m obj\n",
      "File \u001b[0;32m~/SageMaker/totalloss_HDI/totallosshdi/lib/python3.10/site-packages/joblib/numpy_pickle.py:577\u001b[0m, in \u001b[0;36m_unpickle\u001b[0;34m(fobj, filename, mmap_mode)\u001b[0m\n\u001b[1;32m    575\u001b[0m obj \u001b[38;5;241m=\u001b[39m \u001b[38;5;28;01mNone\u001b[39;00m\n\u001b[1;32m    576\u001b[0m \u001b[38;5;28;01mtry\u001b[39;00m:\n\u001b[0;32m--> 577\u001b[0m     obj \u001b[38;5;241m=\u001b[39m \u001b[43munpickler\u001b[49m\u001b[38;5;241;43m.\u001b[39;49m\u001b[43mload\u001b[49m\u001b[43m(\u001b[49m\u001b[43m)\u001b[49m\n\u001b[1;32m    578\u001b[0m     \u001b[38;5;28;01mif\u001b[39;00m unpickler\u001b[38;5;241m.\u001b[39mcompat_mode:\n\u001b[1;32m    579\u001b[0m         warnings\u001b[38;5;241m.\u001b[39mwarn(\u001b[38;5;124m\"\u001b[39m\u001b[38;5;124mThe file \u001b[39m\u001b[38;5;124m'\u001b[39m\u001b[38;5;132;01m%s\u001b[39;00m\u001b[38;5;124m'\u001b[39m\u001b[38;5;124m has been generated with a \u001b[39m\u001b[38;5;124m\"\u001b[39m\n\u001b[1;32m    580\u001b[0m                       \u001b[38;5;124m\"\u001b[39m\u001b[38;5;124mjoblib version less than 0.10. \u001b[39m\u001b[38;5;124m\"\u001b[39m\n\u001b[1;32m    581\u001b[0m                       \u001b[38;5;124m\"\u001b[39m\u001b[38;5;124mPlease regenerate this pickle file.\u001b[39m\u001b[38;5;124m\"\u001b[39m\n\u001b[1;32m    582\u001b[0m                       \u001b[38;5;241m%\u001b[39m filename,\n\u001b[1;32m    583\u001b[0m                       \u001b[38;5;167;01mDeprecationWarning\u001b[39;00m, stacklevel\u001b[38;5;241m=\u001b[39m\u001b[38;5;241m3\u001b[39m)\n",
      "File \u001b[0;32m~/anaconda3/envs/JupyterSystemEnv/lib/python3.10/pickle.py:1213\u001b[0m, in \u001b[0;36m_Unpickler.load\u001b[0;34m(self)\u001b[0m\n\u001b[1;32m   1211\u001b[0m             \u001b[38;5;28;01mraise\u001b[39;00m \u001b[38;5;167;01mEOFError\u001b[39;00m\n\u001b[1;32m   1212\u001b[0m         \u001b[38;5;28;01massert\u001b[39;00m \u001b[38;5;28misinstance\u001b[39m(key, bytes_types)\n\u001b[0;32m-> 1213\u001b[0m         \u001b[43mdispatch\u001b[49m\u001b[43m[\u001b[49m\u001b[43mkey\u001b[49m\u001b[43m[\u001b[49m\u001b[38;5;241;43m0\u001b[39;49m\u001b[43m]\u001b[49m\u001b[43m]\u001b[49m\u001b[43m(\u001b[49m\u001b[38;5;28;43mself\u001b[39;49m\u001b[43m)\u001b[49m\n\u001b[1;32m   1214\u001b[0m \u001b[38;5;28;01mexcept\u001b[39;00m _Stop \u001b[38;5;28;01mas\u001b[39;00m stopinst:\n\u001b[1;32m   1215\u001b[0m     \u001b[38;5;28;01mreturn\u001b[39;00m stopinst\u001b[38;5;241m.\u001b[39mvalue\n",
      "File \u001b[0;32m~/SageMaker/totalloss_HDI/totallosshdi/lib/python3.10/site-packages/joblib/numpy_pickle.py:415\u001b[0m, in \u001b[0;36mNumpyUnpickler.load_build\u001b[0;34m(self)\u001b[0m\n\u001b[1;32m    413\u001b[0m \u001b[38;5;28;01mif\u001b[39;00m \u001b[38;5;28misinstance\u001b[39m(array_wrapper, NDArrayWrapper):\n\u001b[1;32m    414\u001b[0m     \u001b[38;5;28mself\u001b[39m\u001b[38;5;241m.\u001b[39mcompat_mode \u001b[38;5;241m=\u001b[39m \u001b[38;5;28;01mTrue\u001b[39;00m\n\u001b[0;32m--> 415\u001b[0m \u001b[38;5;28mself\u001b[39m\u001b[38;5;241m.\u001b[39mstack\u001b[38;5;241m.\u001b[39mappend(\u001b[43marray_wrapper\u001b[49m\u001b[38;5;241;43m.\u001b[39;49m\u001b[43mread\u001b[49m\u001b[43m(\u001b[49m\u001b[38;5;28;43mself\u001b[39;49m\u001b[43m)\u001b[49m)\n",
      "File \u001b[0;32m~/SageMaker/totalloss_HDI/totallosshdi/lib/python3.10/site-packages/joblib/numpy_pickle.py:252\u001b[0m, in \u001b[0;36mNumpyArrayWrapper.read\u001b[0;34m(self, unpickler)\u001b[0m\n\u001b[1;32m    250\u001b[0m     array \u001b[38;5;241m=\u001b[39m \u001b[38;5;28mself\u001b[39m\u001b[38;5;241m.\u001b[39mread_mmap(unpickler)\n\u001b[1;32m    251\u001b[0m \u001b[38;5;28;01melse\u001b[39;00m:\n\u001b[0;32m--> 252\u001b[0m     array \u001b[38;5;241m=\u001b[39m \u001b[38;5;28;43mself\u001b[39;49m\u001b[38;5;241;43m.\u001b[39;49m\u001b[43mread_array\u001b[49m\u001b[43m(\u001b[49m\u001b[43munpickler\u001b[49m\u001b[43m)\u001b[49m\n\u001b[1;32m    254\u001b[0m \u001b[38;5;66;03m# Manage array subclass case\u001b[39;00m\n\u001b[1;32m    255\u001b[0m \u001b[38;5;28;01mif\u001b[39;00m (\u001b[38;5;28mhasattr\u001b[39m(array, \u001b[38;5;124m'\u001b[39m\u001b[38;5;124m__array_prepare__\u001b[39m\u001b[38;5;124m'\u001b[39m) \u001b[38;5;129;01mand\u001b[39;00m\n\u001b[1;32m    256\u001b[0m     \u001b[38;5;28mself\u001b[39m\u001b[38;5;241m.\u001b[39msubclass \u001b[38;5;129;01mnot\u001b[39;00m \u001b[38;5;129;01min\u001b[39;00m (unpickler\u001b[38;5;241m.\u001b[39mnp\u001b[38;5;241m.\u001b[39mndarray,\n\u001b[1;32m    257\u001b[0m                           unpickler\u001b[38;5;241m.\u001b[39mnp\u001b[38;5;241m.\u001b[39mmemmap)):\n\u001b[1;32m    258\u001b[0m     \u001b[38;5;66;03m# We need to reconstruct another subclass\u001b[39;00m\n",
      "File \u001b[0;32m~/SageMaker/totalloss_HDI/totallosshdi/lib/python3.10/site-packages/joblib/numpy_pickle.py:152\u001b[0m, in \u001b[0;36mNumpyArrayWrapper.read_array\u001b[0;34m(self, unpickler)\u001b[0m\n\u001b[1;32m    149\u001b[0m \u001b[38;5;66;03m# Now read the actual data.\u001b[39;00m\n\u001b[1;32m    150\u001b[0m \u001b[38;5;28;01mif\u001b[39;00m \u001b[38;5;28mself\u001b[39m\u001b[38;5;241m.\u001b[39mdtype\u001b[38;5;241m.\u001b[39mhasobject:\n\u001b[1;32m    151\u001b[0m     \u001b[38;5;66;03m# The array contained Python objects. We need to unpickle the data.\u001b[39;00m\n\u001b[0;32m--> 152\u001b[0m     array \u001b[38;5;241m=\u001b[39m \u001b[43mpickle\u001b[49m\u001b[38;5;241;43m.\u001b[39;49m\u001b[43mload\u001b[49m\u001b[43m(\u001b[49m\u001b[43munpickler\u001b[49m\u001b[38;5;241;43m.\u001b[39;49m\u001b[43mfile_handle\u001b[49m\u001b[43m)\u001b[49m\n\u001b[1;32m    153\u001b[0m \u001b[38;5;28;01melse\u001b[39;00m:\n\u001b[1;32m    154\u001b[0m     numpy_array_alignment_bytes \u001b[38;5;241m=\u001b[39m \\\n\u001b[1;32m    155\u001b[0m         \u001b[38;5;28mself\u001b[39m\u001b[38;5;241m.\u001b[39msafe_get_numpy_array_alignment_bytes()\n",
      "\u001b[0;31mModuleNotFoundError\u001b[0m: No module named 'numpy._core'"
     ]
    }
   ],
   "source": [
    "X_nuevo = df.drop(columns=['placa','siniestro','poliza','Amparo','estado_siniestro','color','Codigo'])\n",
    "\n",
    "\n",
    "optuned_model = joblib.load('co_totalloss_5.joblib')"
   ]
  },
  {
   "cell_type": "code",
   "execution_count": null,
   "id": "4a5e1d72-9d37-4955-99ea-faed9d23aa07",
   "metadata": {
    "papermill": {
     "duration": null,
     "end_time": null,
     "exception": null,
     "start_time": null,
     "status": "pending"
    },
    "tags": []
   },
   "outputs": [],
   "source": []
  },
  {
   "cell_type": "code",
   "execution_count": null,
   "id": "0bfaa6bc-3fbe-4786-bf60-3443d0f513dc",
   "metadata": {
    "papermill": {
     "duration": null,
     "end_time": null,
     "exception": null,
     "start_time": null,
     "status": "pending"
    },
    "tags": []
   },
   "outputs": [],
   "source": [
    "X_nuevo"
   ]
  },
  {
   "cell_type": "code",
   "execution_count": null,
   "id": "d87e3b17-76ee-41d9-8fd0-1de5366e6348",
   "metadata": {
    "papermill": {
     "duration": null,
     "end_time": null,
     "exception": null,
     "start_time": null,
     "status": "pending"
    },
    "tags": []
   },
   "outputs": [],
   "source": []
  },
  {
   "cell_type": "code",
   "execution_count": null,
   "id": "0aadfbc9-f03b-4852-bac5-463cdc62b12a",
   "metadata": {
    "papermill": {
     "duration": null,
     "end_time": null,
     "exception": null,
     "start_time": null,
     "status": "pending"
    },
    "tags": []
   },
   "outputs": [],
   "source": []
  },
  {
   "cell_type": "code",
   "execution_count": null,
   "id": "b79703af-a029-495f-9e0a-c0d2522f9457",
   "metadata": {
    "papermill": {
     "duration": null,
     "end_time": null,
     "exception": null,
     "start_time": null,
     "status": "pending"
    },
    "tags": []
   },
   "outputs": [],
   "source": [
    "probas_nuevo = optuned_model.predict_proba(X_nuevo)"
   ]
  },
  {
   "cell_type": "code",
   "execution_count": null,
   "id": "c29eb172-0dce-4fb5-93fd-cf8dbd26452c",
   "metadata": {
    "papermill": {
     "duration": null,
     "end_time": null,
     "exception": null,
     "start_time": null,
     "status": "pending"
    },
    "tags": []
   },
   "outputs": [],
   "source": [
    "df['Probabilidades'] = probas_nuevo[:, 1]\n",
    "\n",
    "df = df.sort_values(by=['Probabilidades'], ascending=False)\n",
    "df.to_excel('prueba_4.xlsx', index=False)"
   ]
  },
  {
   "cell_type": "code",
   "execution_count": null,
   "id": "c810b837-8fde-4e12-9084-62c681758d7d",
   "metadata": {
    "papermill": {
     "duration": null,
     "end_time": null,
     "exception": null,
     "start_time": null,
     "status": "pending"
    },
    "tags": []
   },
   "outputs": [],
   "source": []
  }
 ],
 "metadata": {
  "kernelspec": {
   "display_name": "totallosshdi",
   "language": "python",
   "name": "totallosshdi"
  },
  "language_info": {
   "codemirror_mode": {
    "name": "ipython",
    "version": 3
   },
   "file_extension": ".py",
   "mimetype": "text/x-python",
   "name": "python",
   "nbconvert_exporter": "python",
   "pygments_lexer": "ipython3",
   "version": "3.10.8"
  },
  "papermill": {
   "default_parameters": {},
   "duration": 5.357678,
   "end_time": "2024-12-27T14:13:10.311549",
   "environment_variables": {},
   "exception": true,
   "input_path": "Total_loss_HDI_exacto.ipynb",
   "output_path": "Total_loss_HDI_exacto.ipynb",
   "parameters": {},
   "start_time": "2024-12-27T14:13:04.953871",
   "version": "2.6.0"
  }
 },
 "nbformat": 4,
 "nbformat_minor": 5
}
