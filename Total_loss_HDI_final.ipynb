{
 "cells": [
  {
   "cell_type": "markdown",
   "id": "f697fa09",
   "metadata": {
    "tags": [
     "papermill-error-cell-tag"
    ]
   },
   "source": [
    "<span style=\"color:red; font-family:Helvetica Neue, Helvetica, Arial, sans-serif; font-size:2em;\">An Exception was encountered at '<a href=\"#papermill-error-cell\">In [3]</a>'.</span>"
   ]
  },
  {
   "cell_type": "code",
   "execution_count": 1,
   "id": "24b2c1ae-3a5d-4eae-95c2-7c9c408ff774",
   "metadata": {
    "papermill": {
     "duration": 0.308284,
     "end_time": "2025-01-17T17:58:35.603786",
     "exception": false,
     "start_time": "2025-01-17T17:58:35.295502",
     "status": "completed"
    },
    "tags": []
   },
   "outputs": [],
   "source": [
    "import pandas as pd\n",
    "import joblib"
   ]
  },
  {
   "cell_type": "code",
   "execution_count": 2,
   "id": "55076738-b456-4bd3-aea7-a655e6a49b9b",
   "metadata": {
    "papermill": {
     "duration": 0.007368,
     "end_time": "2025-01-17T17:58:35.614978",
     "exception": false,
     "start_time": "2025-01-17T17:58:35.607610",
     "status": "completed"
    },
    "tags": []
   },
   "outputs": [],
   "source": [
    "dtype_types = {\n",
    "    'Amparo': object ,\n",
    "    'placa':object ,\n",
    "    'siniestro': int,\n",
    "    'poliza': int,\n",
    "    'estado_siniestro': object ,\n",
    "    'causa_siniestro': object ,\n",
    "    'cod_marca': int,\n",
    "    'cod_clase': int,\n",
    "    'cod_tipo': int,\n",
    "    'modelo': int,\n",
    "    'valor_asegurado_sin_acc': float,\n",
    "    'valor_veh_fasecolda': int,\n",
    "    'valor_accesorios': int,\n",
    "    'color': object,\n",
    "    'descripcion': object\n",
    "}"
   ]
  },
  {
   "cell_type": "markdown",
   "id": "a1e5f14b",
   "metadata": {
    "tags": [
     "papermill-error-cell-tag"
    ]
   },
   "source": [
    "<span id=\"papermill-error-cell\" style=\"color:red; font-family:Helvetica Neue, Helvetica, Arial, sans-serif; font-size:2em;\">Execution using papermill encountered an exception here and stopped:</span>"
   ]
  },
  {
   "cell_type": "code",
   "execution_count": 3,
   "id": "edc6eff7-cc03-4139-8b32-adffdf6ed3b8",
   "metadata": {
    "papermill": {
     "duration": 0.379945,
     "end_time": "2025-01-17T17:58:35.997277",
     "exception": true,
     "start_time": "2025-01-17T17:58:35.617332",
     "status": "failed"
    },
    "tags": []
   },
   "outputs": [
    {
     "name": "stdout",
     "output_type": "stream",
     "text": [
      "<class 'pandas.core.frame.DataFrame'>\n",
      "RangeIndex: 13 entries, 0 to 12\n",
      "Data columns (total 15 columns):\n",
      " #   Column                   Non-Null Count  Dtype  \n",
      "---  ------                   --------------  -----  \n",
      " 0   Amparo                   13 non-null     object \n",
      " 1   placa                    1 non-null      object \n",
      " 2   siniestro                13 non-null     int64  \n",
      " 3   poliza                   13 non-null     int64  \n",
      " 4   estado_siniestro         13 non-null     object \n",
      " 5   causa_siniestro          13 non-null     object \n",
      " 6   cod_marca                13 non-null     int64  \n",
      " 7   cod_clase                13 non-null     int64  \n",
      " 8   cod_tipo                 13 non-null     int64  \n",
      " 9   modelo                   1 non-null      float64\n",
      " 10  valor_asegurado_sin_acc  13 non-null     int64  \n",
      " 11  valor_veh_fasecolda      13 non-null     int64  \n",
      " 12  valor_accesorios         13 non-null     int64  \n",
      " 13  color                    13 non-null     object \n",
      " 14  descripcion              13 non-null     object \n",
      "dtypes: float64(1), int64(8), object(6)\n",
      "memory usage: 1.6+ KB\n"
     ]
    }
   ],
   "source": [
    "df = pd.read_excel(\n",
    "    'prueba.xlsx', #dtype=dtype_types\n",
    "   # index_col=0\n",
    ")\n",
    "\n",
    "df.info()"
   ]
  },
  {
   "cell_type": "markdown",
   "id": "b28749bd-e8bd-4b81-b012-3c4b2403e12e",
   "metadata": {
    "papermill": {
     "duration": null,
     "end_time": null,
     "exception": null,
     "start_time": null,
     "status": "pending"
    },
    "tags": []
   },
   "source": [
    "#### Pre"
   ]
  },
  {
   "cell_type": "code",
   "execution_count": 4,
   "id": "1c1fc119-ca1c-450b-b592-6754cd977e27",
   "metadata": {
    "papermill": {
     "duration": null,
     "end_time": null,
     "exception": null,
     "start_time": null,
     "status": "pending"
    },
    "tags": []
   },
   "outputs": [],
   "source": [
    "df['descripcion']=df['descripcion'].str.lower()\n",
    "df['descripcion']=df['descripcion'].str.replace(\"(?i)contact center.*?;\", \"\", regex=True)\n",
    "df['descripcion']=df['descripcion'].str.replace(\"(?i)contac center.*?;\", \"\", regex=True)\n",
    "df['descripcion']=df['descripcion'].str.replace(\"(?i)contactcenter.*?;\", \"\", regex=True)\n",
    "df['descripcion']=df['descripcion'].str.replace(\"(?i)contaccenter.*?;\", \"\", regex=True)\n",
    "\n",
    "df['descripcion']=df['descripcion'].str.replace(\"(?i)contact.*?;\", \"\", regex=True)\n",
    "df['descripcion']=df['descripcion'].str.replace(\"(?i)contac.*?;\", \"\", regex=True)\n",
    "\n",
    "\n",
    "\n",
    "df['descripcion']=df['descripcion'].str.replace(\"(?i)call center.*?;\", \"\", regex=True)\n",
    "df['descripcion']=df['descripcion'].str.replace(\"(?i)callcenter.*?;\", \"\", regex=True)\n",
    "df['descripcion']=df['descripcion'].str.replace(\"(?i)cal center.*?;\", \"\", regex=True)\n",
    "df['descripcion']=df['descripcion'].str.replace(\"(?i)call centr.*?;\", \"\", regex=True)\n",
    "\n",
    "\n",
    "df['descripcion']=df['descripcion'].str.replace(\"(?i)cente.*?;\", \"\", regex=True)\n"
   ]
  },
  {
   "cell_type": "code",
   "execution_count": 5,
   "id": "2dc9c0f8-c55e-4531-84e9-6d8c9adac4aa",
   "metadata": {
    "papermill": {
     "duration": null,
     "end_time": null,
     "exception": null,
     "start_time": null,
     "status": "pending"
    },
    "tags": []
   },
   "outputs": [
    {
     "data": {
      "text/plain": [
       "0                                          410900039975\n",
       "1                                          410900044821\n",
       "2     4109000453314109000460624109000460624109000460...\n",
       "3                  410900047214410900048284410900048284\n",
       "4     4109000490264109000494954109000494954109000503...\n",
       "5     4109000508194109000508194109000508194109000508...\n",
       "6     4109000526614109000526614109000526614109000528...\n",
       "7     4109000545334109000545334109000545764109000545...\n",
       "8     4109000564324109000565134109000565134109000565...\n",
       "9                                          410900058545\n",
       "10    plantilla reporte hdi por sipo manual    decla...\n",
       "11                                       3-13-13-233083\n",
       "12    24/12/24 chat se comunica luz díaz de la funda...\n",
       "Name: descripcion, dtype: object"
      ]
     },
     "execution_count": 5,
     "metadata": {},
     "output_type": "execute_result"
    }
   ],
   "source": [
    "df['descripcion']"
   ]
  },
  {
   "cell_type": "code",
   "execution_count": 6,
   "id": "a0c47b6b-b537-4d67-8373-75013b76b9dc",
   "metadata": {
    "papermill": {
     "duration": null,
     "end_time": null,
     "exception": null,
     "start_time": null,
     "status": "pending"
    },
    "tags": []
   },
   "outputs": [
    {
     "data": {
      "text/plain": [
       "0     00601155\n",
       "1     06212009\n",
       "2     05601143\n",
       "3     09021052\n",
       "4     01604072\n",
       "5     02922011\n",
       "6     16721025\n",
       "7     03712091\n",
       "8     04422007\n",
       "9     04422007\n",
       "10    04422006\n",
       "11    06421072\n",
       "12    06401228\n",
       "Name: Codigo, dtype: object"
      ]
     },
     "execution_count": 6,
     "metadata": {},
     "output_type": "execute_result"
    }
   ],
   "source": [
    "df[\"Codigo\"]=df[\"cod_marca\"].astype(\"str\").str.zfill(3)+df[\"cod_clase\"].astype(\"str\").str.zfill(5)\n",
    "df[\"Codigo\"]"
   ]
  },
  {
   "cell_type": "code",
   "execution_count": 7,
   "id": "e0083ad3-be55-45f6-9791-cfb346837876",
   "metadata": {
    "papermill": {
     "duration": null,
     "end_time": null,
     "exception": null,
     "start_time": null,
     "status": "pending"
    },
    "tags": []
   },
   "outputs": [],
   "source": [
    "fase=pd.read_csv(\"Guia_CSV_333.csv\")\n",
    "fase[\"Codigo\"]=fase[\"Codigo\"].astype(\"str\").str.zfill(8)"
   ]
  },
  {
   "cell_type": "code",
   "execution_count": 8,
   "id": "673b907f-651f-4192-8aa6-f26b3a43f577",
   "metadata": {
    "papermill": {
     "duration": null,
     "end_time": null,
     "exception": null,
     "start_time": null,
     "status": "pending"
    },
    "tags": []
   },
   "outputs": [
    {
     "data": {
      "text/plain": [
       "0        00101001\n",
       "1        00208003\n",
       "2        00208004\n",
       "3        00206001\n",
       "4        00301001\n",
       "           ...   \n",
       "16873    46717001\n",
       "16874    46817001\n",
       "16875    46817002\n",
       "16876    46925001\n",
       "16877    47022001\n",
       "Name: Codigo, Length: 16878, dtype: object"
      ]
     },
     "execution_count": 8,
     "metadata": {},
     "output_type": "execute_result"
    }
   ],
   "source": [
    "fase[\"Codigo\"]"
   ]
  },
  {
   "cell_type": "code",
   "execution_count": 9,
   "id": "5c11afc1-a559-4214-88eb-f69f8679b28d",
   "metadata": {
    "papermill": {
     "duration": null,
     "end_time": null,
     "exception": null,
     "start_time": null,
     "status": "pending"
    },
    "tags": []
   },
   "outputs": [],
   "source": [
    "fase_2 = fase[['Codigo', 'Peso', 'Transmision', 'Cilindraje', 'Nacionalidad','CapacidadPasajeros', 'CapacidadCarga']]\n",
    "df = pd.merge(df, fase_2, on='Codigo', how='left')"
   ]
  },
  {
   "cell_type": "code",
   "execution_count": 10,
   "id": "787e068f-7e58-4661-bf14-c84a3285df7b",
   "metadata": {
    "papermill": {
     "duration": null,
     "end_time": null,
     "exception": null,
     "start_time": null,
     "status": "pending"
    },
    "tags": []
   },
   "outputs": [
    {
     "name": "stdout",
     "output_type": "stream",
     "text": [
      "<class 'pandas.core.frame.DataFrame'>\n",
      "RangeIndex: 13 entries, 0 to 12\n",
      "Data columns (total 22 columns):\n",
      " #   Column                   Non-Null Count  Dtype  \n",
      "---  ------                   --------------  -----  \n",
      " 0   Amparo                   13 non-null     object \n",
      " 1   placa                    1 non-null      object \n",
      " 2   siniestro                13 non-null     int64  \n",
      " 3   poliza                   13 non-null     int64  \n",
      " 4   estado_siniestro         13 non-null     object \n",
      " 5   causa_siniestro          13 non-null     object \n",
      " 6   cod_marca                13 non-null     int64  \n",
      " 7   cod_clase                13 non-null     int64  \n",
      " 8   cod_tipo                 13 non-null     int64  \n",
      " 9   modelo                   1 non-null      float64\n",
      " 10  valor_asegurado_sin_acc  13 non-null     int64  \n",
      " 11  valor_veh_fasecolda      13 non-null     int64  \n",
      " 12  valor_accesorios         13 non-null     int64  \n",
      " 13  color                    13 non-null     object \n",
      " 14  descripcion              13 non-null     object \n",
      " 15  Codigo                   13 non-null     object \n",
      " 16  Peso                     13 non-null     int64  \n",
      " 17  Transmision              13 non-null     object \n",
      " 18  Cilindraje               13 non-null     int64  \n",
      " 19  Nacionalidad             13 non-null     object \n",
      " 20  CapacidadPasajeros       13 non-null     int64  \n",
      " 21  CapacidadCarga           13 non-null     int64  \n",
      "dtypes: float64(1), int64(12), object(9)\n",
      "memory usage: 2.4+ KB\n"
     ]
    }
   ],
   "source": [
    "df.info()"
   ]
  },
  {
   "cell_type": "code",
   "execution_count": null,
   "id": "ad26aeb1-7d0b-4d93-ba11-5631cbe7d5f4",
   "metadata": {
    "papermill": {
     "duration": null,
     "end_time": null,
     "exception": null,
     "start_time": null,
     "status": "pending"
    },
    "tags": []
   },
   "outputs": [],
   "source": []
  },
  {
   "cell_type": "code",
   "execution_count": null,
   "id": "711a38cb-fa0a-4fb0-b520-f915b7afcdf6",
   "metadata": {
    "papermill": {
     "duration": null,
     "end_time": null,
     "exception": null,
     "start_time": null,
     "status": "pending"
    },
    "tags": []
   },
   "outputs": [],
   "source": []
  },
  {
   "cell_type": "code",
   "execution_count": 11,
   "id": "944d5385-d917-4990-a372-f7702abd7afe",
   "metadata": {
    "papermill": {
     "duration": null,
     "end_time": null,
     "exception": null,
     "start_time": null,
     "status": "pending"
    },
    "tags": []
   },
   "outputs": [
    {
     "name": "stderr",
     "output_type": "stream",
     "text": [
      "/home/ec2-user/SageMaker/co-totallosshdi/totallosshdi/lib/python3.10/site-packages/tqdm/auto.py:21: TqdmWarning: IProgress not found. Please update jupyter and ipywidgets. See https://ipywidgets.readthedocs.io/en/stable/user_install.html\n",
      "  from .autonotebook import tqdm as notebook_tqdm\n"
     ]
    }
   ],
   "source": [
    "X_nuevo = df.drop(columns=['placa','siniestro','poliza','Amparo','estado_siniestro','color','Codigo'])\n",
    "\n",
    "\n",
    "optuned_model = joblib.load('co_totallosshdi.joblib')"
   ]
  },
  {
   "cell_type": "code",
   "execution_count": null,
   "id": "4a5e1d72-9d37-4955-99ea-faed9d23aa07",
   "metadata": {
    "papermill": {
     "duration": null,
     "end_time": null,
     "exception": null,
     "start_time": null,
     "status": "pending"
    },
    "tags": []
   },
   "outputs": [],
   "source": []
  },
  {
   "cell_type": "code",
   "execution_count": 12,
   "id": "0bfaa6bc-3fbe-4786-bf60-3443d0f513dc",
   "metadata": {
    "papermill": {
     "duration": null,
     "end_time": null,
     "exception": null,
     "start_time": null,
     "status": "pending"
    },
    "tags": []
   },
   "outputs": [
    {
     "data": {
      "text/html": [
       "<div>\n",
       "<style scoped>\n",
       "    .dataframe tbody tr th:only-of-type {\n",
       "        vertical-align: middle;\n",
       "    }\n",
       "\n",
       "    .dataframe tbody tr th {\n",
       "        vertical-align: top;\n",
       "    }\n",
       "\n",
       "    .dataframe thead th {\n",
       "        text-align: right;\n",
       "    }\n",
       "</style>\n",
       "<table border=\"1\" class=\"dataframe\">\n",
       "  <thead>\n",
       "    <tr style=\"text-align: right;\">\n",
       "      <th></th>\n",
       "      <th>causa_siniestro</th>\n",
       "      <th>cod_marca</th>\n",
       "      <th>cod_clase</th>\n",
       "      <th>cod_tipo</th>\n",
       "      <th>modelo</th>\n",
       "      <th>valor_asegurado_sin_acc</th>\n",
       "      <th>valor_veh_fasecolda</th>\n",
       "      <th>valor_accesorios</th>\n",
       "      <th>descripcion</th>\n",
       "      <th>Peso</th>\n",
       "      <th>Transmision</th>\n",
       "      <th>Cilindraje</th>\n",
       "      <th>Nacionalidad</th>\n",
       "      <th>CapacidadPasajeros</th>\n",
       "      <th>CapacidadCarga</th>\n",
       "    </tr>\n",
       "  </thead>\n",
       "  <tbody>\n",
       "    <tr>\n",
       "      <th>0</th>\n",
       "      <td>DISTRACCION DEL CONDUCTOR</td>\n",
       "      <td>6</td>\n",
       "      <td>1155</td>\n",
       "      <td>1</td>\n",
       "      <td>NaN</td>\n",
       "      <td>56200000</td>\n",
       "      <td>43700000</td>\n",
       "      <td>0</td>\n",
       "      <td>410900039975</td>\n",
       "      <td>1225</td>\n",
       "      <td>4X2</td>\n",
       "      <td>1390</td>\n",
       "      <td>ALE</td>\n",
       "      <td>5</td>\n",
       "      <td>0</td>\n",
       "    </tr>\n",
       "    <tr>\n",
       "      <th>1</th>\n",
       "      <td>OBSTACULOS EN LA VIA</td>\n",
       "      <td>62</td>\n",
       "      <td>12009</td>\n",
       "      <td>12</td>\n",
       "      <td>NaN</td>\n",
       "      <td>61100000</td>\n",
       "      <td>61100000</td>\n",
       "      <td>0</td>\n",
       "      <td>410900044821</td>\n",
       "      <td>2535</td>\n",
       "      <td>4X2</td>\n",
       "      <td>3908</td>\n",
       "      <td>JAP</td>\n",
       "      <td>2</td>\n",
       "      <td>4965</td>\n",
       "    </tr>\n",
       "    <tr>\n",
       "      <th>2</th>\n",
       "      <td>HURTO - ACCESORIOS Y/O PARTES</td>\n",
       "      <td>56</td>\n",
       "      <td>1143</td>\n",
       "      <td>1</td>\n",
       "      <td>NaN</td>\n",
       "      <td>65500000</td>\n",
       "      <td>62800000</td>\n",
       "      <td>170000</td>\n",
       "      <td>4109000453314109000460624109000460624109000460...</td>\n",
       "      <td>1320</td>\n",
       "      <td>4X2</td>\n",
       "      <td>1998</td>\n",
       "      <td>MEX</td>\n",
       "      <td>5</td>\n",
       "      <td>0</td>\n",
       "    </tr>\n",
       "    <tr>\n",
       "      <th>3</th>\n",
       "      <td>DISTRACCION DEL CONDUCTOR</td>\n",
       "      <td>90</td>\n",
       "      <td>21052</td>\n",
       "      <td>21</td>\n",
       "      <td>NaN</td>\n",
       "      <td>118700000</td>\n",
       "      <td>103500000</td>\n",
       "      <td>0</td>\n",
       "      <td>410900047214410900048284410900048284</td>\n",
       "      <td>1810</td>\n",
       "      <td>4X4</td>\n",
       "      <td>2494</td>\n",
       "      <td>TAI</td>\n",
       "      <td>5</td>\n",
       "      <td>0</td>\n",
       "    </tr>\n",
       "    <tr>\n",
       "      <th>4</th>\n",
       "      <td>FALLA MECANICA</td>\n",
       "      <td>16</td>\n",
       "      <td>4072</td>\n",
       "      <td>4</td>\n",
       "      <td>NaN</td>\n",
       "      <td>125500000</td>\n",
       "      <td>125500000</td>\n",
       "      <td>0</td>\n",
       "      <td>4109000490264109000494954109000494954109000503...</td>\n",
       "      <td>3120</td>\n",
       "      <td>4X2</td>\n",
       "      <td>5193</td>\n",
       "      <td>COL</td>\n",
       "      <td>2</td>\n",
       "      <td>7280</td>\n",
       "    </tr>\n",
       "    <tr>\n",
       "      <th>5</th>\n",
       "      <td>OBSTACULOS EN LA VIA</td>\n",
       "      <td>29</td>\n",
       "      <td>22011</td>\n",
       "      <td>22</td>\n",
       "      <td>NaN</td>\n",
       "      <td>214800000</td>\n",
       "      <td>214800000</td>\n",
       "      <td>0</td>\n",
       "      <td>4109000508194109000508194109000508194109000508...</td>\n",
       "      <td>7634</td>\n",
       "      <td>6X4</td>\n",
       "      <td>12700</td>\n",
       "      <td>MEX</td>\n",
       "      <td>2</td>\n",
       "      <td>19854</td>\n",
       "    </tr>\n",
       "    <tr>\n",
       "      <th>6</th>\n",
       "      <td>DISTRACCION DEL CONDUCTOR</td>\n",
       "      <td>167</td>\n",
       "      <td>21025</td>\n",
       "      <td>21</td>\n",
       "      <td>NaN</td>\n",
       "      <td>53900000</td>\n",
       "      <td>47200000</td>\n",
       "      <td>0</td>\n",
       "      <td>4109000526614109000526614109000526614109000528...</td>\n",
       "      <td>1660</td>\n",
       "      <td>4X2</td>\n",
       "      <td>2378</td>\n",
       "      <td>CHI</td>\n",
       "      <td>5</td>\n",
       "      <td>805</td>\n",
       "    </tr>\n",
       "    <tr>\n",
       "      <th>7</th>\n",
       "      <td>HURTO - ACCESORIOS Y/O PARTES</td>\n",
       "      <td>37</td>\n",
       "      <td>12091</td>\n",
       "      <td>12</td>\n",
       "      <td>NaN</td>\n",
       "      <td>100000000</td>\n",
       "      <td>100000000</td>\n",
       "      <td>0</td>\n",
       "      <td>4109000545334109000545334109000545764109000545...</td>\n",
       "      <td>2960</td>\n",
       "      <td>4X2</td>\n",
       "      <td>5123</td>\n",
       "      <td>JAP</td>\n",
       "      <td>2</td>\n",
       "      <td>7440</td>\n",
       "    </tr>\n",
       "    <tr>\n",
       "      <th>8</th>\n",
       "      <td>DISTRACCION DEL CONDUCTOR</td>\n",
       "      <td>44</td>\n",
       "      <td>22007</td>\n",
       "      <td>22</td>\n",
       "      <td>NaN</td>\n",
       "      <td>228500000</td>\n",
       "      <td>228500000</td>\n",
       "      <td>0</td>\n",
       "      <td>4109000564324109000565134109000565134109000565...</td>\n",
       "      <td>0</td>\n",
       "      <td>6X4</td>\n",
       "      <td>0</td>\n",
       "      <td>MEX</td>\n",
       "      <td>2</td>\n",
       "      <td>0</td>\n",
       "    </tr>\n",
       "    <tr>\n",
       "      <th>9</th>\n",
       "      <td>OBSTACULOS EN LA VIA</td>\n",
       "      <td>44</td>\n",
       "      <td>22007</td>\n",
       "      <td>22</td>\n",
       "      <td>NaN</td>\n",
       "      <td>269000000</td>\n",
       "      <td>269000000</td>\n",
       "      <td>0</td>\n",
       "      <td>410900058545</td>\n",
       "      <td>0</td>\n",
       "      <td>6X4</td>\n",
       "      <td>0</td>\n",
       "      <td>MEX</td>\n",
       "      <td>2</td>\n",
       "      <td>0</td>\n",
       "    </tr>\n",
       "    <tr>\n",
       "      <th>10</th>\n",
       "      <td>DISTRACCION DEL CONDUCTOR</td>\n",
       "      <td>44</td>\n",
       "      <td>22006</td>\n",
       "      <td>22</td>\n",
       "      <td>2008.0</td>\n",
       "      <td>195700000</td>\n",
       "      <td>195700000</td>\n",
       "      <td>0</td>\n",
       "      <td>plantilla reporte hdi por sipo manual    decla...</td>\n",
       "      <td>0</td>\n",
       "      <td>6X4</td>\n",
       "      <td>0</td>\n",
       "      <td>MEX</td>\n",
       "      <td>2</td>\n",
       "      <td>0</td>\n",
       "    </tr>\n",
       "    <tr>\n",
       "      <th>11</th>\n",
       "      <td>DISTRACCION DEL CONDUCTOR</td>\n",
       "      <td>64</td>\n",
       "      <td>21072</td>\n",
       "      <td>21</td>\n",
       "      <td>NaN</td>\n",
       "      <td>138100000</td>\n",
       "      <td>125900000</td>\n",
       "      <td>4230000</td>\n",
       "      <td>3-13-13-233083</td>\n",
       "      <td>1875</td>\n",
       "      <td>4X4</td>\n",
       "      <td>2500</td>\n",
       "      <td>MEX</td>\n",
       "      <td>5</td>\n",
       "      <td>1035</td>\n",
       "    </tr>\n",
       "    <tr>\n",
       "      <th>12</th>\n",
       "      <td>DISTRACCION DEL CONDUCTOR</td>\n",
       "      <td>64</td>\n",
       "      <td>1228</td>\n",
       "      <td>1</td>\n",
       "      <td>NaN</td>\n",
       "      <td>51800000</td>\n",
       "      <td>45600000</td>\n",
       "      <td>0</td>\n",
       "      <td>24/12/24 chat se comunica luz díaz de la funda...</td>\n",
       "      <td>1450</td>\n",
       "      <td>4X2</td>\n",
       "      <td>1600</td>\n",
       "      <td>MEX</td>\n",
       "      <td>5</td>\n",
       "      <td>0</td>\n",
       "    </tr>\n",
       "  </tbody>\n",
       "</table>\n",
       "</div>"
      ],
      "text/plain": [
       "                  causa_siniestro  cod_marca  cod_clase  cod_tipo  modelo  \\\n",
       "0       DISTRACCION DEL CONDUCTOR          6       1155         1     NaN   \n",
       "1            OBSTACULOS EN LA VIA         62      12009        12     NaN   \n",
       "2   HURTO - ACCESORIOS Y/O PARTES         56       1143         1     NaN   \n",
       "3       DISTRACCION DEL CONDUCTOR         90      21052        21     NaN   \n",
       "4                  FALLA MECANICA         16       4072         4     NaN   \n",
       "5            OBSTACULOS EN LA VIA         29      22011        22     NaN   \n",
       "6       DISTRACCION DEL CONDUCTOR        167      21025        21     NaN   \n",
       "7   HURTO - ACCESORIOS Y/O PARTES         37      12091        12     NaN   \n",
       "8       DISTRACCION DEL CONDUCTOR         44      22007        22     NaN   \n",
       "9            OBSTACULOS EN LA VIA         44      22007        22     NaN   \n",
       "10      DISTRACCION DEL CONDUCTOR         44      22006        22  2008.0   \n",
       "11      DISTRACCION DEL CONDUCTOR         64      21072        21     NaN   \n",
       "12      DISTRACCION DEL CONDUCTOR         64       1228         1     NaN   \n",
       "\n",
       "    valor_asegurado_sin_acc  valor_veh_fasecolda  valor_accesorios  \\\n",
       "0                  56200000             43700000                 0   \n",
       "1                  61100000             61100000                 0   \n",
       "2                  65500000             62800000            170000   \n",
       "3                 118700000            103500000                 0   \n",
       "4                 125500000            125500000                 0   \n",
       "5                 214800000            214800000                 0   \n",
       "6                  53900000             47200000                 0   \n",
       "7                 100000000            100000000                 0   \n",
       "8                 228500000            228500000                 0   \n",
       "9                 269000000            269000000                 0   \n",
       "10                195700000            195700000                 0   \n",
       "11                138100000            125900000           4230000   \n",
       "12                 51800000             45600000                 0   \n",
       "\n",
       "                                          descripcion  Peso Transmision  \\\n",
       "0                                        410900039975  1225         4X2   \n",
       "1                                        410900044821  2535         4X2   \n",
       "2   4109000453314109000460624109000460624109000460...  1320         4X2   \n",
       "3                410900047214410900048284410900048284  1810         4X4   \n",
       "4   4109000490264109000494954109000494954109000503...  3120         4X2   \n",
       "5   4109000508194109000508194109000508194109000508...  7634         6X4   \n",
       "6   4109000526614109000526614109000526614109000528...  1660         4X2   \n",
       "7   4109000545334109000545334109000545764109000545...  2960         4X2   \n",
       "8   4109000564324109000565134109000565134109000565...     0         6X4   \n",
       "9                                        410900058545     0         6X4   \n",
       "10  plantilla reporte hdi por sipo manual    decla...     0         6X4   \n",
       "11                                     3-13-13-233083  1875         4X4   \n",
       "12  24/12/24 chat se comunica luz díaz de la funda...  1450         4X2   \n",
       "\n",
       "    Cilindraje Nacionalidad  CapacidadPasajeros  CapacidadCarga  \n",
       "0         1390          ALE                   5               0  \n",
       "1         3908          JAP                   2            4965  \n",
       "2         1998          MEX                   5               0  \n",
       "3         2494          TAI                   5               0  \n",
       "4         5193          COL                   2            7280  \n",
       "5        12700          MEX                   2           19854  \n",
       "6         2378          CHI                   5             805  \n",
       "7         5123          JAP                   2            7440  \n",
       "8            0          MEX                   2               0  \n",
       "9            0          MEX                   2               0  \n",
       "10           0          MEX                   2               0  \n",
       "11        2500          MEX                   5            1035  \n",
       "12        1600          MEX                   5               0  "
      ]
     },
     "execution_count": 12,
     "metadata": {},
     "output_type": "execute_result"
    }
   ],
   "source": [
    "X_nuevo"
   ]
  },
  {
   "cell_type": "code",
   "execution_count": null,
   "id": "d87e3b17-76ee-41d9-8fd0-1de5366e6348",
   "metadata": {
    "papermill": {
     "duration": null,
     "end_time": null,
     "exception": null,
     "start_time": null,
     "status": "pending"
    },
    "tags": []
   },
   "outputs": [],
   "source": []
  },
  {
   "cell_type": "code",
   "execution_count": null,
   "id": "0aadfbc9-f03b-4852-bac5-463cdc62b12a",
   "metadata": {
    "papermill": {
     "duration": null,
     "end_time": null,
     "exception": null,
     "start_time": null,
     "status": "pending"
    },
    "tags": []
   },
   "outputs": [],
   "source": []
  },
  {
   "cell_type": "code",
   "execution_count": 13,
   "id": "b79703af-a029-495f-9e0a-c0d2522f9457",
   "metadata": {
    "papermill": {
     "duration": null,
     "end_time": null,
     "exception": null,
     "start_time": null,
     "status": "pending"
    },
    "tags": []
   },
   "outputs": [],
   "source": [
    "probas_nuevo = optuned_model.predict_proba(X_nuevo)"
   ]
  },
  {
   "cell_type": "code",
   "execution_count": 14,
   "id": "c29eb172-0dce-4fb5-93fd-cf8dbd26452c",
   "metadata": {
    "papermill": {
     "duration": null,
     "end_time": null,
     "exception": null,
     "start_time": null,
     "status": "pending"
    },
    "tags": []
   },
   "outputs": [],
   "source": [
    "df['Probabilidades'] = probas_nuevo[:, 1]\n",
    "\n",
    "df = df.sort_values(by=['Probabilidades'], ascending=False)\n",
    "df.to_excel('prueba_4.xlsx', index=False)"
   ]
  },
  {
   "cell_type": "code",
   "execution_count": null,
   "id": "c810b837-8fde-4e12-9084-62c681758d7d",
   "metadata": {
    "papermill": {
     "duration": null,
     "end_time": null,
     "exception": null,
     "start_time": null,
     "status": "pending"
    },
    "tags": []
   },
   "outputs": [],
   "source": []
  }
 ],
 "metadata": {
  "kernelspec": {
   "display_name": "totallosshdi",
   "language": "python",
   "name": "totallosshdi"
  },
  "language_info": {
   "codemirror_mode": {
    "name": "ipython",
    "version": 3
   },
   "file_extension": ".py",
   "mimetype": "text/x-python",
   "name": "python",
   "nbconvert_exporter": "python",
   "pygments_lexer": "ipython3",
   "version": "3.10.8"
  },
  "papermill": {
   "default_parameters": {},
   "duration": 1.966185,
   "end_time": "2025-01-17T17:58:36.315363",
   "environment_variables": {},
   "exception": true,
   "input_path": "Total_loss_HDI_final.ipynb",
   "output_path": "Total_loss_HDI_final.ipynb",
   "parameters": {},
   "start_time": "2025-01-17T17:58:34.349178",
   "version": "2.6.0"
  }
 },
 "nbformat": 4,
 "nbformat_minor": 5
}
