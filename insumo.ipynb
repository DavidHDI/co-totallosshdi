{
 "cells": [
  {
   "cell_type": "code",
   "execution_count": 1,
   "id": "e851a0a6-0e4f-4a7c-a06c-1a7be50b6528",
   "metadata": {
    "execution": {
     "iopub.execute_input": "2025-01-15T15:08:24.509425Z",
     "iopub.status.busy": "2025-01-15T15:08:24.509137Z",
     "iopub.status.idle": "2025-01-15T15:10:26.347482Z",
     "shell.execute_reply": "2025-01-15T15:10:26.346913Z"
    },
    "papermill": {
     "duration": 121.851704,
     "end_time": "2025-01-15T15:10:26.353142",
     "exception": false,
     "start_time": "2025-01-15T15:08:24.501438",
     "status": "completed"
    },
    "tags": []
   },
   "outputs": [
    {
     "name": "stdout",
     "output_type": "stream",
     "text": [
      "Intentando conectar al servidor...\n",
      "Conexión establecida con éxito.\n"
     ]
    },
    {
     "name": "stdout",
     "output_type": "stream",
     "text": [
      "Consulta ejecutada correctamente.\n",
      "Resultado de la consulta:\n",
      "  process_id                 process_dt      id_day     compaa  \\\n",
      "0        138 2024-11-28 04:49:02.564414  2020-03-31  Generales   \n",
      "\n",
      "  ramo_tcnicocdigo_sucursalplizanmero_siniestro  cdigo_ramo_tcnico  \\\n",
      "0                      AUTOMOVILES|1|25562|6151                3.0   \n",
      "\n",
      "   ramo_tcnico  cdigo_ramo_comercial ramo_comercial  cdigo_sucursal  ...  \\\n",
      "0  AUTOMOVILES                   3.0    AUTOMOVILES             1.0  ...   \n",
      "\n",
      "       marca              clase tipo_vehiculo   placa  repuestos  mano_obra  \\\n",
      "0  CHEVROLET  C70 149 MT TD 4X2          GRUA  HJI693        0.0        0.0   \n",
      "\n",
      "   total_reparacion  modelo fec_recibo_pago_deducible  \\\n",
      "0               0.0  1985.0                      None   \n",
      "\n",
      "                               detalle_del_siniestro  \n",
      "0  REABIERTO PARA PAGO DE HONORARIOS.********* FA...  \n",
      "\n",
      "[1 rows x 85 columns]\n"
     ]
    }
   ],
   "source": [
    "#prueba de conexion \n",
    "\n",
    "\n",
    "# Importar las librerías necesarias\n",
    "import pandas as pd\n",
    "import sqlalchemy as sa\n",
    "from dwh_secrets import username, password\n",
    "# Configuración del servidor y base de datos\n",
    "DRIVERNAME = 'ODBC Driver 18 for SQL Server'\n",
    "SERVERNAME = 'wdbanal-dwhp01.hdicolombia.com.co'\n",
    "DATABASE = 'Liberty'\n",
    "PORT = '1433'\n",
    "def test_connection():\n",
    "    try:\n",
    "       # Configuración de la conexión\n",
    "        connection_string = sa.engine.url.URL.create(\n",
    "            drivername=\"mssql+pyodbc\",\n",
    "            username=username,\n",
    "            password=password,\n",
    "            host=SERVERNAME,\n",
    "            port=PORT,\n",
    "            database=DATABASE,\n",
    "            query={\"driver\": DRIVERNAME, \"TrustServerCertificate\": \"yes\", \"Encrypt\": \"yes\"}\n",
    "        )\n",
    "        print(\"Intentando conectar al servidor...\")\n",
    "       # Crear el motor y realizar la conexión\n",
    "        engine = sa.create_engine(connection_string)\n",
    "        with engine.connect() as connection:\n",
    "            print(\"Conexión establecida con éxito.\")\n",
    "           # Ejecutar una consulta de prueba\n",
    "            query = \"SELECT TOP 1 * FROM [Liberty_Pruebas_Actuaria].[Attrition].[acc_sise_appgenerali_siniestros_incurridos_fusion]\"\n",
    "            df = pd.read_sql(query, connection)\n",
    "            print(\"Consulta ejecutada correctamente.\")\n",
    "           # Mostrar el resultado\n",
    "            print(\"Resultado de la consulta:\")\n",
    "            print(df)\n",
    "    except Exception as e:\n",
    "        print(f\"Error en la conexión o consulta: {e}\")\n",
    "if __name__ == \"__main__\":\n",
    "    test_connection()"
   ]
  },
  {
   "cell_type": "code",
   "execution_count": null,
   "id": "59cb3254-1e83-4e47-86ab-a34d7b129126",
   "metadata": {
    "papermill": {
     "duration": 0.005458,
     "end_time": "2025-01-15T15:10:26.364294",
     "exception": false,
     "start_time": "2025-01-15T15:10:26.358836",
     "status": "completed"
    },
    "tags": []
   },
   "outputs": [],
   "source": []
  },
  {
   "cell_type": "code",
   "execution_count": 2,
   "id": "62b932c5-4c8c-4a86-83e7-38600a1ab8ca",
   "metadata": {
    "execution": {
     "iopub.execute_input": "2025-01-15T15:10:26.375878Z",
     "iopub.status.busy": "2025-01-15T15:10:26.375535Z",
     "iopub.status.idle": "2025-01-15T15:10:26.434256Z",
     "shell.execute_reply": "2025-01-15T15:10:26.433726Z"
    },
    "papermill": {
     "duration": 0.065645,
     "end_time": "2025-01-15T15:10:26.435252",
     "exception": false,
     "start_time": "2025-01-15T15:10:26.369607",
     "status": "completed"
    },
    "tags": []
   },
   "outputs": [],
   "source": [
    "# Importar las librerías necesarias\n",
    "import pandas as pd\n",
    "import sqlalchemy as sa\n",
    "from datetime import datetime, timedelta\n",
    "import boto3\n",
    "from dwh_secrets import username, password \n",
    "# Configuración global para DWH\n",
    "DRIVERNAME = 'ODBC Driver 18 for SQL Server'\n",
    "SERVERNAME = 'wdbanal-dwhp01.hdicolombia.com.co'\n",
    "DATABASE = 'Liberty'\n",
    "PORT = '1433'\n",
    "# Configuración del bucket S3\n",
    "S3_BUCKET = \"hdi-sagemaker-project-co\"\n",
    "S3_KEY_PREFIX = \"data-science/co-total-loss/hdi/\"\n",
    "# Fecha dinámica para el día anterior\n",
    "yesterday = (datetime.today() - timedelta(days=1))\n",
    "formatted_yesterday_sql = yesterday.strftime('%Y-%m-%d')  # Formato para SQL\n",
    "formatted_yesterday_s3 = yesterday.strftime('%d-%m-%Y')  # Formato para S3"
   ]
  },
  {
   "cell_type": "code",
   "execution_count": 3,
   "id": "9cc9b165-abcb-430c-b0cb-92759ae8c22a",
   "metadata": {
    "execution": {
     "iopub.execute_input": "2025-01-15T15:10:26.447178Z",
     "iopub.status.busy": "2025-01-15T15:10:26.446907Z",
     "iopub.status.idle": "2025-01-15T15:10:26.450961Z",
     "shell.execute_reply": "2025-01-15T15:10:26.450504Z"
    },
    "papermill": {
     "duration": 0.010975,
     "end_time": "2025-01-15T15:10:26.451764",
     "exception": false,
     "start_time": "2025-01-15T15:10:26.440789",
     "status": "completed"
    },
    "tags": []
   },
   "outputs": [],
   "source": [
    "def create_engine_connection():\n",
    "    \"\"\"\n",
    "   Crea la conexión con la base de datos usando SQLAlchemy y retorna el engine.\n",
    "    \"\"\"\n",
    "    try:\n",
    "        connection_string = sa.engine.URL.create(\n",
    "            drivername=\"mssql+pyodbc\",\n",
    "            username=username,\n",
    "            password=password,\n",
    "            host=SERVERNAME,\n",
    "            port=PORT,\n",
    "            database=DATABASE,\n",
    "            query={\"driver\": DRIVERNAME, \"TrustServerCertificate\": \"yes\", \"Encrypt\": \"yes\"}\n",
    "        )\n",
    "        engine = sa.create_engine(connection_string)\n",
    "        print(\"Motor de conexión creado exitosamente jeje\")\n",
    "        return engine\n",
    "    except Exception as e:\n",
    "        print(f\"Error al crear el motor de conexión: {e}\")\n",
    "        return None"
   ]
  },
  {
   "cell_type": "code",
   "execution_count": 4,
   "id": "346c7895-e658-46f2-9e68-080157e92e58",
   "metadata": {
    "execution": {
     "iopub.execute_input": "2025-01-15T15:10:26.463154Z",
     "iopub.status.busy": "2025-01-15T15:10:26.462920Z",
     "iopub.status.idle": "2025-01-15T15:10:26.466194Z",
     "shell.execute_reply": "2025-01-15T15:10:26.465732Z"
    },
    "papermill": {
     "duration": 0.009912,
     "end_time": "2025-01-15T15:10:26.467004",
     "exception": false,
     "start_time": "2025-01-15T15:10:26.457092",
     "status": "completed"
    },
    "tags": []
   },
   "outputs": [
    {
     "name": "stdout",
     "output_type": "stream",
     "text": [
      "Motor de conexión creado exitosamente jeje\n"
     ]
    }
   ],
   "source": [
    "engine = create_engine_connection()\n",
    " "
   ]
  },
  {
   "cell_type": "code",
   "execution_count": 5,
   "id": "0509ff53-6348-428f-b08d-7a8c6ed3701a",
   "metadata": {
    "execution": {
     "iopub.execute_input": "2025-01-15T15:10:26.478655Z",
     "iopub.status.busy": "2025-01-15T15:10:26.478435Z",
     "iopub.status.idle": "2025-01-15T15:10:26.482153Z",
     "shell.execute_reply": "2025-01-15T15:10:26.481679Z"
    },
    "papermill": {
     "duration": 0.010412,
     "end_time": "2025-01-15T15:10:26.482890",
     "exception": false,
     "start_time": "2025-01-15T15:10:26.472478",
     "status": "completed"
    },
    "tags": []
   },
   "outputs": [],
   "source": [
    "def fetch_query_results(query):\n",
    "    \"\"\"\n",
    "   Ejecuta una consulta SQL en la base de datos y retorna un DataFrame con los resultados.\n",
    "    \"\"\"\n",
    "    try:\n",
    "        engine = create_engine_connection()\n",
    "        if engine is None:\n",
    "            print(\"No se pudo establecer la conexión con el motor.\")\n",
    "            return None\n",
    "        with engine.connect() as connection:\n",
    "            print(f\"Ejecutando la consulta: {query}\")\n",
    "            df = pd.read_sql(query, connection)\n",
    "            print(\"Consulta ejecutada correctamente.\")\n",
    "            return df\n",
    "    except Exception as e:\n",
    "        print(f\"Error al ejecutar la consulta: {e}\")\n",
    "        return None"
   ]
  },
  {
   "cell_type": "code",
   "execution_count": null,
   "id": "be799fa4-1b36-4c24-91dd-5c7b79f9695c",
   "metadata": {
    "execution": {
     "iopub.execute_input": "2024-12-27T13:58:47.732069Z",
     "iopub.status.busy": "2024-12-27T13:58:47.731805Z",
     "iopub.status.idle": "2024-12-27T14:12:56.415911Z",
     "shell.execute_reply": "2024-12-27T14:12:56.415368Z"
    },
    "papermill": {
     "duration": null,
     "end_time": null,
     "exception": false,
     "start_time": "2025-01-15T15:10:26.488203",
     "status": "running"
    },
    "tags": []
   },
   "outputs": [],
   "source": [
    "query_avisados_web = f\"\"\"\n",
    "SELECT\n",
    "   [detalle_del_siniestro] AS Detalle_Siniestro,\n",
    "   [placa] AS Placa,\n",
    "   [modelo] AS Modelo,\n",
    "   [nmero_siniestro] AS Nro_Siniestro,\n",
    "   [amparo_afectado] AS amparo,\n",
    "   [estado] AS estado_siniestro,\n",
    "   [causa_siniestro],\n",
    "   [marca] AS Marca,\n",
    "   [clase] AS cod_clase,\n",
    "   [tipo_vehiculo] AS Tipo,\n",
    "   [valor_asegurado] AS valor_asegurado_sin_acc,\n",
    "   [fecha_de_aviso] AS Fecha_Ingreso\n",
    "FROM [Liberty_Pruebas_Actuaria].[Attrition].[acc_sise_appgenerali_siniestros_incurridos_fusion]\n",
    "\"\"\"\n",
    "avisados_web = fetch_query_results(query_avisados_web)\n",
    "# Verifica los datos"
   ]
  },
  {
   "cell_type": "code",
   "execution_count": null,
   "id": "77ae62cc-c076-4d3b-b445-bc955fd69aea",
   "metadata": {
    "execution": {
     "iopub.execute_input": "2024-12-27T14:12:56.435505Z",
     "iopub.status.busy": "2024-12-27T14:12:56.435222Z",
     "iopub.status.idle": "2024-12-27T14:12:56.452627Z",
     "shell.execute_reply": "2024-12-27T14:12:56.452155Z"
    },
    "papermill": {
     "duration": null,
     "end_time": null,
     "exception": null,
     "start_time": null,
     "status": "pending"
    },
    "tags": []
   },
   "outputs": [],
   "source": [
    "avisados_web"
   ]
  },
  {
   "cell_type": "code",
   "execution_count": null,
   "id": "8687a414-6597-48be-9049-4c6262925e3e",
   "metadata": {
    "execution": {
     "iopub.execute_input": "2024-12-27T14:12:56.467175Z",
     "iopub.status.busy": "2024-12-27T14:12:56.466921Z",
     "iopub.status.idle": "2024-12-27T14:12:56.687341Z",
     "shell.execute_reply": "2024-12-27T14:12:56.686778Z"
    },
    "papermill": {
     "duration": null,
     "end_time": null,
     "exception": null,
     "start_time": null,
     "status": "pending"
    },
    "tags": []
   },
   "outputs": [],
   "source": [
    "columns_to_keep = ['Fecha_Ingreso', 'Placa', 'Marca', 'Tipo','Modelo', 'Nro_Siniestro', 'Detalle_Siniestro']\n",
    "\n",
    "avisados_web = avisados_web[columns_to_keep]"
   ]
  },
  {
   "cell_type": "code",
   "execution_count": null,
   "id": "dbf09383-d3c2-48f1-b844-43b95df33c9e",
   "metadata": {
    "execution": {
     "iopub.execute_input": "2024-12-27T14:12:56.702416Z",
     "iopub.status.busy": "2024-12-27T14:12:56.702150Z",
     "iopub.status.idle": "2024-12-27T14:12:56.705113Z",
     "shell.execute_reply": "2024-12-27T14:12:56.704649Z"
    },
    "papermill": {
     "duration": null,
     "end_time": null,
     "exception": null,
     "start_time": null,
     "status": "pending"
    },
    "tags": []
   },
   "outputs": [],
   "source": [
    "avisados_web.reset_index(inplace = True, drop = True)"
   ]
  },
  {
   "cell_type": "code",
   "execution_count": null,
   "id": "443af60b-dc5a-49c5-90fa-3fb9e958b3e2",
   "metadata": {
    "execution": {
     "iopub.execute_input": "2024-12-27T14:12:56.719095Z",
     "iopub.status.busy": "2024-12-27T14:12:56.718865Z",
     "iopub.status.idle": "2024-12-27T14:12:56.728804Z",
     "shell.execute_reply": "2024-12-27T14:12:56.728370Z"
    },
    "papermill": {
     "duration": null,
     "end_time": null,
     "exception": null,
     "start_time": null,
     "status": "pending"
    },
    "tags": []
   },
   "outputs": [],
   "source": [
    "avisados_web"
   ]
  },
  {
   "cell_type": "code",
   "execution_count": null,
   "id": "06e13990-6341-4650-9a47-ed9d2959f935",
   "metadata": {
    "execution": {
     "iopub.execute_input": "2024-12-27T14:12:56.743244Z",
     "iopub.status.busy": "2024-12-27T14:12:56.743023Z",
     "iopub.status.idle": "2024-12-27T14:12:56.745393Z",
     "shell.execute_reply": "2024-12-27T14:12:56.744958Z"
    },
    "papermill": {
     "duration": null,
     "end_time": null,
     "exception": null,
     "start_time": null,
     "status": "pending"
    },
    "tags": []
   },
   "outputs": [],
   "source": [
    "# avisados_web['Fecha_Ingreso'] = avisados_web['Fecha_Ingreso'].str#.strip()"
   ]
  },
  {
   "cell_type": "code",
   "execution_count": null,
   "id": "fb39526e-6b4c-4ab7-bcbc-b8a3f9c262cf",
   "metadata": {
    "execution": {
     "iopub.execute_input": "2024-12-27T14:12:56.759699Z",
     "iopub.status.busy": "2024-12-27T14:12:56.759480Z",
     "iopub.status.idle": "2024-12-27T14:12:56.838646Z",
     "shell.execute_reply": "2024-12-27T14:12:56.838121Z"
    },
    "papermill": {
     "duration": null,
     "end_time": null,
     "exception": null,
     "start_time": null,
     "status": "pending"
    },
    "tags": []
   },
   "outputs": [],
   "source": [
    "avisados_web['Fecha_Ingreso'] = pd.to_datetime(avisados_web['Fecha_Ingreso'], errors='coerce')"
   ]
  },
  {
   "cell_type": "code",
   "execution_count": null,
   "id": "b84846cd-8ea9-423e-a908-b1d1ae2132a6",
   "metadata": {
    "execution": {
     "iopub.execute_input": "2024-12-27T14:12:56.875781Z",
     "iopub.status.busy": "2024-12-27T14:12:56.875461Z",
     "iopub.status.idle": "2024-12-27T14:12:56.880184Z",
     "shell.execute_reply": "2024-12-27T14:12:56.879681Z"
    },
    "papermill": {
     "duration": null,
     "end_time": null,
     "exception": null,
     "start_time": null,
     "status": "pending"
    },
    "tags": []
   },
   "outputs": [],
   "source": [
    "def claims_keep_by_date(data):\n",
    "    today = datetime.today()\n",
    "    print(f\"Today's date: {today}\")\n",
    "    print(f\"Today's weekday: {today.weekday()}\")\n",
    " \n",
    "    if today.weekday() == 0:  # Monday\n",
    "        date_threshold = pd.to_datetime(today.date() - timedelta(days=3))\n",
    "    else:\n",
    "        date_threshold = pd.to_datetime(today.date() - timedelta(days=4))\n",
    " \n",
    "    start_date = pd.to_datetime(date_threshold)\n",
    " \n",
    "    if today.weekday() == 0:  # Monday\n",
    "        end_date = pd.to_datetime(date_threshold + timedelta(days=3))\n",
    "    else:\n",
    "        end_date = pd.to_datetime(date_threshold + timedelta(days=4))\n",
    " \n",
    "    print(f\"Date threshold for filtering: {date_threshold}\")\n",
    "    filtered_data = data[(data['Fecha_Ingreso'] >= start_date) & (data['Fecha_Ingreso'] < end_date)]\n",
    "    return filtered_data"
   ]
  },
  {
   "cell_type": "code",
   "execution_count": null,
   "id": "097ff3b6-7acf-44c4-9fda-1971f7eacd25",
   "metadata": {
    "execution": {
     "iopub.execute_input": "2024-12-27T14:12:56.895041Z",
     "iopub.status.busy": "2024-12-27T14:12:56.894772Z",
     "iopub.status.idle": "2024-12-27T14:12:56.919394Z",
     "shell.execute_reply": "2024-12-27T14:12:56.918870Z"
    },
    "papermill": {
     "duration": null,
     "end_time": null,
     "exception": null,
     "start_time": null,
     "status": "pending"
    },
    "tags": []
   },
   "outputs": [],
   "source": [
    "from datetime import datetime, timedelta\n",
    "avisados_web = claims_keep_by_date(avisados_web)"
   ]
  },
  {
   "cell_type": "code",
   "execution_count": null,
   "id": "c83a6b9e-cada-485e-94e8-2a633be43a58",
   "metadata": {
    "execution": {
     "iopub.execute_input": "2024-12-27T14:12:56.934722Z",
     "iopub.status.busy": "2024-12-27T14:12:56.934456Z",
     "iopub.status.idle": "2024-12-27T14:12:56.943159Z",
     "shell.execute_reply": "2024-12-27T14:12:56.942692Z"
    },
    "papermill": {
     "duration": null,
     "end_time": null,
     "exception": null,
     "start_time": null,
     "status": "pending"
    },
    "tags": []
   },
   "outputs": [],
   "source": [
    "avisados_web['Fecha_Ingreso'].value_counts(dropna = False)"
   ]
  },
  {
   "cell_type": "code",
   "execution_count": null,
   "id": "9a2fa5fd-975d-427d-b90a-48279c6b7aca",
   "metadata": {
    "execution": {
     "iopub.execute_input": "2024-12-27T14:12:56.958343Z",
     "iopub.status.busy": "2024-12-27T14:12:56.958103Z",
     "iopub.status.idle": "2024-12-27T14:12:56.965164Z",
     "shell.execute_reply": "2024-12-27T14:12:56.964696Z"
    },
    "papermill": {
     "duration": null,
     "end_time": null,
     "exception": null,
     "start_time": null,
     "status": "pending"
    },
    "tags": []
   },
   "outputs": [],
   "source": [
    "avisados_web.drop_duplicates(keep = 'first', inplace = True)"
   ]
  },
  {
   "cell_type": "code",
   "execution_count": null,
   "id": "251fe7df-c696-449d-866f-1b6020e1df7d",
   "metadata": {
    "execution": {
     "iopub.execute_input": "2024-12-27T14:12:56.980198Z",
     "iopub.status.busy": "2024-12-27T14:12:56.979962Z",
     "iopub.status.idle": "2024-12-27T14:12:56.989762Z",
     "shell.execute_reply": "2024-12-27T14:12:56.989322Z"
    },
    "papermill": {
     "duration": null,
     "end_time": null,
     "exception": null,
     "start_time": null,
     "status": "pending"
    },
    "tags": []
   },
   "outputs": [],
   "source": [
    "avisados_web"
   ]
  },
  {
   "cell_type": "code",
   "execution_count": null,
   "id": "a854f787-6f52-45f5-8345-15923d50c32e",
   "metadata": {
    "execution": {
     "iopub.execute_input": "2024-12-27T14:12:57.005225Z",
     "iopub.status.busy": "2024-12-27T14:12:57.004989Z",
     "iopub.status.idle": "2024-12-27T14:12:57.009122Z",
     "shell.execute_reply": "2024-12-27T14:12:57.008652Z"
    },
    "papermill": {
     "duration": null,
     "end_time": null,
     "exception": null,
     "start_time": null,
     "status": "pending"
    },
    "tags": []
   },
   "outputs": [],
   "source": [
    "avisados_web['Nro_Siniestro'] = avisados_web['Nro_Siniestro'].astype(str).str.replace(r'\\.0$', '', regex=True).astype(int)"
   ]
  },
  {
   "cell_type": "code",
   "execution_count": null,
   "id": "e595a7d6-c4db-4453-b08c-c7d11d4a1486",
   "metadata": {
    "execution": {
     "iopub.execute_input": "2024-12-27T14:12:57.024998Z",
     "iopub.status.busy": "2024-12-27T14:12:57.024748Z",
     "iopub.status.idle": "2024-12-27T14:12:57.027578Z",
     "shell.execute_reply": "2024-12-27T14:12:57.027120Z"
    },
    "papermill": {
     "duration": null,
     "end_time": null,
     "exception": null,
     "start_time": null,
     "status": "pending"
    },
    "tags": []
   },
   "outputs": [],
   "source": [
    "avisados_web.reset_index(inplace = True, drop = True)"
   ]
  },
  {
   "cell_type": "code",
   "execution_count": null,
   "id": "38012862-ce53-4ff7-ae03-e909577c67f7",
   "metadata": {
    "execution": {
     "iopub.execute_input": "2024-12-27T14:12:57.043175Z",
     "iopub.status.busy": "2024-12-27T14:12:57.042924Z",
     "iopub.status.idle": "2024-12-27T14:12:57.050868Z",
     "shell.execute_reply": "2024-12-27T14:12:57.050406Z"
    },
    "papermill": {
     "duration": null,
     "end_time": null,
     "exception": null,
     "start_time": null,
     "status": "pending"
    },
    "tags": []
   },
   "outputs": [],
   "source": [
    "avisados_web.head()"
   ]
  },
  {
   "cell_type": "code",
   "execution_count": null,
   "id": "e6f0c71b-a49b-41a7-b253-b6cc30146a25",
   "metadata": {
    "execution": {
     "iopub.execute_input": "2024-12-27T14:12:57.066831Z",
     "iopub.status.busy": "2024-12-27T14:12:57.066602Z",
     "iopub.status.idle": "2024-12-27T14:12:57.325428Z",
     "shell.execute_reply": "2024-12-27T14:12:57.324884Z"
    },
    "papermill": {
     "duration": null,
     "end_time": null,
     "exception": null,
     "start_time": null,
     "status": "pending"
    },
    "tags": []
   },
   "outputs": [],
   "source": [
    "avisados_web.to_excel(\"sample_data.xlsx\", index=False)"
   ]
  },
  {
   "cell_type": "code",
   "execution_count": null,
   "id": "a7f01293-d1bf-4bce-9b93-d558f67dd50d",
   "metadata": {
    "papermill": {
     "duration": null,
     "end_time": null,
     "exception": null,
     "start_time": null,
     "status": "pending"
    },
    "tags": []
   },
   "outputs": [],
   "source": []
  },
  {
   "cell_type": "code",
   "execution_count": null,
   "id": "68461c79-e919-4436-abf6-e7e26fde1aee",
   "metadata": {
    "execution": {
     "iopub.execute_input": "2024-12-27T14:12:57.356833Z",
     "iopub.status.busy": "2024-12-27T14:12:57.356524Z",
     "iopub.status.idle": "2024-12-27T14:12:57.473726Z",
     "shell.execute_reply": "2024-12-27T14:12:57.473185Z"
    },
    "papermill": {
     "duration": null,
     "end_time": null,
     "exception": null,
     "start_time": null,
     "status": "pending"
    },
    "tags": []
   },
   "outputs": [],
   "source": [
    "s3 = boto3.client('s3')"
   ]
  },
  {
   "cell_type": "code",
   "execution_count": null,
   "id": "245d840a-7340-4a77-a214-97eb9361df9d",
   "metadata": {
    "execution": {
     "iopub.execute_input": "2024-12-27T14:12:57.490775Z",
     "iopub.status.busy": "2024-12-27T14:12:57.490477Z",
     "iopub.status.idle": "2024-12-27T14:12:58.923418Z",
     "shell.execute_reply": "2024-12-27T14:12:58.922873Z"
    },
    "papermill": {
     "duration": null,
     "end_time": null,
     "exception": null,
     "start_time": null,
     "status": "pending"
    },
    "tags": []
   },
   "outputs": [],
   "source": [
    "import subprocess\n",
    "import pandas as pd\n",
    "from datetime import datetime, timedelta\n",
    "# Configuración global del bucket y fechas\n",
    "S3_BUCKET = \"hdi-sagemaker-project-co\"\n",
    "S3_KEY_PREFIX = \"data-science/co-total-loss/hdi/\"\n",
    "def get_avisados_sise_data():\n",
    "    \"\"\"\n",
    "   Descarga el archivo AVISADOS-SISE desde S3 usando AWS CLI y retorna un DataFrame.\n",
    "    \"\"\"\n",
    "   # Configuración de fechas\n",
    "    yesterday = (datetime.today() - timedelta(days=2)).strftime('%d-%m-%Y')\n",
    "    s3_file_name = f\"Avisados SISE {yesterday}.xlsx\"  # Nombre del archivo basado en el día anterior\n",
    "    s3_file_path = f\"s3://{S3_BUCKET}/{S3_KEY_PREFIX}{s3_file_name}\"  # Ruta completa del archivo en S3\n",
    "    local_file_path = f\"/tmp/{s3_file_name}\"  # Ruta local donde se guardará el archivo\n",
    "    try:\n",
    "       # Descargar el archivo usando AWS CLI\n",
    "        print(f\"Descargando el archivo: {s3_file_path}\")\n",
    "        subprocess.run(['aws', 's3', 'cp', s3_file_path, local_file_path], check=True)\n",
    "        print(f\"Archivo descargado exitosamente en: {local_file_path}\")\n",
    "       # Cargar el archivo en un DataFrame\n",
    "        return pd.read_excel(local_file_path)\n",
    "    except subprocess.CalledProcessError as e:\n",
    "        print(f\"Error al descargar el archivo desde S3: {e}\")\n",
    "        return None\n",
    "    except Exception as e:\n",
    "        print(f\"Error al leer el archivo descargado: {e}\")\n",
    "        return None\n",
    "# Llamada a la función\n",
    "avisados_sise = get_avisados_sise_data()\n",
    "# Validación: Mostrar las primeras filas si los datos se cargaron correctamente\n",
    "if avisados_sise is not None:\n",
    "    print(\"Datos de AVISADOS-SISE cargados correctamente:\")\n",
    "    display(avisados_sise.head())\n",
    "else:\n",
    "    print(\"No se pudieron obtener los datos de AVISADOS-SISE.\")"
   ]
  },
  {
   "cell_type": "code",
   "execution_count": null,
   "id": "061e6457-18c1-449b-9197-8f2dec0aa144",
   "metadata": {
    "papermill": {
     "duration": null,
     "end_time": null,
     "exception": null,
     "start_time": null,
     "status": "pending"
    },
    "tags": []
   },
   "outputs": [],
   "source": []
  },
  {
   "cell_type": "code",
   "execution_count": null,
   "id": "cee12f08-7223-4758-9812-7e6088279d4d",
   "metadata": {
    "execution": {
     "iopub.execute_input": "2024-12-27T14:12:58.954917Z",
     "iopub.status.busy": "2024-12-27T14:12:58.954603Z",
     "iopub.status.idle": "2024-12-27T14:13:02.634766Z",
     "shell.execute_reply": "2024-12-27T14:13:02.634203Z"
    },
    "papermill": {
     "duration": null,
     "end_time": null,
     "exception": null,
     "start_time": null,
     "status": "pending"
    },
    "tags": []
   },
   "outputs": [],
   "source": [
    "avisados_sise = pd.read_excel('Avisados SISE 15-12-2024.xlsx')"
   ]
  },
  {
   "cell_type": "code",
   "execution_count": null,
   "id": "9122c002-df16-46dd-9b99-75e72e0410dc",
   "metadata": {
    "execution": {
     "iopub.execute_input": "2024-12-27T14:13:02.652103Z",
     "iopub.status.busy": "2024-12-27T14:13:02.651790Z",
     "iopub.status.idle": "2024-12-27T14:13:02.679866Z",
     "shell.execute_reply": "2024-12-27T14:13:02.679335Z"
    },
    "papermill": {
     "duration": null,
     "end_time": null,
     "exception": null,
     "start_time": null,
     "status": "pending"
    },
    "tags": []
   },
   "outputs": [],
   "source": [
    "avisados_sise.info()"
   ]
  },
  {
   "cell_type": "code",
   "execution_count": null,
   "id": "98bd3002-9759-45d2-8cea-3df886eab240",
   "metadata": {
    "papermill": {
     "duration": null,
     "end_time": null,
     "exception": null,
     "start_time": null,
     "status": "pending"
    },
    "tags": []
   },
   "outputs": [],
   "source": []
  },
  {
   "cell_type": "code",
   "execution_count": null,
   "id": "8bdb2187-85f5-42a7-90f0-05a6c68963af",
   "metadata": {
    "papermill": {
     "duration": null,
     "end_time": null,
     "exception": null,
     "start_time": null,
     "status": "pending"
    },
    "tags": []
   },
   "outputs": [],
   "source": []
  },
  {
   "cell_type": "code",
   "execution_count": null,
   "id": "af9dba6e-28da-4e5d-875a-464485777eb9",
   "metadata": {
    "execution": {
     "iopub.execute_input": "2024-12-27T14:13:02.726889Z",
     "iopub.status.busy": "2024-12-27T14:13:02.726566Z",
     "iopub.status.idle": "2024-12-27T14:13:02.729807Z",
     "shell.execute_reply": "2024-12-27T14:13:02.729334Z"
    },
    "papermill": {
     "duration": null,
     "end_time": null,
     "exception": null,
     "start_time": null,
     "status": "pending"
    },
    "tags": []
   },
   "outputs": [],
   "source": [
    "columns_to_keep_sise = ['Nombre Amparo Afectado', 'Numero de Placa', 'Nro. Siniestro', 'Numero de Poliza',\n",
    "                       'Estado del siniestro', 'Nombre Causa Stro', 'Codigo de Marca del Vehiculo',\n",
    "                       'Codigo de la Clase del Vehiculo', 'Codigo del Tipo de Vehiculo', 'Modelo',\n",
    "                       'Valor Asegurado del Vehiculo sin Accesorios Eq',\n",
    "                       'Valor del Vehiculo en la Tabla de Fasecolda Eq',\t\n",
    "                       'Valor Asegurado de Accesorios Eq', 'Color',\n",
    "]"
   ]
  },
  {
   "cell_type": "code",
   "execution_count": null,
   "id": "cfc3c2b1-7d9b-42e6-a8b4-b428f0adec2f",
   "metadata": {
    "execution": {
     "iopub.execute_input": "2024-12-27T14:13:02.746154Z",
     "iopub.status.busy": "2024-12-27T14:13:02.745914Z",
     "iopub.status.idle": "2024-12-27T14:13:02.758831Z",
     "shell.execute_reply": "2024-12-27T14:13:02.758387Z"
    },
    "papermill": {
     "duration": null,
     "end_time": null,
     "exception": null,
     "start_time": null,
     "status": "pending"
    },
    "tags": []
   },
   "outputs": [],
   "source": [
    "avisados_sise = avisados_sise[columns_to_keep_sise]\n",
    "avisados_sise"
   ]
  },
  {
   "cell_type": "code",
   "execution_count": null,
   "id": "e965417e-129d-4f3b-9fbf-741ebefba0ef",
   "metadata": {
    "papermill": {
     "duration": null,
     "end_time": null,
     "exception": null,
     "start_time": null,
     "status": "pending"
    },
    "tags": []
   },
   "outputs": [],
   "source": []
  },
  {
   "cell_type": "code",
   "execution_count": null,
   "id": "07488ee2-7f70-47ae-ae2e-7b092a8b9618",
   "metadata": {
    "papermill": {
     "duration": null,
     "end_time": null,
     "exception": null,
     "start_time": null,
     "status": "pending"
    },
    "tags": []
   },
   "outputs": [],
   "source": []
  },
  {
   "cell_type": "code",
   "execution_count": null,
   "id": "4806ac6f-2a25-4922-84fe-3c301b9d942a",
   "metadata": {
    "papermill": {
     "duration": null,
     "end_time": null,
     "exception": null,
     "start_time": null,
     "status": "pending"
    },
    "tags": []
   },
   "outputs": [],
   "source": []
  },
  {
   "cell_type": "code",
   "execution_count": null,
   "id": "e64ffcc0-6549-4b15-8650-83b4dddb7625",
   "metadata": {
    "papermill": {
     "duration": null,
     "end_time": null,
     "exception": null,
     "start_time": null,
     "status": "pending"
    },
    "tags": []
   },
   "outputs": [],
   "source": []
  },
  {
   "cell_type": "code",
   "execution_count": null,
   "id": "507513bd-3e36-4bf9-98a5-b7ec32fcabca",
   "metadata": {
    "execution": {
     "iopub.execute_input": "2024-12-27T14:13:02.838405Z",
     "iopub.status.busy": "2024-12-27T14:13:02.838070Z",
     "iopub.status.idle": "2024-12-27T14:13:02.848181Z",
     "shell.execute_reply": "2024-12-27T14:13:02.847651Z"
    },
    "papermill": {
     "duration": null,
     "end_time": null,
     "exception": null,
     "start_time": null,
     "status": "pending"
    },
    "tags": []
   },
   "outputs": [],
   "source": [
    "final_merged_df = pd.merge(avisados_web, avisados_sise,\n",
    "                          left_on='Nro_Siniestro', right_on='Nro. Siniestro', how='inner')"
   ]
  },
  {
   "cell_type": "code",
   "execution_count": null,
   "id": "055c5131-36c8-4e86-b26b-cd691209db2a",
   "metadata": {
    "execution": {
     "iopub.execute_input": "2024-12-27T14:13:02.866128Z",
     "iopub.status.busy": "2024-12-27T14:13:02.865776Z",
     "iopub.status.idle": "2024-12-27T14:13:02.869887Z",
     "shell.execute_reply": "2024-12-27T14:13:02.869405Z"
    },
    "papermill": {
     "duration": null,
     "end_time": null,
     "exception": null,
     "start_time": null,
     "status": "pending"
    },
    "tags": []
   },
   "outputs": [],
   "source": [
    "final_merged_df = final_merged_df.drop_duplicates(subset='Nro_Siniestro', keep='first')"
   ]
  },
  {
   "cell_type": "code",
   "execution_count": null,
   "id": "16922b41-7f5b-4dd5-815c-511955065c9b",
   "metadata": {
    "execution": {
     "iopub.execute_input": "2024-12-27T14:13:02.887315Z",
     "iopub.status.busy": "2024-12-27T14:13:02.887049Z",
     "iopub.status.idle": "2024-12-27T14:13:02.903720Z",
     "shell.execute_reply": "2024-12-27T14:13:02.903255Z"
    },
    "papermill": {
     "duration": null,
     "end_time": null,
     "exception": null,
     "start_time": null,
     "status": "pending"
    },
    "tags": []
   },
   "outputs": [],
   "source": [
    "final_merged_df"
   ]
  },
  {
   "cell_type": "code",
   "execution_count": null,
   "id": "a47e37f6-3da5-4634-9bb6-0023e0b16c90",
   "metadata": {
    "execution": {
     "iopub.execute_input": "2024-12-27T14:13:02.922394Z",
     "iopub.status.busy": "2024-12-27T14:13:02.922131Z",
     "iopub.status.idle": "2024-12-27T14:13:02.929523Z",
     "shell.execute_reply": "2024-12-27T14:13:02.929046Z"
    },
    "papermill": {
     "duration": null,
     "end_time": null,
     "exception": null,
     "start_time": null,
     "status": "pending"
    },
    "tags": []
   },
   "outputs": [],
   "source": [
    "final_merged_df.info()"
   ]
  },
  {
   "cell_type": "code",
   "execution_count": null,
   "id": "003e8c18-9be2-4f3b-923e-fe841fb176ce",
   "metadata": {
    "execution": {
     "iopub.execute_input": "2024-12-27T14:13:02.947720Z",
     "iopub.status.busy": "2024-12-27T14:13:02.947478Z",
     "iopub.status.idle": "2024-12-27T14:13:02.950998Z",
     "shell.execute_reply": "2024-12-27T14:13:02.950522Z"
    },
    "papermill": {
     "duration": null,
     "end_time": null,
     "exception": null,
     "start_time": null,
     "status": "pending"
    },
    "tags": []
   },
   "outputs": [],
   "source": [
    "final_merged_df = final_merged_df.drop(columns=['Modelo_y', 'Nro. Siniestro'])"
   ]
  },
  {
   "cell_type": "code",
   "execution_count": null,
   "id": "7e3cba95-db60-4bad-88ef-3d266d97b2e8",
   "metadata": {
    "papermill": {
     "duration": null,
     "end_time": null,
     "exception": null,
     "start_time": null,
     "status": "pending"
    },
    "tags": []
   },
   "outputs": [],
   "source": []
  },
  {
   "cell_type": "code",
   "execution_count": null,
   "id": "4d246f40-9bc2-4ef1-9335-582fd4d8b62c",
   "metadata": {
    "execution": {
     "iopub.execute_input": "2024-12-27T14:13:02.985710Z",
     "iopub.status.busy": "2024-12-27T14:13:02.985442Z",
     "iopub.status.idle": "2024-12-27T14:13:02.989724Z",
     "shell.execute_reply": "2024-12-27T14:13:02.989257Z"
    },
    "papermill": {
     "duration": null,
     "end_time": null,
     "exception": null,
     "start_time": null,
     "status": "pending"
    },
    "tags": []
   },
   "outputs": [],
   "source": [
    "final_merged_df = final_merged_df.rename(columns={\n",
    "    'Nombre Amparo Afectado': 'Amparo',\n",
    "    'Placa': 'placa',\n",
    "    'Modelo_x': 'modelo',\n",
    "    'Numero de Poliza': 'poliza',\n",
    "    'Estado del siniestro': 'estado_siniestro',\n",
    "    'Nombre Causa Stro': 'causa_siniestro',\n",
    "    'Codigo de Marca del Vehiculo': 'cod_marca',\n",
    "    'Codigo de la Clase del Vehiculo': 'cod_clase',\n",
    "    'Codigo del Tipo de Vehiculo': 'cod_tipo',\n",
    "    'Valor Asegurado del Vehiculo sin Accesorios Eq': 'valor_asegurado_sin_acc',\n",
    "    'Valor del Vehiculo en la Tabla de Fasecolda Eq': 'valor_veh_fasecolda',\n",
    "    'Valor Asegurado de Accesorios Eq': 'valor_accesorios',\n",
    "    'Color': 'color',\n",
    "    'Detalle_Siniestro': 'descripcion',\n",
    "    'Nro_Siniestro': 'siniestro'\n",
    "    \n",
    "})"
   ]
  },
  {
   "cell_type": "code",
   "execution_count": null,
   "id": "25b6f713-8320-47f2-936e-85000ab61dba",
   "metadata": {
    "execution": {
     "iopub.execute_input": "2024-12-27T14:13:03.007915Z",
     "iopub.status.busy": "2024-12-27T14:13:03.007641Z",
     "iopub.status.idle": "2024-12-27T14:13:03.011441Z",
     "shell.execute_reply": "2024-12-27T14:13:03.010970Z"
    },
    "papermill": {
     "duration": null,
     "end_time": null,
     "exception": null,
     "start_time": null,
     "status": "pending"
    },
    "tags": []
   },
   "outputs": [],
   "source": [
    "columns_to_keep = [\n",
    "    'Amparo', 'placa', 'siniestro', 'poliza', 'estado_siniestro', \n",
    "    'causa_siniestro', 'cod_marca', 'cod_clase', 'cod_tipo', 'modelo', \n",
    "    'valor_asegurado_sin_acc', 'valor_veh_fasecolda', 'valor_accesorios', \n",
    "    'color', 'descripcion'\n",
    "    #'perdida_total', 'id'\n",
    "]\n",
    "final_merged_df = final_merged_df[columns_to_keep]"
   ]
  },
  {
   "cell_type": "code",
   "execution_count": null,
   "id": "9837cb07-67d6-45dc-9e00-95957628cc65",
   "metadata": {
    "execution": {
     "iopub.execute_input": "2024-12-27T14:13:03.029868Z",
     "iopub.status.busy": "2024-12-27T14:13:03.029627Z",
     "iopub.status.idle": "2024-12-27T14:13:03.041300Z",
     "shell.execute_reply": "2024-12-27T14:13:03.040852Z"
    },
    "papermill": {
     "duration": null,
     "end_time": null,
     "exception": null,
     "start_time": null,
     "status": "pending"
    },
    "tags": []
   },
   "outputs": [],
   "source": [
    "final_merged_df"
   ]
  },
  {
   "cell_type": "code",
   "execution_count": null,
   "id": "f8889e68-e18f-4282-80d3-429bb833a04f",
   "metadata": {
    "papermill": {
     "duration": null,
     "end_time": null,
     "exception": null,
     "start_time": null,
     "status": "pending"
    },
    "tags": []
   },
   "outputs": [],
   "source": []
  },
  {
   "cell_type": "code",
   "execution_count": null,
   "id": "60abef1b-5d59-4f75-ac6c-ca1117081a2f",
   "metadata": {
    "execution": {
     "iopub.execute_input": "2024-12-27T14:13:03.077846Z",
     "iopub.status.busy": "2024-12-27T14:13:03.077527Z",
     "iopub.status.idle": "2024-12-27T14:13:03.091302Z",
     "shell.execute_reply": "2024-12-27T14:13:03.090759Z"
    },
    "papermill": {
     "duration": null,
     "end_time": null,
     "exception": null,
     "start_time": null,
     "status": "pending"
    },
    "tags": []
   },
   "outputs": [],
   "source": [
    "final_merged_df.to_excel(\"prueba.xlsx\", index=False)"
   ]
  }
 ],
 "metadata": {
  "kernelspec": {
   "display_name": "totallosshdi",
   "language": "python",
   "name": "totallosshdi"
  },
  "language_info": {
   "codemirror_mode": {
    "name": "ipython",
    "version": 3
   },
   "file_extension": ".py",
   "mimetype": "text/x-python",
   "name": "python",
   "nbconvert_exporter": "python",
   "pygments_lexer": "ipython3",
   "version": "3.10.8"
  },
  "papermill": {
   "default_parameters": {},
   "duration": null,
   "end_time": null,
   "environment_variables": {},
   "exception": null,
   "input_path": "insumo_nuevo.ipynb",
   "output_path": "insumo_nuevo.ipynb",
   "parameters": {},
   "start_time": "2025-01-15T15:08:23.557511",
   "version": "2.6.0"
  }
 },
 "nbformat": 4,
 "nbformat_minor": 5
}