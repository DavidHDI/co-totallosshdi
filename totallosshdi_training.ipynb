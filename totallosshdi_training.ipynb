{
 "cells": [
  {
   "cell_type": "code",
   "execution_count": 1,
   "id": "24b2c1ae-3a5d-4eae-95c2-7c9c408ff774",
   "metadata": {},
   "outputs": [
    {
     "name": "stderr",
     "output_type": "stream",
     "text": [
      "/home/ec2-user/SageMaker/co-totallosshdi/totallosshdi/lib/python3.10/site-packages/tqdm/auto.py:21: TqdmWarning: IProgress not found. Please update jupyter and ipywidgets. See https://ipywidgets.readthedocs.io/en/stable/user_install.html\n",
      "  from .autonotebook import tqdm as notebook_tqdm\n"
     ]
    }
   ],
   "source": [
    "import pandas as pd\n",
    "from sklearn.model_selection import train_test_split, StratifiedKFold, KFold\n",
    "from nppm_latam_optuner.optuner import Optuner"
   ]
  },
  {
   "cell_type": "code",
   "execution_count": 2,
   "id": "83ed638e-7323-4996-b8fa-1a760f97868b",
   "metadata": {
    "tags": []
   },
   "outputs": [
    {
     "name": "stdout",
     "output_type": "stream",
     "text": [
      "/home/ec2-user/SageMaker/co-totallosshdi\n"
     ]
    }
   ],
   "source": [
    "!pwd"
   ]
  },
  {
   "cell_type": "code",
   "execution_count": 3,
   "id": "22952f17-f78f-4cfd-a227-227b6b98d087",
   "metadata": {
    "tags": []
   },
   "outputs": [],
   "source": [
    "!cd .."
   ]
  },
  {
   "cell_type": "code",
   "execution_count": 4,
   "id": "aee64e74-ea3f-402d-9344-63412eebdf20",
   "metadata": {},
   "outputs": [
    {
     "name": "stdout",
     "output_type": "stream",
     "text": [
      "\n",
      "The user-provided path nppm_latam_optuner/nppm_latam_optuner/optuner.py does not exist.\n"
     ]
    }
   ],
   "source": [
    "!aws s3 cp nppm_latam_optuner/nppm_latam_optuner/optuner.py s3://hdi-sagemaker-project-co/arquitectura/scripts/optuner.py"
   ]
  },
  {
   "cell_type": "code",
   "execution_count": 5,
   "id": "edc6eff7-cc03-4139-8b32-adffdf6ed3b8",
   "metadata": {},
   "outputs": [
    {
     "name": "stdout",
     "output_type": "stream",
     "text": [
      "<class 'pandas.core.frame.DataFrame'>\n",
      "RangeIndex: 12960 entries, 0 to 12959\n",
      "Data columns (total 17 columns):\n",
      " #   Column                   Non-Null Count  Dtype  \n",
      "---  ------                   --------------  -----  \n",
      " 0   Amparo                   12960 non-null  object \n",
      " 1   placa                    12960 non-null  object \n",
      " 2   siniestro                12960 non-null  int64  \n",
      " 3   poliza                   12960 non-null  int64  \n",
      " 4   estado_siniestro         12960 non-null  object \n",
      " 5   causa_siniestro          12960 non-null  object \n",
      " 6   cod_marca                12960 non-null  int64  \n",
      " 7   cod_clase                12960 non-null  int64  \n",
      " 8   cod_tipo                 12960 non-null  int64  \n",
      " 9   modelo                   12960 non-null  int64  \n",
      " 10  valor_asegurado_sin_acc  12960 non-null  float64\n",
      " 11  valor_veh_fasecolda      12960 non-null  int64  \n",
      " 12  valor_accesorios         12960 non-null  float64\n",
      " 13  color                    12960 non-null  object \n",
      " 14  perdida_total            12960 non-null  int64  \n",
      " 15  id                       12960 non-null  object \n",
      " 16  descripcion              12960 non-null  object \n",
      "dtypes: float64(2), int64(8), object(7)\n",
      "memory usage: 1.7+ MB\n"
     ]
    }
   ],
   "source": [
    "df = pd.read_excel(\n",
    "    'perdidas_daños_HDI.xlsx',\n",
    "   # index_col=0\n",
    ")\n",
    "\n",
    "df.info()"
   ]
  },
  {
   "cell_type": "markdown",
   "id": "b28749bd-e8bd-4b81-b012-3c4b2403e12e",
   "metadata": {},
   "source": [
    "#### Pre"
   ]
  },
  {
   "cell_type": "code",
   "execution_count": 6,
   "id": "1c1fc119-ca1c-450b-b592-6754cd977e27",
   "metadata": {},
   "outputs": [],
   "source": [
    "df['descripcion']=df['descripcion'].str.lower()\n",
    "df['descripcion']=df['descripcion'].str.replace(\"(?i)contact center.*?;\", \"\", regex=True)\n",
    "df['descripcion']=df['descripcion'].str.replace(\"(?i)contac center.*?;\", \"\", regex=True)\n",
    "df['descripcion']=df['descripcion'].str.replace(\"(?i)contactcenter.*?;\", \"\", regex=True)\n",
    "df['descripcion']=df['descripcion'].str.replace(\"(?i)contaccenter.*?;\", \"\", regex=True)\n",
    "\n",
    "df['descripcion']=df['descripcion'].str.replace(\"(?i)contact.*?;\", \"\", regex=True)\n",
    "df['descripcion']=df['descripcion'].str.replace(\"(?i)contac.*?;\", \"\", regex=True)\n",
    "\n",
    "\n",
    "\n",
    "df['descripcion']=df['descripcion'].str.replace(\"(?i)call center.*?;\", \"\", regex=True)\n",
    "df['descripcion']=df['descripcion'].str.replace(\"(?i)callcenter.*?;\", \"\", regex=True)\n",
    "df['descripcion']=df['descripcion'].str.replace(\"(?i)cal center.*?;\", \"\", regex=True)\n",
    "df['descripcion']=df['descripcion'].str.replace(\"(?i)call centr.*?;\", \"\", regex=True)\n",
    "\n",
    "\n",
    "df['descripcion']=df['descripcion'].str.replace(\"(?i)cente.*?;\", \"\", regex=True)\n"
   ]
  },
  {
   "cell_type": "code",
   "execution_count": 7,
   "id": "2dc9c0f8-c55e-4531-84e9-6d8c9adac4aa",
   "metadata": {},
   "outputs": [
    {
     "data": {
      "text/plain": [
       "0        ecduartec  nos dirigamos hacia bogot en la rut...\n",
       "1        cclopezo  cuando iba por la carretera habia un...\n",
       "2        nbarrazam  iba a girar a la izquierda y una mo...\n",
       "3        ecduartec  eran las 12 de la noche ya a esa ho...\n",
       "4        jsquinemev   el asegurado llevaba un tercero a...\n",
       "                               ...                        \n",
       "12955     ibamos hacia el centro de bogota por la cra 1...\n",
       "12956     yo iba bajando por el puente de la 127 llegan...\n",
       "12957     asegurado indica que iba hacia la avenida la ...\n",
       "12958     asegurada indica  que iba por la via marinill...\n",
       "12959     me dirigia hacia marinilla y una buseta urban...\n",
       "Name: descripcion, Length: 12960, dtype: object"
      ]
     },
     "execution_count": 7,
     "metadata": {},
     "output_type": "execute_result"
    }
   ],
   "source": [
    "df['descripcion']"
   ]
  },
  {
   "cell_type": "code",
   "execution_count": 8,
   "id": "a0c47b6b-b537-4d67-8373-75013b76b9dc",
   "metadata": {},
   "outputs": [
    {
     "data": {
      "text/plain": [
       "0        09201266\n",
       "1        01601291\n",
       "2        01601341\n",
       "3        01601325\n",
       "4        01601345\n",
       "           ...   \n",
       "12955    06401233\n",
       "12956    00808041\n",
       "12957    08001214\n",
       "12958    01601339\n",
       "12959    01601339\n",
       "Name: Codigo, Length: 12960, dtype: object"
      ]
     },
     "execution_count": 8,
     "metadata": {},
     "output_type": "execute_result"
    }
   ],
   "source": [
    "df[\"Codigo\"]=df[\"cod_marca\"].astype(\"str\").str.zfill(3)+df[\"cod_clase\"].astype(\"str\").str.zfill(5)\n",
    "df[\"Codigo\"]"
   ]
  },
  {
   "cell_type": "code",
   "execution_count": 9,
   "id": "e0083ad3-be55-45f6-9791-cfb346837876",
   "metadata": {},
   "outputs": [],
   "source": [
    "fase=pd.read_csv(\"Guia_CSV_333.csv\")\n",
    "fase[\"Codigo\"]=fase[\"Codigo\"].astype(\"str\").str.zfill(8)"
   ]
  },
  {
   "cell_type": "code",
   "execution_count": 10,
   "id": "673b907f-651f-4192-8aa6-f26b3a43f577",
   "metadata": {},
   "outputs": [
    {
     "data": {
      "text/plain": [
       "0        00101001\n",
       "1        00208003\n",
       "2        00208004\n",
       "3        00206001\n",
       "4        00301001\n",
       "           ...   \n",
       "16873    46717001\n",
       "16874    46817001\n",
       "16875    46817002\n",
       "16876    46925001\n",
       "16877    47022001\n",
       "Name: Codigo, Length: 16878, dtype: object"
      ]
     },
     "execution_count": 10,
     "metadata": {},
     "output_type": "execute_result"
    }
   ],
   "source": [
    "fase[\"Codigo\"]"
   ]
  },
  {
   "cell_type": "code",
   "execution_count": 11,
   "id": "5c11afc1-a559-4214-88eb-f69f8679b28d",
   "metadata": {},
   "outputs": [],
   "source": [
    "fase_2 = fase[['Codigo', 'Peso', 'Transmision', 'Cilindraje', 'Nacionalidad','CapacidadPasajeros', 'CapacidadCarga']]\n",
    "df = pd.merge(df, fase_2, on='Codigo', how='left')"
   ]
  },
  {
   "cell_type": "code",
   "execution_count": 12,
   "id": "787e068f-7e58-4661-bf14-c84a3285df7b",
   "metadata": {},
   "outputs": [
    {
     "name": "stdout",
     "output_type": "stream",
     "text": [
      "<class 'pandas.core.frame.DataFrame'>\n",
      "RangeIndex: 12960 entries, 0 to 12959\n",
      "Data columns (total 24 columns):\n",
      " #   Column                   Non-Null Count  Dtype  \n",
      "---  ------                   --------------  -----  \n",
      " 0   Amparo                   12960 non-null  object \n",
      " 1   placa                    12960 non-null  object \n",
      " 2   siniestro                12960 non-null  int64  \n",
      " 3   poliza                   12960 non-null  int64  \n",
      " 4   estado_siniestro         12960 non-null  object \n",
      " 5   causa_siniestro          12960 non-null  object \n",
      " 6   cod_marca                12960 non-null  int64  \n",
      " 7   cod_clase                12960 non-null  int64  \n",
      " 8   cod_tipo                 12960 non-null  int64  \n",
      " 9   modelo                   12960 non-null  int64  \n",
      " 10  valor_asegurado_sin_acc  12960 non-null  float64\n",
      " 11  valor_veh_fasecolda      12960 non-null  int64  \n",
      " 12  valor_accesorios         12960 non-null  float64\n",
      " 13  color                    12960 non-null  object \n",
      " 14  perdida_total            12960 non-null  int64  \n",
      " 15  id                       12960 non-null  object \n",
      " 16  descripcion              12959 non-null  object \n",
      " 17  Codigo                   12960 non-null  object \n",
      " 18  Peso                     12958 non-null  float64\n",
      " 19  Transmision              12907 non-null  object \n",
      " 20  Cilindraje               12958 non-null  float64\n",
      " 21  Nacionalidad             12958 non-null  object \n",
      " 22  CapacidadPasajeros       12958 non-null  float64\n",
      " 23  CapacidadCarga           12958 non-null  float64\n",
      "dtypes: float64(6), int64(8), object(10)\n",
      "memory usage: 2.4+ MB\n"
     ]
    }
   ],
   "source": [
    "df.info()"
   ]
  },
  {
   "cell_type": "markdown",
   "id": "bc23e608-00fc-418c-acc3-507fa60ffbf2",
   "metadata": {},
   "source": [
    "#### Modelo"
   ]
  },
  {
   "cell_type": "code",
   "execution_count": 13,
   "id": "ea2f0ef8-4a0d-4dbb-bf06-a5b49cebeccd",
   "metadata": {},
   "outputs": [
    {
     "data": {
      "text/plain": [
       "perdida_total\n",
       "0    11650\n",
       "1     1310\n",
       "Name: count, dtype: int64"
      ]
     },
     "execution_count": 13,
     "metadata": {},
     "output_type": "execute_result"
    }
   ],
   "source": [
    "X = df.drop(columns=['perdida_total','placa','siniestro','poliza','id','Amparo','estado_siniestro','color','Codigo'])\n",
    "\n",
    "y = df.perdida_total\n",
    "y.value_counts()"
   ]
  },
  {
   "cell_type": "code",
   "execution_count": 14,
   "id": "7687bea8-cd12-4e6f-b561-4ceba37663bc",
   "metadata": {},
   "outputs": [
    {
     "name": "stdout",
     "output_type": "stream",
     "text": [
      "<class 'pandas.core.frame.DataFrame'>\n",
      "RangeIndex: 12960 entries, 0 to 12959\n",
      "Data columns (total 15 columns):\n",
      " #   Column                   Non-Null Count  Dtype  \n",
      "---  ------                   --------------  -----  \n",
      " 0   causa_siniestro          12960 non-null  object \n",
      " 1   cod_marca                12960 non-null  int64  \n",
      " 2   cod_clase                12960 non-null  int64  \n",
      " 3   cod_tipo                 12960 non-null  int64  \n",
      " 4   modelo                   12960 non-null  int64  \n",
      " 5   valor_asegurado_sin_acc  12960 non-null  float64\n",
      " 6   valor_veh_fasecolda      12960 non-null  int64  \n",
      " 7   valor_accesorios         12960 non-null  float64\n",
      " 8   descripcion              12959 non-null  object \n",
      " 9   Peso                     12958 non-null  float64\n",
      " 10  Transmision              12907 non-null  object \n",
      " 11  Cilindraje               12958 non-null  float64\n",
      " 12  Nacionalidad             12958 non-null  object \n",
      " 13  CapacidadPasajeros       12958 non-null  float64\n",
      " 14  CapacidadCarga           12958 non-null  float64\n",
      "dtypes: float64(6), int64(5), object(4)\n",
      "memory usage: 1.5+ MB\n"
     ]
    }
   ],
   "source": [
    "X.info()"
   ]
  },
  {
   "cell_type": "code",
   "execution_count": null,
   "id": "0bdf52f4-4753-4b4c-bfd4-87a16db294e7",
   "metadata": {},
   "outputs": [],
   "source": []
  },
  {
   "cell_type": "code",
   "execution_count": 15,
   "id": "3842a081-c2b4-48c9-a476-2470f2977418",
   "metadata": {
    "tags": []
   },
   "outputs": [],
   "source": [
    "# !aws s3 cp s3://hdi-sagemaker-project-co/arquitectura/modulos-spacy/stopwords.zip stopwords.zip"
   ]
  },
  {
   "cell_type": "code",
   "execution_count": 16,
   "id": "270c8241-388e-4390-828a-8bf3eb691a18",
   "metadata": {},
   "outputs": [
    {
     "name": "stderr",
     "output_type": "stream",
     "text": [
      "[nltk_data] Downloading package stopwords to\n",
      "[nltk_data]     /home/ec2-user/nltk_data...\n",
      "[nltk_data]   Package stopwords is already up-to-date!\n"
     ]
    },
    {
     "data": {
      "text/plain": [
       "True"
      ]
     },
     "execution_count": 16,
     "metadata": {},
     "output_type": "execute_result"
    }
   ],
   "source": [
    "import nltk\n",
    "import ssl\n",
    " \n",
    "try:\n",
    "    _create_unverified_https_context = ssl._create_unverified_context\n",
    "except AttributeError:\n",
    "    pass\n",
    "else:\n",
    "    ssl._create_default_https_context = _create_unverified_https_context\n",
    " \n",
    "nltk.download('stopwords')"
   ]
  },
  {
   "cell_type": "code",
   "execution_count": null,
   "id": "adb93016-1031-47bc-8cfd-2780be44257c",
   "metadata": {},
   "outputs": [],
   "source": []
  },
  {
   "cell_type": "code",
   "execution_count": null,
   "id": "26a4fba7-053e-463f-b697-744abcef37e5",
   "metadata": {
    "tags": []
   },
   "outputs": [
    {
     "name": "stderr",
     "output_type": "stream",
     "text": [
      "[I 2025-01-22 21:38:18,150] A new study created in RDB with name: co_totallosshdi\n",
      "/home/ec2-user/SageMaker/co-totallosshdi/totallosshdi/lib/python3.10/site-packages/nppm_latam_optuner/optuner.py:197: FutureWarning: suggest_int() got {'step'} as positional arguments but they were expected to be given as keyword arguments.\n",
      "  vect_max_features = trial.suggest_int(f'{col}_vect_max_features',\n",
      "[I 2025-01-22 21:40:54,016] Trial 0 finished with value: 0.21340414472064517 and parameters: {'ohe_min_frequency': 30, 'descripcion_vect_token_pattern': '(?ui)\\\\b\\\\w*[a-z][a-z]+\\\\w*\\\\b', 'descripcion_vect_use_stopwords': 1, 'descripcion_vect_max_features': 13700, 'descripcion_vect_max_df': 0.764, 'descripcion_vect_min_df': 20, 'descripcion_vect_max_ngram': 7, 'descripcion_vect_text_vectorizer': 'tf-idf', 'descripcion_vect_strip_accents': 0, 'max_depth': 205, 'n_estimators': 1388, 'grow_policy': 'lossguide', 'learning_rate': 0.1552, 'gamma': 9.504, 'min_child_weight': 91, 'subsample': 0.6150000000000001, 'colsample_bytree': 0.917, 'colsample_bylevel': 0.336, 'colsample_bynode': 0.5850000000000001, 'reg_alpha': 4.613, 'reg_lambda': 4.615}. Best is trial 0 with value: 0.21340414472064517.\n"
     ]
    },
    {
     "name": "stdout",
     "output_type": "stream",
     "text": [
      "OptunedModel for trial number 0 (best yet) saved\n"
     ]
    },
    {
     "name": "stderr",
     "output_type": "stream",
     "text": [
      "/home/ec2-user/SageMaker/co-totallosshdi/totallosshdi/lib/python3.10/site-packages/nppm_latam_optuner/optuner.py:197: FutureWarning: suggest_int() got {'step'} as positional arguments but they were expected to be given as keyword arguments.\n",
      "  vect_max_features = trial.suggest_int(f'{col}_vect_max_features',\n",
      "[I 2025-01-22 21:48:53,087] Trial 1 finished with value: 0.3012014244643031 and parameters: {'ohe_min_frequency': 108, 'descripcion_vect_token_pattern': '(?ui)\\\\b\\\\w*[a-z][a-z]+\\\\w*\\\\b', 'descripcion_vect_use_stopwords': 0, 'descripcion_vect_max_features': 4200, 'descripcion_vect_max_df': 0.596, 'descripcion_vect_min_df': 24, 'descripcion_vect_max_ngram': 7, 'descripcion_vect_text_vectorizer': 'count', 'descripcion_vect_strip_accents': 1, 'max_depth': 201, 'n_estimators': 1557, 'grow_policy': 'depthwise', 'learning_rate': 0.1409, 'gamma': 0.276, 'min_child_weight': 7, 'subsample': 0.639, 'colsample_bytree': 0.9540000000000001, 'colsample_bylevel': 0.392, 'colsample_bynode': 0.805, 'reg_alpha': 1.32, 'reg_lambda': 4.613}. Best is trial 1 with value: 0.3012014244643031.\n"
     ]
    },
    {
     "name": "stdout",
     "output_type": "stream",
     "text": [
      "OptunedModel for trial number 1 (best yet) saved\n"
     ]
    },
    {
     "name": "stderr",
     "output_type": "stream",
     "text": [
      "/home/ec2-user/SageMaker/co-totallosshdi/totallosshdi/lib/python3.10/site-packages/nppm_latam_optuner/optuner.py:197: FutureWarning: suggest_int() got {'step'} as positional arguments but they were expected to be given as keyword arguments.\n",
      "  vect_max_features = trial.suggest_int(f'{col}_vect_max_features',\n",
      "[I 2025-01-22 21:50:56,092] Trial 2 finished with value: 0.23906332771502697 and parameters: {'ohe_min_frequency': 117, 'descripcion_vect_token_pattern': '(?u)\\\\b\\\\w\\\\w+\\\\b', 'descripcion_vect_use_stopwords': 1, 'descripcion_vect_max_features': 23200, 'descripcion_vect_max_df': 0.748, 'descripcion_vect_min_df': 13, 'descripcion_vect_max_ngram': 1, 'descripcion_vect_text_vectorizer': 'tf-idf', 'descripcion_vect_strip_accents': 1, 'max_depth': 95, 'n_estimators': 1230, 'grow_policy': 'lossguide', 'learning_rate': 0.09780000000000001, 'gamma': 4.914, 'min_child_weight': 40, 'subsample': 0.452, 'colsample_bytree': 0.782, 'colsample_bylevel': 0.235, 'colsample_bynode': 0.23099999999999998, 'reg_alpha': 2.008, 'reg_lambda': 2.721}. Best is trial 1 with value: 0.3012014244643031.\n",
      "/home/ec2-user/SageMaker/co-totallosshdi/totallosshdi/lib/python3.10/site-packages/nppm_latam_optuner/optuner.py:197: FutureWarning: suggest_int() got {'step'} as positional arguments but they were expected to be given as keyword arguments.\n",
      "  vect_max_features = trial.suggest_int(f'{col}_vect_max_features',\n",
      "[I 2025-01-22 21:55:46,410] Trial 3 finished with value: 0.22221112249404967 and parameters: {'ohe_min_frequency': 111, 'descripcion_vect_token_pattern': '(?u)\\\\b\\\\w\\\\w+\\\\b', 'descripcion_vect_use_stopwords': 1, 'descripcion_vect_max_features': 14300, 'descripcion_vect_max_df': 0.766, 'descripcion_vect_min_df': 23, 'descripcion_vect_max_ngram': 6, 'descripcion_vect_text_vectorizer': 'tf-idf', 'descripcion_vect_strip_accents': 0, 'max_depth': 15, 'n_estimators': 2159, 'grow_policy': 'depthwise', 'learning_rate': 0.2417, 'gamma': 8.655, 'min_child_weight': 63, 'subsample': 0.5690000000000001, 'colsample_bytree': 1.0, 'colsample_bylevel': 0.687, 'colsample_bynode': 0.374, 'reg_alpha': 3.434, 'reg_lambda': 3.1670000000000003}. Best is trial 1 with value: 0.3012014244643031.\n",
      "/home/ec2-user/SageMaker/co-totallosshdi/totallosshdi/lib/python3.10/site-packages/nppm_latam_optuner/optuner.py:197: FutureWarning: suggest_int() got {'step'} as positional arguments but they were expected to be given as keyword arguments.\n",
      "  vect_max_features = trial.suggest_int(f'{col}_vect_max_features',\n",
      "[I 2025-01-22 21:59:56,655] Trial 4 finished with value: 0.2478145185018108 and parameters: {'ohe_min_frequency': 49, 'descripcion_vect_token_pattern': '(?ui)\\\\b\\\\w*[a-z][a-z]+\\\\w*\\\\b', 'descripcion_vect_use_stopwords': 0, 'descripcion_vect_max_features': 12800, 'descripcion_vect_max_df': 0.723, 'descripcion_vect_min_df': 18, 'descripcion_vect_max_ngram': 3, 'descripcion_vect_text_vectorizer': 'tf-idf', 'descripcion_vect_strip_accents': 1, 'max_depth': 17, 'n_estimators': 1783, 'grow_policy': 'depthwise', 'learning_rate': 0.2266, 'gamma': 6.824, 'min_child_weight': 75, 'subsample': 0.6160000000000001, 'colsample_bytree': 0.81, 'colsample_bylevel': 0.7270000000000001, 'colsample_bynode': 0.317, 'reg_alpha': 0.517, 'reg_lambda': 0.333}. Best is trial 1 with value: 0.3012014244643031.\n",
      "/home/ec2-user/SageMaker/co-totallosshdi/totallosshdi/lib/python3.10/site-packages/nppm_latam_optuner/optuner.py:197: FutureWarning: suggest_int() got {'step'} as positional arguments but they were expected to be given as keyword arguments.\n",
      "  vect_max_features = trial.suggest_int(f'{col}_vect_max_features',\n",
      "[I 2025-01-22 22:03:55,744] Trial 5 finished with value: 0.2264847111717004 and parameters: {'ohe_min_frequency': 32, 'descripcion_vect_token_pattern': '(?ui)\\\\b\\\\w*[a-z][a-z]+\\\\w*\\\\b', 'descripcion_vect_use_stopwords': 0, 'descripcion_vect_max_features': 39400, 'descripcion_vect_max_df': 0.721, 'descripcion_vect_min_df': 30, 'descripcion_vect_max_ngram': 7, 'descripcion_vect_text_vectorizer': 'count', 'descripcion_vect_strip_accents': 1, 'max_depth': 93, 'n_estimators': 2287, 'grow_policy': 'depthwise', 'learning_rate': 0.0302, 'gamma': 0.058, 'min_child_weight': 89, 'subsample': 0.415, 'colsample_bytree': 0.889, 'colsample_bylevel': 0.456, 'colsample_bynode': 0.759, 'reg_alpha': 2.43, 'reg_lambda': 1.808}. Best is trial 1 with value: 0.3012014244643031.\n",
      "/home/ec2-user/SageMaker/co-totallosshdi/totallosshdi/lib/python3.10/site-packages/nppm_latam_optuner/optuner.py:197: FutureWarning: suggest_int() got {'step'} as positional arguments but they were expected to be given as keyword arguments.\n",
      "  vect_max_features = trial.suggest_int(f'{col}_vect_max_features',\n",
      "[I 2025-01-22 22:05:35,334] Trial 6 finished with value: 0.2816213031348237 and parameters: {'ohe_min_frequency': 32, 'descripcion_vect_token_pattern': '(?ui)\\\\b\\\\w*[a-z][a-z]+\\\\w*\\\\b', 'descripcion_vect_use_stopwords': 1, 'descripcion_vect_max_features': 29700, 'descripcion_vect_max_df': 0.7, 'descripcion_vect_min_df': 14, 'descripcion_vect_max_ngram': 6, 'descripcion_vect_text_vectorizer': 'tf-idf', 'descripcion_vect_strip_accents': 0, 'max_depth': 79, 'n_estimators': 801, 'grow_policy': 'depthwise', 'learning_rate': 0.2317, 'gamma': 4.167, 'min_child_weight': 13, 'subsample': 0.326, 'colsample_bytree': 0.10700000000000001, 'colsample_bylevel': 0.45, 'colsample_bynode': 0.9770000000000001, 'reg_alpha': 0.9560000000000001, 'reg_lambda': 4.737}. Best is trial 1 with value: 0.3012014244643031.\n",
      "/home/ec2-user/SageMaker/co-totallosshdi/totallosshdi/lib/python3.10/site-packages/nppm_latam_optuner/optuner.py:197: FutureWarning: suggest_int() got {'step'} as positional arguments but they were expected to be given as keyword arguments.\n",
      "  vect_max_features = trial.suggest_int(f'{col}_vect_max_features',\n",
      "[I 2025-01-22 22:08:12,419] Trial 7 finished with value: 0.18724451626562127 and parameters: {'ohe_min_frequency': 53, 'descripcion_vect_token_pattern': '(?u)\\\\b\\\\w\\\\w+\\\\b', 'descripcion_vect_use_stopwords': 0, 'descripcion_vect_max_features': 1500, 'descripcion_vect_max_df': 0.7949999999999999, 'descripcion_vect_min_df': 20, 'descripcion_vect_max_ngram': 5, 'descripcion_vect_text_vectorizer': 'count', 'descripcion_vect_strip_accents': 0, 'max_depth': 117, 'n_estimators': 2116, 'grow_policy': 'lossguide', 'learning_rate': 0.2383, 'gamma': 7.9430000000000005, 'min_child_weight': 99, 'subsample': 0.34099999999999997, 'colsample_bytree': 0.323, 'colsample_bylevel': 0.9520000000000001, 'colsample_bynode': 0.22200000000000003, 'reg_alpha': 3.237, 'reg_lambda': 4.541}. Best is trial 1 with value: 0.3012014244643031.\n",
      "/home/ec2-user/SageMaker/co-totallosshdi/totallosshdi/lib/python3.10/site-packages/nppm_latam_optuner/optuner.py:197: FutureWarning: suggest_int() got {'step'} as positional arguments but they were expected to be given as keyword arguments.\n",
      "  vect_max_features = trial.suggest_int(f'{col}_vect_max_features',\n",
      "[I 2025-01-22 22:11:47,084] Trial 8 finished with value: 0.22618332302828173 and parameters: {'ohe_min_frequency': 69, 'descripcion_vect_token_pattern': '(?u)\\\\b\\\\w\\\\w+\\\\b', 'descripcion_vect_use_stopwords': 0, 'descripcion_vect_max_features': 14400, 'descripcion_vect_max_df': 0.612, 'descripcion_vect_min_df': 2, 'descripcion_vect_max_ngram': 3, 'descripcion_vect_text_vectorizer': 'tf-idf', 'descripcion_vect_strip_accents': 1, 'max_depth': 180, 'n_estimators': 1251, 'grow_policy': 'lossguide', 'learning_rate': 0.1986, 'gamma': 0.978, 'min_child_weight': 54, 'subsample': 0.663, 'colsample_bytree': 0.40599999999999997, 'colsample_bylevel': 0.421, 'colsample_bynode': 0.783, 'reg_alpha': 2.017, 'reg_lambda': 2.964}. Best is trial 1 with value: 0.3012014244643031.\n",
      "/home/ec2-user/SageMaker/co-totallosshdi/totallosshdi/lib/python3.10/site-packages/nppm_latam_optuner/optuner.py:197: FutureWarning: suggest_int() got {'step'} as positional arguments but they were expected to be given as keyword arguments.\n",
      "  vect_max_features = trial.suggest_int(f'{col}_vect_max_features',\n"
     ]
    }
   ],
   "source": [
    "X_train, X_test, y_train, y_test = train_test_split(\n",
    "    X, y, stratify=y, test_size=0.2, random_state=42)\n",
    "\n",
    "skf = StratifiedKFold(n_splits=4, random_state=0, shuffle=True)\n",
    "\n",
    "opt = Optuner(study_name='co_totallosshdi', prediction_task='clf',\n",
    "              X=X_train, y=y_train,\n",
    "              num_cols=['valor_asegurado_sin_acc', 'valor_veh_fasecolda','valor_accesorios','Peso','modelo','Cilindraje','CapacidadPasajeros','CapacidadCarga'],\n",
    "              cat_cols=['causa_siniestro','cod_marca','cod_tipo','cod_clase','Transmision','Nacionalidad'],\n",
    "              text_cols=['descripcion'],\n",
    "              language='spa',\n",
    "              cv=skf, scoring='average_precision', direction='maximize',\n",
    "              model_n_jobs=9, cross_val_n_jobs=4)\n",
    "\n",
    "opt.optune(60)"
   ]
  },
  {
   "cell_type": "code",
   "execution_count": null,
   "id": "b26dd862-1a9b-4afb-9c8f-71ea8452e801",
   "metadata": {},
   "outputs": [],
   "source": []
  },
  {
   "cell_type": "code",
   "execution_count": null,
   "id": "eb410dec-a39e-43d4-8070-7da115004bee",
   "metadata": {},
   "outputs": [],
   "source": [
    "import joblib\n",
    "\n",
    "optuned_model = joblib.load('co_totallosshdi.joblib')\n",
    "type(optuned_model)"
   ]
  },
  {
   "cell_type": "code",
   "execution_count": null,
   "id": "b425a865-d6c3-4c00-9e52-e39740c9fbcd",
   "metadata": {},
   "outputs": [],
   "source": [
    "from sklearn.metrics import average_precision_score\n",
    "\n",
    "probas = optuned_model.predict_proba(X_test)\n",
    "\n",
    "X_test.shape, probas.shape"
   ]
  },
  {
   "cell_type": "code",
   "execution_count": null,
   "id": "8fb5d252-057b-4112-82dd-c85f51b984c5",
   "metadata": {},
   "outputs": [],
   "source": [
    "average_precision_score(y_test, probas[:, 1])"
   ]
  },
  {
   "cell_type": "code",
   "execution_count": null,
   "id": "7f3d711d-ff38-4891-ba7a-786790349247",
   "metadata": {},
   "outputs": [],
   "source": [
    "X_test['Probabilidades'] = probas[:, 1]  "
   ]
  },
  {
   "cell_type": "code",
   "execution_count": null,
   "id": "d9814ba6-62a9-4808-9efe-83284897e85a",
   "metadata": {},
   "outputs": [],
   "source": [
    "X_test = X_test.sort_values( by = ['Probabilidades'], ascending = False).to_excel('prueba_fija.xlsx', index = False)"
   ]
  },
  {
   "cell_type": "code",
   "execution_count": null,
   "id": "7d1eb229-c89c-4fb0-b233-e4798ece151a",
   "metadata": {},
   "outputs": [],
   "source": []
  }
 ],
 "metadata": {
  "kernelspec": {
   "display_name": "totallosshdi",
   "language": "python",
   "name": "totallosshdi"
  },
  "language_info": {
   "codemirror_mode": {
    "name": "ipython",
    "version": 3
   },
   "file_extension": ".py",
   "mimetype": "text/x-python",
   "name": "python",
   "nbconvert_exporter": "python",
   "pygments_lexer": "ipython3",
   "version": "3.10.8"
  }
 },
 "nbformat": 4,
 "nbformat_minor": 5
}
