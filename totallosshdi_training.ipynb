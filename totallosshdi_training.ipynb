{
 "cells": [
  {
   "cell_type": "code",
   "execution_count": 1,
   "id": "24b2c1ae-3a5d-4eae-95c2-7c9c408ff774",
   "metadata": {},
   "outputs": [
    {
     "name": "stderr",
     "output_type": "stream",
     "text": [
      "/home/ec2-user/SageMaker/totalloss_HDI/totallosshdi/lib/python3.10/site-packages/tqdm/auto.py:21: TqdmWarning: IProgress not found. Please update jupyter and ipywidgets. See https://ipywidgets.readthedocs.io/en/stable/user_install.html\n",
      "  from .autonotebook import tqdm as notebook_tqdm\n"
     ]
    }
   ],
   "source": [
    "import pandas as pd\n",
    "from sklearn.model_selection import train_test_split, StratifiedKFold, KFold\n",
    "from nppm_latam_optuner.optuner import Optuner"
   ]
  },
  {
   "cell_type": "code",
   "execution_count": 2,
   "id": "83ed638e-7323-4996-b8fa-1a760f97868b",
   "metadata": {
    "tags": []
   },
   "outputs": [
    {
     "name": "stdout",
     "output_type": "stream",
     "text": [
      "/home/ec2-user/SageMaker/totalloss_HDI\n"
     ]
    }
   ],
   "source": [
    "!pwd"
   ]
  },
  {
   "cell_type": "code",
   "execution_count": 3,
   "id": "22952f17-f78f-4cfd-a227-227b6b98d087",
   "metadata": {
    "tags": []
   },
   "outputs": [],
   "source": [
    "!cd .."
   ]
  },
  {
   "cell_type": "code",
   "execution_count": 4,
   "id": "aee64e74-ea3f-402d-9344-63412eebdf20",
   "metadata": {},
   "outputs": [
    {
     "name": "stdout",
     "output_type": "stream",
     "text": [
      "\n",
      "The user-provided path nppm_latam_optuner/nppm_latam_optuner/optuner.py does not exist.\n"
     ]
    }
   ],
   "source": [
    "!aws s3 cp nppm_latam_optuner/nppm_latam_optuner/optuner.py s3://hdi-sagemaker-project-co/arquitectura/scripts/optuner.py"
   ]
  },
  {
   "cell_type": "code",
   "execution_count": 5,
   "id": "edc6eff7-cc03-4139-8b32-adffdf6ed3b8",
   "metadata": {},
   "outputs": [
    {
     "name": "stdout",
     "output_type": "stream",
     "text": [
      "<class 'pandas.core.frame.DataFrame'>\n",
      "RangeIndex: 12960 entries, 0 to 12959\n",
      "Data columns (total 17 columns):\n",
      " #   Column                   Non-Null Count  Dtype  \n",
      "---  ------                   --------------  -----  \n",
      " 0   Amparo                   12960 non-null  object \n",
      " 1   placa                    12960 non-null  object \n",
      " 2   siniestro                12960 non-null  int64  \n",
      " 3   poliza                   12960 non-null  int64  \n",
      " 4   estado_siniestro         12960 non-null  object \n",
      " 5   causa_siniestro          12960 non-null  object \n",
      " 6   cod_marca                12960 non-null  int64  \n",
      " 7   cod_clase                12960 non-null  int64  \n",
      " 8   cod_tipo                 12960 non-null  int64  \n",
      " 9   modelo                   12960 non-null  int64  \n",
      " 10  valor_asegurado_sin_acc  12960 non-null  float64\n",
      " 11  valor_veh_fasecolda      12960 non-null  int64  \n",
      " 12  valor_accesorios         12960 non-null  float64\n",
      " 13  color                    12960 non-null  object \n",
      " 14  perdida_total            12960 non-null  int64  \n",
      " 15  id                       12960 non-null  object \n",
      " 16  descripcion              12960 non-null  object \n",
      "dtypes: float64(2), int64(8), object(7)\n",
      "memory usage: 1.7+ MB\n"
     ]
    }
   ],
   "source": [
    "df = pd.read_excel(\n",
    "    'perdidas_daños_HDI.xlsx',\n",
    "   # index_col=0\n",
    ")\n",
    "\n",
    "df.info()"
   ]
  },
  {
   "cell_type": "markdown",
   "id": "b28749bd-e8bd-4b81-b012-3c4b2403e12e",
   "metadata": {},
   "source": [
    "#### Pre"
   ]
  },
  {
   "cell_type": "code",
   "execution_count": 6,
   "id": "1c1fc119-ca1c-450b-b592-6754cd977e27",
   "metadata": {},
   "outputs": [],
   "source": [
    "df['descripcion']=df['descripcion'].str.lower()\n",
    "df['descripcion']=df['descripcion'].str.replace(\"(?i)contact center.*?;\", \"\", regex=True)\n",
    "df['descripcion']=df['descripcion'].str.replace(\"(?i)contac center.*?;\", \"\", regex=True)\n",
    "df['descripcion']=df['descripcion'].str.replace(\"(?i)contactcenter.*?;\", \"\", regex=True)\n",
    "df['descripcion']=df['descripcion'].str.replace(\"(?i)contaccenter.*?;\", \"\", regex=True)\n",
    "\n",
    "df['descripcion']=df['descripcion'].str.replace(\"(?i)contact.*?;\", \"\", regex=True)\n",
    "df['descripcion']=df['descripcion'].str.replace(\"(?i)contac.*?;\", \"\", regex=True)\n",
    "\n",
    "\n",
    "\n",
    "df['descripcion']=df['descripcion'].str.replace(\"(?i)call center.*?;\", \"\", regex=True)\n",
    "df['descripcion']=df['descripcion'].str.replace(\"(?i)callcenter.*?;\", \"\", regex=True)\n",
    "df['descripcion']=df['descripcion'].str.replace(\"(?i)cal center.*?;\", \"\", regex=True)\n",
    "df['descripcion']=df['descripcion'].str.replace(\"(?i)call centr.*?;\", \"\", regex=True)\n",
    "\n",
    "\n",
    "df['descripcion']=df['descripcion'].str.replace(\"(?i)cente.*?;\", \"\", regex=True)\n"
   ]
  },
  {
   "cell_type": "code",
   "execution_count": 7,
   "id": "2dc9c0f8-c55e-4531-84e9-6d8c9adac4aa",
   "metadata": {},
   "outputs": [
    {
     "data": {
      "text/plain": [
       "0        ecduartec  nos dirigamos hacia bogot en la rut...\n",
       "1        cclopezo  cuando iba por la carretera habia un...\n",
       "2        nbarrazam  iba a girar a la izquierda y una mo...\n",
       "3        ecduartec  eran las 12 de la noche ya a esa ho...\n",
       "4        jsquinemev   el asegurado llevaba un tercero a...\n",
       "                               ...                        \n",
       "12955     ibamos hacia el centro de bogota por la cra 1...\n",
       "12956     yo iba bajando por el puente de la 127 llegan...\n",
       "12957     asegurado indica que iba hacia la avenida la ...\n",
       "12958     asegurada indica  que iba por la via marinill...\n",
       "12959     me dirigia hacia marinilla y una buseta urban...\n",
       "Name: descripcion, Length: 12960, dtype: object"
      ]
     },
     "execution_count": 7,
     "metadata": {},
     "output_type": "execute_result"
    }
   ],
   "source": [
    "df['descripcion']"
   ]
  },
  {
   "cell_type": "code",
   "execution_count": 8,
   "id": "a0c47b6b-b537-4d67-8373-75013b76b9dc",
   "metadata": {},
   "outputs": [
    {
     "data": {
      "text/plain": [
       "0        09201266\n",
       "1        01601291\n",
       "2        01601341\n",
       "3        01601325\n",
       "4        01601345\n",
       "           ...   \n",
       "12955    06401233\n",
       "12956    00808041\n",
       "12957    08001214\n",
       "12958    01601339\n",
       "12959    01601339\n",
       "Name: Codigo, Length: 12960, dtype: object"
      ]
     },
     "execution_count": 8,
     "metadata": {},
     "output_type": "execute_result"
    }
   ],
   "source": [
    "df[\"Codigo\"]=df[\"cod_marca\"].astype(\"str\").str.zfill(3)+df[\"cod_clase\"].astype(\"str\").str.zfill(5)\n",
    "df[\"Codigo\"]"
   ]
  },
  {
   "cell_type": "code",
   "execution_count": 9,
   "id": "e0083ad3-be55-45f6-9791-cfb346837876",
   "metadata": {},
   "outputs": [],
   "source": [
    "fase=pd.read_csv(\"Guia_CSV_333.csv\")\n",
    "fase[\"Codigo\"]=fase[\"Codigo\"].astype(\"str\").str.zfill(8)"
   ]
  },
  {
   "cell_type": "code",
   "execution_count": 10,
   "id": "673b907f-651f-4192-8aa6-f26b3a43f577",
   "metadata": {},
   "outputs": [
    {
     "data": {
      "text/plain": [
       "0        00101001\n",
       "1        00208003\n",
       "2        00208004\n",
       "3        00206001\n",
       "4        00301001\n",
       "           ...   \n",
       "16873    46717001\n",
       "16874    46817001\n",
       "16875    46817002\n",
       "16876    46925001\n",
       "16877    47022001\n",
       "Name: Codigo, Length: 16878, dtype: object"
      ]
     },
     "execution_count": 10,
     "metadata": {},
     "output_type": "execute_result"
    }
   ],
   "source": [
    "fase[\"Codigo\"]"
   ]
  },
  {
   "cell_type": "code",
   "execution_count": 11,
   "id": "5c11afc1-a559-4214-88eb-f69f8679b28d",
   "metadata": {},
   "outputs": [],
   "source": [
    "fase_2 = fase[['Codigo', 'Peso', 'Transmision', 'Cilindraje', 'Nacionalidad','CapacidadPasajeros', 'CapacidadCarga']]\n",
    "df = pd.merge(df, fase_2, on='Codigo', how='left')"
   ]
  },
  {
   "cell_type": "code",
   "execution_count": 12,
   "id": "787e068f-7e58-4661-bf14-c84a3285df7b",
   "metadata": {},
   "outputs": [
    {
     "name": "stdout",
     "output_type": "stream",
     "text": [
      "<class 'pandas.core.frame.DataFrame'>\n",
      "RangeIndex: 12960 entries, 0 to 12959\n",
      "Data columns (total 24 columns):\n",
      " #   Column                   Non-Null Count  Dtype  \n",
      "---  ------                   --------------  -----  \n",
      " 0   Amparo                   12960 non-null  object \n",
      " 1   placa                    12960 non-null  object \n",
      " 2   siniestro                12960 non-null  int64  \n",
      " 3   poliza                   12960 non-null  int64  \n",
      " 4   estado_siniestro         12960 non-null  object \n",
      " 5   causa_siniestro          12960 non-null  object \n",
      " 6   cod_marca                12960 non-null  int64  \n",
      " 7   cod_clase                12960 non-null  int64  \n",
      " 8   cod_tipo                 12960 non-null  int64  \n",
      " 9   modelo                   12960 non-null  int64  \n",
      " 10  valor_asegurado_sin_acc  12960 non-null  float64\n",
      " 11  valor_veh_fasecolda      12960 non-null  int64  \n",
      " 12  valor_accesorios         12960 non-null  float64\n",
      " 13  color                    12960 non-null  object \n",
      " 14  perdida_total            12960 non-null  int64  \n",
      " 15  id                       12960 non-null  object \n",
      " 16  descripcion              12959 non-null  object \n",
      " 17  Codigo                   12960 non-null  object \n",
      " 18  Peso                     12958 non-null  float64\n",
      " 19  Transmision              12907 non-null  object \n",
      " 20  Cilindraje               12958 non-null  float64\n",
      " 21  Nacionalidad             12958 non-null  object \n",
      " 22  CapacidadPasajeros       12958 non-null  float64\n",
      " 23  CapacidadCarga           12958 non-null  float64\n",
      "dtypes: float64(6), int64(8), object(10)\n",
      "memory usage: 2.4+ MB\n"
     ]
    }
   ],
   "source": [
    "df.info()"
   ]
  },
  {
   "cell_type": "markdown",
   "id": "bc23e608-00fc-418c-acc3-507fa60ffbf2",
   "metadata": {},
   "source": [
    "#### Modelo"
   ]
  },
  {
   "cell_type": "code",
   "execution_count": 13,
   "id": "ea2f0ef8-4a0d-4dbb-bf06-a5b49cebeccd",
   "metadata": {},
   "outputs": [
    {
     "data": {
      "text/plain": [
       "perdida_total\n",
       "0    11650\n",
       "1     1310\n",
       "Name: count, dtype: int64"
      ]
     },
     "execution_count": 13,
     "metadata": {},
     "output_type": "execute_result"
    }
   ],
   "source": [
    "X = df.drop(columns=['perdida_total','placa','siniestro','poliza','id','Amparo','estado_siniestro','color','Codigo'])\n",
    "\n",
    "y = df.perdida_total\n",
    "y.value_counts()"
   ]
  },
  {
   "cell_type": "code",
   "execution_count": 14,
   "id": "7687bea8-cd12-4e6f-b561-4ceba37663bc",
   "metadata": {},
   "outputs": [
    {
     "name": "stdout",
     "output_type": "stream",
     "text": [
      "<class 'pandas.core.frame.DataFrame'>\n",
      "RangeIndex: 12960 entries, 0 to 12959\n",
      "Data columns (total 15 columns):\n",
      " #   Column                   Non-Null Count  Dtype  \n",
      "---  ------                   --------------  -----  \n",
      " 0   causa_siniestro          12960 non-null  object \n",
      " 1   cod_marca                12960 non-null  int64  \n",
      " 2   cod_clase                12960 non-null  int64  \n",
      " 3   cod_tipo                 12960 non-null  int64  \n",
      " 4   modelo                   12960 non-null  int64  \n",
      " 5   valor_asegurado_sin_acc  12960 non-null  float64\n",
      " 6   valor_veh_fasecolda      12960 non-null  int64  \n",
      " 7   valor_accesorios         12960 non-null  float64\n",
      " 8   descripcion              12959 non-null  object \n",
      " 9   Peso                     12958 non-null  float64\n",
      " 10  Transmision              12907 non-null  object \n",
      " 11  Cilindraje               12958 non-null  float64\n",
      " 12  Nacionalidad             12958 non-null  object \n",
      " 13  CapacidadPasajeros       12958 non-null  float64\n",
      " 14  CapacidadCarga           12958 non-null  float64\n",
      "dtypes: float64(6), int64(5), object(4)\n",
      "memory usage: 1.5+ MB\n"
     ]
    }
   ],
   "source": [
    "X.info()"
   ]
  },
  {
   "cell_type": "code",
   "execution_count": null,
   "id": "0bdf52f4-4753-4b4c-bfd4-87a16db294e7",
   "metadata": {},
   "outputs": [],
   "source": []
  },
  {
   "cell_type": "code",
   "execution_count": 15,
   "id": "3842a081-c2b4-48c9-a476-2470f2977418",
   "metadata": {
    "tags": []
   },
   "outputs": [],
   "source": [
    "# !aws s3 cp s3://hdi-sagemaker-project-co/arquitectura/modulos-spacy/stopwords.zip stopwords.zip"
   ]
  },
  {
   "cell_type": "code",
   "execution_count": 16,
   "id": "26a4fba7-053e-463f-b697-744abcef37e5",
   "metadata": {
    "tags": []
   },
   "outputs": [
    {
     "name": "stderr",
     "output_type": "stream",
     "text": [
      "[nltk_data] Error loading stopwords: <urlopen error [SSL:\n",
      "[nltk_data]     CERTIFICATE_VERIFY_FAILED] certificate verify failed:\n",
      "[nltk_data]     self signed certificate in certificate chain\n",
      "[nltk_data]     (_ssl.c:997)>\n"
     ]
    },
    {
     "ename": "LookupError",
     "evalue": "\n**********************************************************************\n  Resource \u001b[93mstopwords\u001b[0m not found.\n  Please use the NLTK Downloader to obtain the resource:\n\n  \u001b[31m>>> import nltk\n  >>> nltk.download('stopwords')\n  \u001b[0m\n  For more information see: https://www.nltk.org/data.html\n\n  Attempted to load \u001b[93mcorpora/stopwords\u001b[0m\n\n  Searched in:\n    - '/home/ec2-user/nltk_data'\n    - '/home/ec2-user/SageMaker/totalloss_HDI/totallosshdi/nltk_data'\n    - '/home/ec2-user/SageMaker/totalloss_HDI/totallosshdi/share/nltk_data'\n    - '/home/ec2-user/SageMaker/totalloss_HDI/totallosshdi/lib/nltk_data'\n    - '/usr/share/nltk_data'\n    - '/usr/local/share/nltk_data'\n    - '/usr/lib/nltk_data'\n    - '/usr/local/lib/nltk_data'\n**********************************************************************\n",
     "output_type": "error",
     "traceback": [
      "\u001b[0;31m---------------------------------------------------------------------------\u001b[0m",
      "\u001b[0;31mLookupError\u001b[0m                               Traceback (most recent call last)",
      "File \u001b[0;32m~/SageMaker/totalloss_HDI/totallosshdi/lib/python3.10/site-packages/nltk/corpus/util.py:84\u001b[0m, in \u001b[0;36mLazyCorpusLoader.__load\u001b[0;34m(self)\u001b[0m\n\u001b[1;32m     83\u001b[0m \u001b[38;5;28;01mtry\u001b[39;00m:\n\u001b[0;32m---> 84\u001b[0m     root \u001b[38;5;241m=\u001b[39m \u001b[43mnltk\u001b[49m\u001b[38;5;241;43m.\u001b[39;49m\u001b[43mdata\u001b[49m\u001b[38;5;241;43m.\u001b[39;49m\u001b[43mfind\u001b[49m\u001b[43m(\u001b[49m\u001b[38;5;124;43mf\u001b[39;49m\u001b[38;5;124;43m\"\u001b[39;49m\u001b[38;5;132;43;01m{\u001b[39;49;00m\u001b[38;5;28;43mself\u001b[39;49m\u001b[38;5;241;43m.\u001b[39;49m\u001b[43msubdir\u001b[49m\u001b[38;5;132;43;01m}\u001b[39;49;00m\u001b[38;5;124;43m/\u001b[39;49m\u001b[38;5;132;43;01m{\u001b[39;49;00m\u001b[43mzip_name\u001b[49m\u001b[38;5;132;43;01m}\u001b[39;49;00m\u001b[38;5;124;43m\"\u001b[39;49m\u001b[43m)\u001b[49m\n\u001b[1;32m     85\u001b[0m \u001b[38;5;28;01mexcept\u001b[39;00m \u001b[38;5;167;01mLookupError\u001b[39;00m:\n",
      "File \u001b[0;32m~/SageMaker/totalloss_HDI/totallosshdi/lib/python3.10/site-packages/nltk/data.py:583\u001b[0m, in \u001b[0;36mfind\u001b[0;34m(resource_name, paths)\u001b[0m\n\u001b[1;32m    582\u001b[0m resource_not_found \u001b[38;5;241m=\u001b[39m \u001b[38;5;124mf\u001b[39m\u001b[38;5;124m\"\u001b[39m\u001b[38;5;130;01m\\n\u001b[39;00m\u001b[38;5;132;01m{\u001b[39;00msep\u001b[38;5;132;01m}\u001b[39;00m\u001b[38;5;130;01m\\n\u001b[39;00m\u001b[38;5;132;01m{\u001b[39;00mmsg\u001b[38;5;132;01m}\u001b[39;00m\u001b[38;5;130;01m\\n\u001b[39;00m\u001b[38;5;132;01m{\u001b[39;00msep\u001b[38;5;132;01m}\u001b[39;00m\u001b[38;5;130;01m\\n\u001b[39;00m\u001b[38;5;124m\"\u001b[39m\n\u001b[0;32m--> 583\u001b[0m \u001b[38;5;28;01mraise\u001b[39;00m \u001b[38;5;167;01mLookupError\u001b[39;00m(resource_not_found)\n",
      "\u001b[0;31mLookupError\u001b[0m: \n**********************************************************************\n  Resource \u001b[93mstopwords\u001b[0m not found.\n  Please use the NLTK Downloader to obtain the resource:\n\n  \u001b[31m>>> import nltk\n  >>> nltk.download('stopwords')\n  \u001b[0m\n  For more information see: https://www.nltk.org/data.html\n\n  Attempted to load \u001b[93mcorpora/stopwords.zip/stopwords/\u001b[0m\n\n  Searched in:\n    - '/home/ec2-user/nltk_data'\n    - '/home/ec2-user/SageMaker/totalloss_HDI/totallosshdi/nltk_data'\n    - '/home/ec2-user/SageMaker/totalloss_HDI/totallosshdi/share/nltk_data'\n    - '/home/ec2-user/SageMaker/totalloss_HDI/totallosshdi/lib/nltk_data'\n    - '/usr/share/nltk_data'\n    - '/usr/local/share/nltk_data'\n    - '/usr/lib/nltk_data'\n    - '/usr/local/lib/nltk_data'\n**********************************************************************\n",
      "\nDuring handling of the above exception, another exception occurred:\n",
      "\u001b[0;31mLookupError\u001b[0m                               Traceback (most recent call last)",
      "Cell \u001b[0;32mIn[16], line 6\u001b[0m\n\u001b[1;32m      1\u001b[0m X_train, X_test, y_train, y_test \u001b[38;5;241m=\u001b[39m train_test_split(\n\u001b[1;32m      2\u001b[0m     X, y, stratify\u001b[38;5;241m=\u001b[39my, test_size\u001b[38;5;241m=\u001b[39m\u001b[38;5;241m0.2\u001b[39m, random_state\u001b[38;5;241m=\u001b[39m\u001b[38;5;241m42\u001b[39m)\n\u001b[1;32m      4\u001b[0m skf \u001b[38;5;241m=\u001b[39m StratifiedKFold(n_splits\u001b[38;5;241m=\u001b[39m\u001b[38;5;241m4\u001b[39m, random_state\u001b[38;5;241m=\u001b[39m\u001b[38;5;241m0\u001b[39m, shuffle\u001b[38;5;241m=\u001b[39m\u001b[38;5;28;01mTrue\u001b[39;00m)\n\u001b[0;32m----> 6\u001b[0m opt \u001b[38;5;241m=\u001b[39m \u001b[43mOptuner\u001b[49m\u001b[43m(\u001b[49m\u001b[43mstudy_name\u001b[49m\u001b[38;5;241;43m=\u001b[39;49m\u001b[38;5;124;43m'\u001b[39;49m\u001b[38;5;124;43mco_toralloss_6\u001b[39;49m\u001b[38;5;124;43m'\u001b[39;49m\u001b[43m,\u001b[49m\u001b[43m \u001b[49m\u001b[43mprediction_task\u001b[49m\u001b[38;5;241;43m=\u001b[39;49m\u001b[38;5;124;43m'\u001b[39;49m\u001b[38;5;124;43mclf\u001b[39;49m\u001b[38;5;124;43m'\u001b[39;49m\u001b[43m,\u001b[49m\n\u001b[1;32m      7\u001b[0m \u001b[43m              \u001b[49m\u001b[43mX\u001b[49m\u001b[38;5;241;43m=\u001b[39;49m\u001b[43mX_train\u001b[49m\u001b[43m,\u001b[49m\u001b[43m \u001b[49m\u001b[43my\u001b[49m\u001b[38;5;241;43m=\u001b[39;49m\u001b[43my_train\u001b[49m\u001b[43m,\u001b[49m\n\u001b[1;32m      8\u001b[0m \u001b[43m              \u001b[49m\u001b[43mnum_cols\u001b[49m\u001b[38;5;241;43m=\u001b[39;49m\u001b[43m[\u001b[49m\u001b[38;5;124;43m'\u001b[39;49m\u001b[38;5;124;43mvalor_asegurado_sin_acc\u001b[39;49m\u001b[38;5;124;43m'\u001b[39;49m\u001b[43m,\u001b[49m\u001b[43m \u001b[49m\u001b[38;5;124;43m'\u001b[39;49m\u001b[38;5;124;43mvalor_veh_fasecolda\u001b[39;49m\u001b[38;5;124;43m'\u001b[39;49m\u001b[43m,\u001b[49m\u001b[38;5;124;43m'\u001b[39;49m\u001b[38;5;124;43mvalor_accesorios\u001b[39;49m\u001b[38;5;124;43m'\u001b[39;49m\u001b[43m,\u001b[49m\u001b[38;5;124;43m'\u001b[39;49m\u001b[38;5;124;43mPeso\u001b[39;49m\u001b[38;5;124;43m'\u001b[39;49m\u001b[43m,\u001b[49m\u001b[38;5;124;43m'\u001b[39;49m\u001b[38;5;124;43mmodelo\u001b[39;49m\u001b[38;5;124;43m'\u001b[39;49m\u001b[43m,\u001b[49m\u001b[38;5;124;43m'\u001b[39;49m\u001b[38;5;124;43mCilindraje\u001b[39;49m\u001b[38;5;124;43m'\u001b[39;49m\u001b[43m,\u001b[49m\u001b[38;5;124;43m'\u001b[39;49m\u001b[38;5;124;43mCapacidadPasajeros\u001b[39;49m\u001b[38;5;124;43m'\u001b[39;49m\u001b[43m,\u001b[49m\u001b[38;5;124;43m'\u001b[39;49m\u001b[38;5;124;43mCapacidadCarga\u001b[39;49m\u001b[38;5;124;43m'\u001b[39;49m\u001b[43m]\u001b[49m\u001b[43m,\u001b[49m\n\u001b[1;32m      9\u001b[0m \u001b[43m              \u001b[49m\u001b[43mcat_cols\u001b[49m\u001b[38;5;241;43m=\u001b[39;49m\u001b[43m[\u001b[49m\u001b[38;5;124;43m'\u001b[39;49m\u001b[38;5;124;43mcausa_siniestro\u001b[39;49m\u001b[38;5;124;43m'\u001b[39;49m\u001b[43m,\u001b[49m\u001b[38;5;124;43m'\u001b[39;49m\u001b[38;5;124;43mcod_marca\u001b[39;49m\u001b[38;5;124;43m'\u001b[39;49m\u001b[43m,\u001b[49m\u001b[38;5;124;43m'\u001b[39;49m\u001b[38;5;124;43mcod_tipo\u001b[39;49m\u001b[38;5;124;43m'\u001b[39;49m\u001b[43m,\u001b[49m\u001b[38;5;124;43m'\u001b[39;49m\u001b[38;5;124;43mcod_clase\u001b[39;49m\u001b[38;5;124;43m'\u001b[39;49m\u001b[43m,\u001b[49m\u001b[38;5;124;43m'\u001b[39;49m\u001b[38;5;124;43mTransmision\u001b[39;49m\u001b[38;5;124;43m'\u001b[39;49m\u001b[43m,\u001b[49m\u001b[38;5;124;43m'\u001b[39;49m\u001b[38;5;124;43mNacionalidad\u001b[39;49m\u001b[38;5;124;43m'\u001b[39;49m\u001b[43m]\u001b[49m\u001b[43m,\u001b[49m\n\u001b[1;32m     10\u001b[0m \u001b[43m              \u001b[49m\u001b[43mtext_cols\u001b[49m\u001b[38;5;241;43m=\u001b[39;49m\u001b[43m[\u001b[49m\u001b[38;5;124;43m'\u001b[39;49m\u001b[38;5;124;43mdescripcion\u001b[39;49m\u001b[38;5;124;43m'\u001b[39;49m\u001b[43m]\u001b[49m\u001b[43m,\u001b[49m\n\u001b[1;32m     11\u001b[0m \u001b[43m              \u001b[49m\u001b[43mlanguage\u001b[49m\u001b[38;5;241;43m=\u001b[39;49m\u001b[38;5;124;43m'\u001b[39;49m\u001b[38;5;124;43mspa\u001b[39;49m\u001b[38;5;124;43m'\u001b[39;49m\u001b[43m,\u001b[49m\n\u001b[1;32m     12\u001b[0m \u001b[43m              \u001b[49m\u001b[43mcv\u001b[49m\u001b[38;5;241;43m=\u001b[39;49m\u001b[43mskf\u001b[49m\u001b[43m,\u001b[49m\u001b[43m \u001b[49m\u001b[43mscoring\u001b[49m\u001b[38;5;241;43m=\u001b[39;49m\u001b[38;5;124;43m'\u001b[39;49m\u001b[38;5;124;43maverage_precision\u001b[39;49m\u001b[38;5;124;43m'\u001b[39;49m\u001b[43m,\u001b[49m\u001b[43m \u001b[49m\u001b[43mdirection\u001b[49m\u001b[38;5;241;43m=\u001b[39;49m\u001b[38;5;124;43m'\u001b[39;49m\u001b[38;5;124;43mmaximize\u001b[39;49m\u001b[38;5;124;43m'\u001b[39;49m\u001b[43m,\u001b[49m\n\u001b[1;32m     13\u001b[0m \u001b[43m              \u001b[49m\u001b[43mmodel_n_jobs\u001b[49m\u001b[38;5;241;43m=\u001b[39;49m\u001b[38;5;241;43m9\u001b[39;49m\u001b[43m,\u001b[49m\u001b[43m \u001b[49m\u001b[43mcross_val_n_jobs\u001b[49m\u001b[38;5;241;43m=\u001b[39;49m\u001b[38;5;241;43m4\u001b[39;49m\u001b[43m)\u001b[49m\n\u001b[1;32m     15\u001b[0m opt\u001b[38;5;241m.\u001b[39moptune(\u001b[38;5;241m100\u001b[39m)\n",
      "File \u001b[0;32m~/SageMaker/totalloss_HDI/totallosshdi/lib/python3.10/site-packages/nppm_latam_optuner/optuner.py:137\u001b[0m, in \u001b[0;36mOptuner.__init__\u001b[0;34m(self, study_name, prediction_task, X, y, num_cols, cat_cols, text_cols, language, cv, scoring, direction, model_n_jobs, cross_val_n_jobs)\u001b[0m\n\u001b[1;32m    135\u001b[0m         \u001b[38;5;28;01mfrom\u001b[39;00m \u001b[38;5;21;01mnltk\u001b[39;00m \u001b[38;5;28;01mimport\u001b[39;00m download \u001b[38;5;28;01mas\u001b[39;00m nltk_download\n\u001b[1;32m    136\u001b[0m         nltk_download(\u001b[38;5;124m'\u001b[39m\u001b[38;5;124mstopwords\u001b[39m\u001b[38;5;124m'\u001b[39m)\n\u001b[0;32m--> 137\u001b[0m         \u001b[38;5;28mself\u001b[39m\u001b[38;5;241m.\u001b[39mstopwords \u001b[38;5;241m=\u001b[39m \u001b[43mnltk_stopwords\u001b[49m\u001b[38;5;241;43m.\u001b[39;49m\u001b[43mwords\u001b[49m(\u001b[38;5;124m'\u001b[39m\u001b[38;5;124mspanish\u001b[39m\u001b[38;5;124m'\u001b[39m)\n\u001b[1;32m    138\u001b[0m     \u001b[38;5;28mself\u001b[39m\u001b[38;5;241m.\u001b[39munidecoded_stopwords \u001b[38;5;241m=\u001b[39m [unidecode(w) \u001b[38;5;28;01mfor\u001b[39;00m w \u001b[38;5;129;01min\u001b[39;00m \u001b[38;5;28mself\u001b[39m\u001b[38;5;241m.\u001b[39mstopwords]\n\u001b[1;32m    140\u001b[0m \u001b[38;5;28mself\u001b[39m\u001b[38;5;241m.\u001b[39mpipes \u001b[38;5;241m=\u001b[39m \u001b[38;5;28;01mNone\u001b[39;00m\n",
      "File \u001b[0;32m~/SageMaker/totalloss_HDI/totallosshdi/lib/python3.10/site-packages/nltk/corpus/util.py:121\u001b[0m, in \u001b[0;36mLazyCorpusLoader.__getattr__\u001b[0;34m(self, attr)\u001b[0m\n\u001b[1;32m    118\u001b[0m \u001b[38;5;28;01mif\u001b[39;00m attr \u001b[38;5;241m==\u001b[39m \u001b[38;5;124m\"\u001b[39m\u001b[38;5;124m__bases__\u001b[39m\u001b[38;5;124m\"\u001b[39m:\n\u001b[1;32m    119\u001b[0m     \u001b[38;5;28;01mraise\u001b[39;00m \u001b[38;5;167;01mAttributeError\u001b[39;00m(\u001b[38;5;124m\"\u001b[39m\u001b[38;5;124mLazyCorpusLoader object has no attribute \u001b[39m\u001b[38;5;124m'\u001b[39m\u001b[38;5;124m__bases__\u001b[39m\u001b[38;5;124m'\u001b[39m\u001b[38;5;124m\"\u001b[39m)\n\u001b[0;32m--> 121\u001b[0m \u001b[38;5;28;43mself\u001b[39;49m\u001b[38;5;241;43m.\u001b[39;49m\u001b[43m__load\u001b[49m\u001b[43m(\u001b[49m\u001b[43m)\u001b[49m\n\u001b[1;32m    122\u001b[0m \u001b[38;5;66;03m# This looks circular, but its not, since __load() changes our\u001b[39;00m\n\u001b[1;32m    123\u001b[0m \u001b[38;5;66;03m# __class__ to something new:\u001b[39;00m\n\u001b[1;32m    124\u001b[0m \u001b[38;5;28;01mreturn\u001b[39;00m \u001b[38;5;28mgetattr\u001b[39m(\u001b[38;5;28mself\u001b[39m, attr)\n",
      "File \u001b[0;32m~/SageMaker/totalloss_HDI/totallosshdi/lib/python3.10/site-packages/nltk/corpus/util.py:86\u001b[0m, in \u001b[0;36mLazyCorpusLoader.__load\u001b[0;34m(self)\u001b[0m\n\u001b[1;32m     84\u001b[0m             root \u001b[38;5;241m=\u001b[39m nltk\u001b[38;5;241m.\u001b[39mdata\u001b[38;5;241m.\u001b[39mfind(\u001b[38;5;124mf\u001b[39m\u001b[38;5;124m\"\u001b[39m\u001b[38;5;132;01m{\u001b[39;00m\u001b[38;5;28mself\u001b[39m\u001b[38;5;241m.\u001b[39msubdir\u001b[38;5;132;01m}\u001b[39;00m\u001b[38;5;124m/\u001b[39m\u001b[38;5;132;01m{\u001b[39;00mzip_name\u001b[38;5;132;01m}\u001b[39;00m\u001b[38;5;124m\"\u001b[39m)\n\u001b[1;32m     85\u001b[0m         \u001b[38;5;28;01mexcept\u001b[39;00m \u001b[38;5;167;01mLookupError\u001b[39;00m:\n\u001b[0;32m---> 86\u001b[0m             \u001b[38;5;28;01mraise\u001b[39;00m e\n\u001b[1;32m     88\u001b[0m \u001b[38;5;66;03m# Load the corpus.\u001b[39;00m\n\u001b[1;32m     89\u001b[0m corpus \u001b[38;5;241m=\u001b[39m \u001b[38;5;28mself\u001b[39m\u001b[38;5;241m.\u001b[39m__reader_cls(root, \u001b[38;5;241m*\u001b[39m\u001b[38;5;28mself\u001b[39m\u001b[38;5;241m.\u001b[39m__args, \u001b[38;5;241m*\u001b[39m\u001b[38;5;241m*\u001b[39m\u001b[38;5;28mself\u001b[39m\u001b[38;5;241m.\u001b[39m__kwargs)\n",
      "File \u001b[0;32m~/SageMaker/totalloss_HDI/totallosshdi/lib/python3.10/site-packages/nltk/corpus/util.py:81\u001b[0m, in \u001b[0;36mLazyCorpusLoader.__load\u001b[0;34m(self)\u001b[0m\n\u001b[1;32m     79\u001b[0m \u001b[38;5;28;01melse\u001b[39;00m:\n\u001b[1;32m     80\u001b[0m     \u001b[38;5;28;01mtry\u001b[39;00m:\n\u001b[0;32m---> 81\u001b[0m         root \u001b[38;5;241m=\u001b[39m \u001b[43mnltk\u001b[49m\u001b[38;5;241;43m.\u001b[39;49m\u001b[43mdata\u001b[49m\u001b[38;5;241;43m.\u001b[39;49m\u001b[43mfind\u001b[49m\u001b[43m(\u001b[49m\u001b[38;5;124;43mf\u001b[39;49m\u001b[38;5;124;43m\"\u001b[39;49m\u001b[38;5;132;43;01m{\u001b[39;49;00m\u001b[38;5;28;43mself\u001b[39;49m\u001b[38;5;241;43m.\u001b[39;49m\u001b[43msubdir\u001b[49m\u001b[38;5;132;43;01m}\u001b[39;49;00m\u001b[38;5;124;43m/\u001b[39;49m\u001b[38;5;132;43;01m{\u001b[39;49;00m\u001b[38;5;28;43mself\u001b[39;49m\u001b[38;5;241;43m.\u001b[39;49m\u001b[43m__name\u001b[49m\u001b[38;5;132;43;01m}\u001b[39;49;00m\u001b[38;5;124;43m\"\u001b[39;49m\u001b[43m)\u001b[49m\n\u001b[1;32m     82\u001b[0m     \u001b[38;5;28;01mexcept\u001b[39;00m \u001b[38;5;167;01mLookupError\u001b[39;00m \u001b[38;5;28;01mas\u001b[39;00m e:\n\u001b[1;32m     83\u001b[0m         \u001b[38;5;28;01mtry\u001b[39;00m:\n",
      "File \u001b[0;32m~/SageMaker/totalloss_HDI/totallosshdi/lib/python3.10/site-packages/nltk/data.py:583\u001b[0m, in \u001b[0;36mfind\u001b[0;34m(resource_name, paths)\u001b[0m\n\u001b[1;32m    581\u001b[0m sep \u001b[38;5;241m=\u001b[39m \u001b[38;5;124m\"\u001b[39m\u001b[38;5;124m*\u001b[39m\u001b[38;5;124m\"\u001b[39m \u001b[38;5;241m*\u001b[39m \u001b[38;5;241m70\u001b[39m\n\u001b[1;32m    582\u001b[0m resource_not_found \u001b[38;5;241m=\u001b[39m \u001b[38;5;124mf\u001b[39m\u001b[38;5;124m\"\u001b[39m\u001b[38;5;130;01m\\n\u001b[39;00m\u001b[38;5;132;01m{\u001b[39;00msep\u001b[38;5;132;01m}\u001b[39;00m\u001b[38;5;130;01m\\n\u001b[39;00m\u001b[38;5;132;01m{\u001b[39;00mmsg\u001b[38;5;132;01m}\u001b[39;00m\u001b[38;5;130;01m\\n\u001b[39;00m\u001b[38;5;132;01m{\u001b[39;00msep\u001b[38;5;132;01m}\u001b[39;00m\u001b[38;5;130;01m\\n\u001b[39;00m\u001b[38;5;124m\"\u001b[39m\n\u001b[0;32m--> 583\u001b[0m \u001b[38;5;28;01mraise\u001b[39;00m \u001b[38;5;167;01mLookupError\u001b[39;00m(resource_not_found)\n",
      "\u001b[0;31mLookupError\u001b[0m: \n**********************************************************************\n  Resource \u001b[93mstopwords\u001b[0m not found.\n  Please use the NLTK Downloader to obtain the resource:\n\n  \u001b[31m>>> import nltk\n  >>> nltk.download('stopwords')\n  \u001b[0m\n  For more information see: https://www.nltk.org/data.html\n\n  Attempted to load \u001b[93mcorpora/stopwords\u001b[0m\n\n  Searched in:\n    - '/home/ec2-user/nltk_data'\n    - '/home/ec2-user/SageMaker/totalloss_HDI/totallosshdi/nltk_data'\n    - '/home/ec2-user/SageMaker/totalloss_HDI/totallosshdi/share/nltk_data'\n    - '/home/ec2-user/SageMaker/totalloss_HDI/totallosshdi/lib/nltk_data'\n    - '/usr/share/nltk_data'\n    - '/usr/local/share/nltk_data'\n    - '/usr/lib/nltk_data'\n    - '/usr/local/lib/nltk_data'\n**********************************************************************\n"
     ]
    }
   ],
   "source": [
    "X_train, X_test, y_train, y_test = train_test_split(\n",
    "    X, y, stratify=y, test_size=0.2, random_state=42)\n",
    "\n",
    "skf = StratifiedKFold(n_splits=4, random_state=0, shuffle=True)\n",
    "\n",
    "opt = Optuner(study_name='co_toralloss_6', prediction_task='clf',\n",
    "              X=X_train, y=y_train,\n",
    "              num_cols=['valor_asegurado_sin_acc', 'valor_veh_fasecolda','valor_accesorios','Peso','modelo','Cilindraje','CapacidadPasajeros','CapacidadCarga'],\n",
    "              cat_cols=['causa_siniestro','cod_marca','cod_tipo','cod_clase','Transmision','Nacionalidad'],\n",
    "              text_cols=['descripcion'],\n",
    "              language='spa',\n",
    "              cv=skf, scoring='average_precision', direction='maximize',\n",
    "              model_n_jobs=9, cross_val_n_jobs=4)\n",
    "\n",
    "opt.optune(100)"
   ]
  },
  {
   "cell_type": "code",
   "execution_count": null,
   "id": "b26dd862-1a9b-4afb-9c8f-71ea8452e801",
   "metadata": {},
   "outputs": [],
   "source": []
  },
  {
   "cell_type": "code",
   "execution_count": null,
   "id": "eb410dec-a39e-43d4-8070-7da115004bee",
   "metadata": {},
   "outputs": [],
   "source": [
    "import joblib\n",
    "\n",
    "optuned_model = joblib.load('co_toralloss_6.joblib')\n",
    "type(optuned_model)"
   ]
  },
  {
   "cell_type": "code",
   "execution_count": null,
   "id": "b425a865-d6c3-4c00-9e52-e39740c9fbcd",
   "metadata": {},
   "outputs": [],
   "source": [
    "from sklearn.metrics import average_precision_score\n",
    "\n",
    "probas = optuned_model.predict_proba(X_test)\n",
    "\n",
    "X_test.shape, probas.shape"
   ]
  },
  {
   "cell_type": "code",
   "execution_count": null,
   "id": "8fb5d252-057b-4112-82dd-c85f51b984c5",
   "metadata": {},
   "outputs": [],
   "source": [
    "average_precision_score(y_test, probas[:, 1])"
   ]
  },
  {
   "cell_type": "code",
   "execution_count": null,
   "id": "7f3d711d-ff38-4891-ba7a-786790349247",
   "metadata": {},
   "outputs": [],
   "source": [
    "X_test['Probabilidades'] = probas[:, 1]  "
   ]
  },
  {
   "cell_type": "code",
   "execution_count": null,
   "id": "d9814ba6-62a9-4808-9efe-83284897e85a",
   "metadata": {},
   "outputs": [],
   "source": [
    "X_test = X_test.sort_values( by = ['Probabilidades'], ascending = False).to_excel('prueba_fija.xlsx', index = False)"
   ]
  },
  {
   "cell_type": "code",
   "execution_count": null,
   "id": "7d1eb229-c89c-4fb0-b233-e4798ece151a",
   "metadata": {},
   "outputs": [],
   "source": []
  }
 ],
 "metadata": {
  "kernelspec": {
   "display_name": "totallosshdi",
   "language": "python",
   "name": "totallosshdi"
  },
  "language_info": {
   "codemirror_mode": {
    "name": "ipython",
    "version": 3
   },
   "file_extension": ".py",
   "mimetype": "text/x-python",
   "name": "python",
   "nbconvert_exporter": "python",
   "pygments_lexer": "ipython3",
   "version": "3.10.8"
  }
 },
 "nbformat": 4,
 "nbformat_minor": 5
}
