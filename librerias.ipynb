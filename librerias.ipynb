{
 "cells": [
  {
   "cell_type": "code",
   "execution_count": 1,
   "id": "9c1012d8-4145-4139-bc93-dcf16271f585",
   "metadata": {
    "execution": {
     "iopub.execute_input": "2025-01-15T15:07:02.308734Z",
     "iopub.status.busy": "2025-01-15T15:07:02.308427Z",
     "iopub.status.idle": "2025-01-15T15:08:12.671480Z",
     "shell.execute_reply": "2025-01-15T15:08:12.670845Z"
    },
    "papermill": {
     "duration": 70.366397,
     "end_time": "2025-01-15T15:08:12.672373",
     "exception": false,
     "start_time": "2025-01-15T15:07:02.305976",
     "status": "completed"
    },
    "tags": []
   },
   "outputs": [
    {
     "name": "stdout",
     "output_type": "stream",
     "text": [
      "Requirement already satisfied: aiobotocore==2.15.2 in ./totallosshdi/lib/python3.10/site-packages (2.15.2)\r\n",
      "Requirement already satisfied: botocore<1.35.37,>=1.35.16 in ./totallosshdi/lib/python3.10/site-packages (from aiobotocore==2.15.2) (1.35.36)\r\n",
      "Requirement already satisfied: aiohttp<4.0.0,>=3.9.2 in ./totallosshdi/lib/python3.10/site-packages (from aiobotocore==2.15.2) (3.10.10)\r\n",
      "Requirement already satisfied: wrapt<2.0.0,>=1.10.10 in ./totallosshdi/lib/python3.10/site-packages (from aiobotocore==2.15.2) (1.16.0)\r\n",
      "Requirement already satisfied: aioitertools<1.0.0,>=0.5.1 in ./totallosshdi/lib/python3.10/site-packages (from aiobotocore==2.15.2) (0.12.0)\r\n",
      "Requirement already satisfied: aiohappyeyeballs>=2.3.0 in ./totallosshdi/lib/python3.10/site-packages (from aiohttp<4.0.0,>=3.9.2->aiobotocore==2.15.2) (2.4.3)\r\n",
      "Requirement already satisfied: aiosignal>=1.1.2 in ./totallosshdi/lib/python3.10/site-packages (from aiohttp<4.0.0,>=3.9.2->aiobotocore==2.15.2) (1.3.1)\r\n",
      "Requirement already satisfied: attrs>=17.3.0 in ./totallosshdi/lib/python3.10/site-packages (from aiohttp<4.0.0,>=3.9.2->aiobotocore==2.15.2) (24.2.0)\r\n",
      "Requirement already satisfied: frozenlist>=1.1.1 in ./totallosshdi/lib/python3.10/site-packages (from aiohttp<4.0.0,>=3.9.2->aiobotocore==2.15.2) (1.5.0)\r\n",
      "Requirement already satisfied: multidict<7.0,>=4.5 in ./totallosshdi/lib/python3.10/site-packages (from aiohttp<4.0.0,>=3.9.2->aiobotocore==2.15.2) (6.1.0)\r\n",
      "Requirement already satisfied: yarl<2.0,>=1.12.0 in ./totallosshdi/lib/python3.10/site-packages (from aiohttp<4.0.0,>=3.9.2->aiobotocore==2.15.2) (1.17.0)\r\n",
      "Requirement already satisfied: async-timeout<5.0,>=4.0 in ./totallosshdi/lib/python3.10/site-packages (from aiohttp<4.0.0,>=3.9.2->aiobotocore==2.15.2) (4.0.3)\r\n",
      "Requirement already satisfied: jmespath<2.0.0,>=0.7.1 in ./totallosshdi/lib/python3.10/site-packages (from botocore<1.35.37,>=1.35.16->aiobotocore==2.15.2) (1.0.1)\r\n",
      "Requirement already satisfied: python-dateutil<3.0.0,>=2.1 in ./totallosshdi/lib/python3.10/site-packages (from botocore<1.35.37,>=1.35.16->aiobotocore==2.15.2) (2.9.0.post0)\r\n",
      "Requirement already satisfied: urllib3!=2.2.0,<3,>=1.25.4 in ./totallosshdi/lib/python3.10/site-packages (from botocore<1.35.37,>=1.35.16->aiobotocore==2.15.2) (1.26.20)\r\n"
     ]
    },
    {
     "name": "stdout",
     "output_type": "stream",
     "text": [
      "Requirement already satisfied: typing-extensions>=4.1.0 in ./totallosshdi/lib/python3.10/site-packages (from multidict<7.0,>=4.5->aiohttp<4.0.0,>=3.9.2->aiobotocore==2.15.2) (4.12.2)\r\n",
      "Requirement already satisfied: six>=1.5 in ./totallosshdi/lib/python3.10/site-packages (from python-dateutil<3.0.0,>=2.1->botocore<1.35.37,>=1.35.16->aiobotocore==2.15.2) (1.16.0)\r\n",
      "Requirement already satisfied: idna>=2.0 in ./totallosshdi/lib/python3.10/site-packages (from yarl<2.0,>=1.12.0->aiohttp<4.0.0,>=3.9.2->aiobotocore==2.15.2) (3.10)\r\n",
      "Requirement already satisfied: propcache>=0.2.0 in ./totallosshdi/lib/python3.10/site-packages (from yarl<2.0,>=1.12.0->aiohttp<4.0.0,>=3.9.2->aiobotocore==2.15.2) (0.2.0)\r\n"
     ]
    },
    {
     "name": "stdout",
     "output_type": "stream",
     "text": [
      "Note: you may need to restart the kernel to use updated packages.\n"
     ]
    },
    {
     "name": "stdout",
     "output_type": "stream",
     "text": [
      "Requirement already satisfied: aiohappyeyeballs==2.4.3 in ./totallosshdi/lib/python3.10/site-packages (2.4.3)\r\n"
     ]
    },
    {
     "name": "stdout",
     "output_type": "stream",
     "text": [
      "Note: you may need to restart the kernel to use updated packages.\n"
     ]
    },
    {
     "name": "stdout",
     "output_type": "stream",
     "text": [
      "Requirement already satisfied: aiohttp==3.10.10 in ./totallosshdi/lib/python3.10/site-packages (3.10.10)\r\n",
      "Requirement already satisfied: aiohappyeyeballs>=2.3.0 in ./totallosshdi/lib/python3.10/site-packages (from aiohttp==3.10.10) (2.4.3)\r\n",
      "Requirement already satisfied: aiosignal>=1.1.2 in ./totallosshdi/lib/python3.10/site-packages (from aiohttp==3.10.10) (1.3.1)\r\n",
      "Requirement already satisfied: attrs>=17.3.0 in ./totallosshdi/lib/python3.10/site-packages (from aiohttp==3.10.10) (24.2.0)\r\n",
      "Requirement already satisfied: frozenlist>=1.1.1 in ./totallosshdi/lib/python3.10/site-packages (from aiohttp==3.10.10) (1.5.0)\r\n",
      "Requirement already satisfied: multidict<7.0,>=4.5 in ./totallosshdi/lib/python3.10/site-packages (from aiohttp==3.10.10) (6.1.0)\r\n",
      "Requirement already satisfied: yarl<2.0,>=1.12.0 in ./totallosshdi/lib/python3.10/site-packages (from aiohttp==3.10.10) (1.17.0)\r\n",
      "Requirement already satisfied: async-timeout<5.0,>=4.0 in ./totallosshdi/lib/python3.10/site-packages (from aiohttp==3.10.10) (4.0.3)\r\n",
      "Requirement already satisfied: typing-extensions>=4.1.0 in ./totallosshdi/lib/python3.10/site-packages (from multidict<7.0,>=4.5->aiohttp==3.10.10) (4.12.2)\r\n"
     ]
    },
    {
     "name": "stdout",
     "output_type": "stream",
     "text": [
      "Requirement already satisfied: idna>=2.0 in ./totallosshdi/lib/python3.10/site-packages (from yarl<2.0,>=1.12.0->aiohttp==3.10.10) (3.10)\r\n",
      "Requirement already satisfied: propcache>=0.2.0 in ./totallosshdi/lib/python3.10/site-packages (from yarl<2.0,>=1.12.0->aiohttp==3.10.10) (0.2.0)\r\n"
     ]
    },
    {
     "name": "stdout",
     "output_type": "stream",
     "text": [
      "Note: you may need to restart the kernel to use updated packages.\n"
     ]
    },
    {
     "name": "stdout",
     "output_type": "stream",
     "text": [
      "Requirement already satisfied: aioitertools==0.12.0 in ./totallosshdi/lib/python3.10/site-packages (0.12.0)\r\n"
     ]
    },
    {
     "name": "stdout",
     "output_type": "stream",
     "text": [
      "Note: you may need to restart the kernel to use updated packages.\n"
     ]
    },
    {
     "name": "stdout",
     "output_type": "stream",
     "text": [
      "Requirement already satisfied: aiosignal==1.3.1 in ./totallosshdi/lib/python3.10/site-packages (1.3.1)\r\n",
      "Requirement already satisfied: frozenlist>=1.1.0 in ./totallosshdi/lib/python3.10/site-packages (from aiosignal==1.3.1) (1.5.0)\r\n"
     ]
    },
    {
     "name": "stdout",
     "output_type": "stream",
     "text": [
      "Note: you may need to restart the kernel to use updated packages.\n"
     ]
    },
    {
     "name": "stdout",
     "output_type": "stream",
     "text": [
      "Requirement already satisfied: alembic==1.13.3 in ./totallosshdi/lib/python3.10/site-packages (1.13.3)\r\n",
      "Requirement already satisfied: SQLAlchemy>=1.3.0 in ./totallosshdi/lib/python3.10/site-packages (from alembic==1.13.3) (2.0.36)\r\n",
      "Requirement already satisfied: Mako in ./totallosshdi/lib/python3.10/site-packages (from alembic==1.13.3) (1.3.6)\r\n",
      "Requirement already satisfied: typing-extensions>=4 in ./totallosshdi/lib/python3.10/site-packages (from alembic==1.13.3) (4.12.2)\r\n",
      "Requirement already satisfied: greenlet!=0.4.17 in ./totallosshdi/lib/python3.10/site-packages (from SQLAlchemy>=1.3.0->alembic==1.13.3) (3.1.1)\r\n",
      "Requirement already satisfied: MarkupSafe>=0.9.2 in ./totallosshdi/lib/python3.10/site-packages (from Mako->alembic==1.13.3) (3.0.2)\r\n"
     ]
    },
    {
     "name": "stdout",
     "output_type": "stream",
     "text": [
      "Note: you may need to restart the kernel to use updated packages.\n"
     ]
    },
    {
     "name": "stdout",
     "output_type": "stream",
     "text": [
      "Requirement already satisfied: asttokens==2.4.1 in ./totallosshdi/lib/python3.10/site-packages (2.4.1)\r\n",
      "Requirement already satisfied: six>=1.12.0 in ./totallosshdi/lib/python3.10/site-packages (from asttokens==2.4.1) (1.16.0)\r\n"
     ]
    },
    {
     "name": "stdout",
     "output_type": "stream",
     "text": [
      "Note: you may need to restart the kernel to use updated packages.\n"
     ]
    },
    {
     "name": "stdout",
     "output_type": "stream",
     "text": [
      "Requirement already satisfied: async-timeout==4.0.3 in ./totallosshdi/lib/python3.10/site-packages (4.0.3)\r\n"
     ]
    },
    {
     "name": "stdout",
     "output_type": "stream",
     "text": [
      "Note: you may need to restart the kernel to use updated packages.\n"
     ]
    },
    {
     "name": "stdout",
     "output_type": "stream",
     "text": [
      "Requirement already satisfied: attrs==24.2.0 in ./totallosshdi/lib/python3.10/site-packages (24.2.0)\r\n"
     ]
    },
    {
     "name": "stdout",
     "output_type": "stream",
     "text": [
      "Note: you may need to restart the kernel to use updated packages.\n"
     ]
    },
    {
     "name": "stdout",
     "output_type": "stream",
     "text": [
      "Requirement already satisfied: autopage==0.5.2 in ./totallosshdi/lib/python3.10/site-packages (0.5.2)\r\n"
     ]
    },
    {
     "name": "stdout",
     "output_type": "stream",
     "text": [
      "Note: you may need to restart the kernel to use updated packages.\n"
     ]
    },
    {
     "name": "stdout",
     "output_type": "stream",
     "text": [
      "Requirement already satisfied: boto3==1.35.52 in ./totallosshdi/lib/python3.10/site-packages (1.35.52)\r\n"
     ]
    },
    {
     "name": "stdout",
     "output_type": "stream",
     "text": [
      "Collecting botocore<1.36.0,>=1.35.52 (from boto3==1.35.52)\r\n",
      "  Using cached botocore-1.35.99-py3-none-any.whl.metadata (5.7 kB)\r\n",
      "Requirement already satisfied: jmespath<2.0.0,>=0.7.1 in ./totallosshdi/lib/python3.10/site-packages (from boto3==1.35.52) (1.0.1)\r\n",
      "Requirement already satisfied: s3transfer<0.11.0,>=0.10.0 in ./totallosshdi/lib/python3.10/site-packages (from boto3==1.35.52) (0.10.3)\r\n",
      "Requirement already satisfied: python-dateutil<3.0.0,>=2.1 in ./totallosshdi/lib/python3.10/site-packages (from botocore<1.36.0,>=1.35.52->boto3==1.35.52) (2.9.0.post0)\r\n",
      "Requirement already satisfied: urllib3!=2.2.0,<3,>=1.25.4 in ./totallosshdi/lib/python3.10/site-packages (from botocore<1.36.0,>=1.35.52->boto3==1.35.52) (1.26.20)\r\n"
     ]
    },
    {
     "name": "stdout",
     "output_type": "stream",
     "text": [
      "Requirement already satisfied: six>=1.5 in ./totallosshdi/lib/python3.10/site-packages (from python-dateutil<3.0.0,>=2.1->botocore<1.36.0,>=1.35.52->boto3==1.35.52) (1.16.0)\r\n",
      "Using cached botocore-1.35.99-py3-none-any.whl (13.3 MB)\r\n"
     ]
    },
    {
     "name": "stdout",
     "output_type": "stream",
     "text": [
      "Installing collected packages: botocore\r\n",
      "  Attempting uninstall: botocore\r\n",
      "    Found existing installation: botocore 1.35.36\r\n"
     ]
    },
    {
     "name": "stdout",
     "output_type": "stream",
     "text": [
      "    Uninstalling botocore-1.35.36:\r\n"
     ]
    },
    {
     "name": "stdout",
     "output_type": "stream",
     "text": [
      "      Successfully uninstalled botocore-1.35.36\r\n"
     ]
    },
    {
     "name": "stdout",
     "output_type": "stream",
     "text": [
      "\u001b[31mERROR: pip's dependency resolver does not currently take into account all the packages that are installed. This behaviour is the source of the following dependency conflicts.\r\n",
      "aiobotocore 2.15.2 requires botocore<1.35.37,>=1.35.16, but you have botocore 1.35.99 which is incompatible.\r\n",
      "sagemaker 2.237.1 requires attrs<24,>=23.1.0, but you have attrs 24.2.0 which is incompatible.\r\n",
      "sagemaker 2.237.1 requires boto3<2.0,>=1.35.75, but you have boto3 1.35.52 which is incompatible.\r\n",
      "sagemaker-core 1.0.17 requires boto3<2.0.0,>=1.35.75, but you have boto3 1.35.52 which is incompatible.\u001b[0m\u001b[31m\r\n",
      "\u001b[0mSuccessfully installed botocore-1.35.99\r\n"
     ]
    },
    {
     "name": "stdout",
     "output_type": "stream",
     "text": [
      "Note: you may need to restart the kernel to use updated packages.\n"
     ]
    },
    {
     "name": "stdout",
     "output_type": "stream",
     "text": [
      "Collecting botocore==1.35.36\r\n",
      "  Using cached botocore-1.35.36-py3-none-any.whl.metadata (5.7 kB)\r\n",
      "Requirement already satisfied: jmespath<2.0.0,>=0.7.1 in ./totallosshdi/lib/python3.10/site-packages (from botocore==1.35.36) (1.0.1)\r\n",
      "Requirement already satisfied: python-dateutil<3.0.0,>=2.1 in ./totallosshdi/lib/python3.10/site-packages (from botocore==1.35.36) (2.9.0.post0)\r\n",
      "Requirement already satisfied: urllib3!=2.2.0,<3,>=1.25.4 in ./totallosshdi/lib/python3.10/site-packages (from botocore==1.35.36) (1.26.20)\r\n",
      "Requirement already satisfied: six>=1.5 in ./totallosshdi/lib/python3.10/site-packages (from python-dateutil<3.0.0,>=2.1->botocore==1.35.36) (1.16.0)\r\n",
      "Using cached botocore-1.35.36-py3-none-any.whl (12.6 MB)\r\n"
     ]
    },
    {
     "name": "stdout",
     "output_type": "stream",
     "text": [
      "Installing collected packages: botocore\r\n",
      "  Attempting uninstall: botocore\r\n",
      "    Found existing installation: botocore 1.35.99\r\n"
     ]
    },
    {
     "name": "stdout",
     "output_type": "stream",
     "text": [
      "    Uninstalling botocore-1.35.99:\r\n"
     ]
    },
    {
     "name": "stdout",
     "output_type": "stream",
     "text": [
      "      Successfully uninstalled botocore-1.35.99\r\n"
     ]
    },
    {
     "name": "stdout",
     "output_type": "stream",
     "text": [
      "\u001b[31mERROR: pip's dependency resolver does not currently take into account all the packages that are installed. This behaviour is the source of the following dependency conflicts.\r\n",
      "boto3 1.35.52 requires botocore<1.36.0,>=1.35.52, but you have botocore 1.35.36 which is incompatible.\r\n",
      "sagemaker 2.237.1 requires attrs<24,>=23.1.0, but you have attrs 24.2.0 which is incompatible.\r\n",
      "sagemaker 2.237.1 requires boto3<2.0,>=1.35.75, but you have boto3 1.35.52 which is incompatible.\r\n",
      "sagemaker-core 1.0.17 requires boto3<2.0.0,>=1.35.75, but you have boto3 1.35.52 which is incompatible.\u001b[0m\u001b[31m\r\n",
      "\u001b[0mSuccessfully installed botocore-1.35.36\r\n"
     ]
    },
    {
     "name": "stdout",
     "output_type": "stream",
     "text": [
      "Note: you may need to restart the kernel to use updated packages.\n"
     ]
    },
    {
     "name": "stdout",
     "output_type": "stream",
     "text": [
      "Requirement already satisfied: click==8.1.7 in ./totallosshdi/lib/python3.10/site-packages (8.1.7)\r\n"
     ]
    },
    {
     "name": "stdout",
     "output_type": "stream",
     "text": [
      "Note: you may need to restart the kernel to use updated packages.\n"
     ]
    },
    {
     "name": "stdout",
     "output_type": "stream",
     "text": [
      "Requirement already satisfied: cliff==4.7.0 in ./totallosshdi/lib/python3.10/site-packages (4.7.0)\r\n",
      "Requirement already satisfied: PrettyTable>=0.7.2 in ./totallosshdi/lib/python3.10/site-packages (from cliff==4.7.0) (3.12.0)\r\n",
      "Requirement already satisfied: PyYAML>=3.12 in ./totallosshdi/lib/python3.10/site-packages (from cliff==4.7.0) (6.0.2)\r\n",
      "Requirement already satisfied: autopage>=0.4.0 in ./totallosshdi/lib/python3.10/site-packages (from cliff==4.7.0) (0.5.2)\r\n",
      "Requirement already satisfied: cmd2>=1.0.0 in ./totallosshdi/lib/python3.10/site-packages (from cliff==4.7.0) (2.5.0)\r\n",
      "Requirement already satisfied: stevedore>=2.0.1 in ./totallosshdi/lib/python3.10/site-packages (from cliff==4.7.0) (5.3.0)\r\n",
      "Requirement already satisfied: pyperclip in ./totallosshdi/lib/python3.10/site-packages (from cmd2>=1.0.0->cliff==4.7.0) (1.9.0)\r\n",
      "Requirement already satisfied: wcwidth in ./totallosshdi/lib/python3.10/site-packages (from cmd2>=1.0.0->cliff==4.7.0) (0.2.13)\r\n",
      "Requirement already satisfied: pbr>=2.0.0 in ./totallosshdi/lib/python3.10/site-packages (from stevedore>=2.0.1->cliff==4.7.0) (6.1.0)\r\n"
     ]
    },
    {
     "name": "stdout",
     "output_type": "stream",
     "text": [
      "Note: you may need to restart the kernel to use updated packages.\n"
     ]
    },
    {
     "name": "stdout",
     "output_type": "stream",
     "text": [
      "Requirement already satisfied: cmaes==0.11.1 in ./totallosshdi/lib/python3.10/site-packages (0.11.1)\r\n",
      "Requirement already satisfied: numpy in ./totallosshdi/lib/python3.10/site-packages (from cmaes==0.11.1) (1.24.4)\r\n"
     ]
    },
    {
     "name": "stdout",
     "output_type": "stream",
     "text": [
      "Note: you may need to restart the kernel to use updated packages.\n"
     ]
    },
    {
     "name": "stdout",
     "output_type": "stream",
     "text": [
      "Requirement already satisfied: cmd2==2.5.0 in ./totallosshdi/lib/python3.10/site-packages (2.5.0)\r\n",
      "Requirement already satisfied: pyperclip in ./totallosshdi/lib/python3.10/site-packages (from cmd2==2.5.0) (1.9.0)\r\n",
      "Requirement already satisfied: wcwidth in ./totallosshdi/lib/python3.10/site-packages (from cmd2==2.5.0) (0.2.13)\r\n"
     ]
    },
    {
     "name": "stdout",
     "output_type": "stream",
     "text": [
      "Note: you may need to restart the kernel to use updated packages.\n"
     ]
    },
    {
     "name": "stdout",
     "output_type": "stream",
     "text": [
      "Requirement already satisfied: colorlog==6.9.0 in ./totallosshdi/lib/python3.10/site-packages (6.9.0)\r\n"
     ]
    },
    {
     "name": "stdout",
     "output_type": "stream",
     "text": [
      "Note: you may need to restart the kernel to use updated packages.\n"
     ]
    },
    {
     "name": "stdout",
     "output_type": "stream",
     "text": [
      "Requirement already satisfied: comm==0.2.2 in ./totallosshdi/lib/python3.10/site-packages (0.2.2)\r\n",
      "Requirement already satisfied: traitlets>=4 in ./totallosshdi/lib/python3.10/site-packages (from comm==0.2.2) (5.14.3)\r\n"
     ]
    },
    {
     "name": "stdout",
     "output_type": "stream",
     "text": [
      "Note: you may need to restart the kernel to use updated packages.\n"
     ]
    },
    {
     "name": "stdout",
     "output_type": "stream",
     "text": [
      "Requirement already satisfied: debugpy==1.8.7 in ./totallosshdi/lib/python3.10/site-packages (1.8.7)\r\n"
     ]
    },
    {
     "name": "stdout",
     "output_type": "stream",
     "text": [
      "Note: you may need to restart the kernel to use updated packages.\n"
     ]
    },
    {
     "name": "stdout",
     "output_type": "stream",
     "text": [
      "Requirement already satisfied: decorator==5.1.1 in ./totallosshdi/lib/python3.10/site-packages (5.1.1)\r\n"
     ]
    },
    {
     "name": "stdout",
     "output_type": "stream",
     "text": [
      "Note: you may need to restart the kernel to use updated packages.\n"
     ]
    },
    {
     "name": "stdout",
     "output_type": "stream",
     "text": [
      "Requirement already satisfied: et_xmlfile==2.0.0 in ./totallosshdi/lib/python3.10/site-packages (2.0.0)\r\n"
     ]
    },
    {
     "name": "stdout",
     "output_type": "stream",
     "text": [
      "Note: you may need to restart the kernel to use updated packages.\n"
     ]
    },
    {
     "name": "stdout",
     "output_type": "stream",
     "text": [
      "Requirement already satisfied: exceptiongroup==1.2.2 in ./totallosshdi/lib/python3.10/site-packages (1.2.2)\r\n"
     ]
    },
    {
     "name": "stdout",
     "output_type": "stream",
     "text": [
      "Note: you may need to restart the kernel to use updated packages.\n"
     ]
    },
    {
     "name": "stdout",
     "output_type": "stream",
     "text": [
      "Requirement already satisfied: executing==2.1.0 in ./totallosshdi/lib/python3.10/site-packages (2.1.0)\r\n"
     ]
    },
    {
     "name": "stdout",
     "output_type": "stream",
     "text": [
      "Note: you may need to restart the kernel to use updated packages.\n"
     ]
    },
    {
     "name": "stdout",
     "output_type": "stream",
     "text": [
      "Requirement already satisfied: frozenlist==1.5.0 in ./totallosshdi/lib/python3.10/site-packages (1.5.0)\r\n"
     ]
    },
    {
     "name": "stdout",
     "output_type": "stream",
     "text": [
      "Note: you may need to restart the kernel to use updated packages.\n"
     ]
    },
    {
     "name": "stdout",
     "output_type": "stream",
     "text": [
      "Requirement already satisfied: fsspec==2024.10.0 in ./totallosshdi/lib/python3.10/site-packages (2024.10.0)\r\n"
     ]
    },
    {
     "name": "stdout",
     "output_type": "stream",
     "text": [
      "Note: you may need to restart the kernel to use updated packages.\n"
     ]
    },
    {
     "name": "stdout",
     "output_type": "stream",
     "text": [
      "Requirement already satisfied: greenlet==3.1.1 in ./totallosshdi/lib/python3.10/site-packages (3.1.1)\r\n"
     ]
    },
    {
     "name": "stdout",
     "output_type": "stream",
     "text": [
      "Note: you may need to restart the kernel to use updated packages.\n"
     ]
    },
    {
     "name": "stdout",
     "output_type": "stream",
     "text": [
      "Requirement already satisfied: idna==3.10 in ./totallosshdi/lib/python3.10/site-packages (3.10)\r\n"
     ]
    },
    {
     "name": "stdout",
     "output_type": "stream",
     "text": [
      "Note: you may need to restart the kernel to use updated packages.\n"
     ]
    },
    {
     "name": "stdout",
     "output_type": "stream",
     "text": [
      "Requirement already satisfied: importlib-metadata==4.13.0 in ./totallosshdi/lib/python3.10/site-packages (4.13.0)\r\n",
      "Requirement already satisfied: zipp>=0.5 in ./totallosshdi/lib/python3.10/site-packages (from importlib-metadata==4.13.0) (3.20.2)\r\n"
     ]
    },
    {
     "name": "stdout",
     "output_type": "stream",
     "text": [
      "Note: you may need to restart the kernel to use updated packages.\n"
     ]
    },
    {
     "name": "stdout",
     "output_type": "stream",
     "text": [
      "Requirement already satisfied: ipykernel==6.29.5 in ./totallosshdi/lib/python3.10/site-packages (6.29.5)\r\n",
      "Requirement already satisfied: comm>=0.1.1 in ./totallosshdi/lib/python3.10/site-packages (from ipykernel==6.29.5) (0.2.2)\r\n",
      "Requirement already satisfied: debugpy>=1.6.5 in ./totallosshdi/lib/python3.10/site-packages (from ipykernel==6.29.5) (1.8.7)\r\n",
      "Requirement already satisfied: ipython>=7.23.1 in ./totallosshdi/lib/python3.10/site-packages (from ipykernel==6.29.5) (8.18.1)\r\n",
      "Requirement already satisfied: jupyter-client>=6.1.12 in ./totallosshdi/lib/python3.10/site-packages (from ipykernel==6.29.5) (8.6.3)\r\n",
      "Requirement already satisfied: jupyter-core!=5.0.*,>=4.12 in ./totallosshdi/lib/python3.10/site-packages (from ipykernel==6.29.5) (5.7.2)\r\n",
      "Requirement already satisfied: matplotlib-inline>=0.1 in ./totallosshdi/lib/python3.10/site-packages (from ipykernel==6.29.5) (0.1.7)\r\n",
      "Requirement already satisfied: nest-asyncio in ./totallosshdi/lib/python3.10/site-packages (from ipykernel==6.29.5) (1.6.0)\r\n",
      "Requirement already satisfied: packaging in ./totallosshdi/lib/python3.10/site-packages (from ipykernel==6.29.5) (24.1)\r\n",
      "Requirement already satisfied: psutil in ./totallosshdi/lib/python3.10/site-packages (from ipykernel==6.29.5) (6.1.0)\r\n",
      "Requirement already satisfied: pyzmq>=24 in ./totallosshdi/lib/python3.10/site-packages (from ipykernel==6.29.5) (26.2.0)\r\n",
      "Requirement already satisfied: tornado>=6.1 in ./totallosshdi/lib/python3.10/site-packages (from ipykernel==6.29.5) (6.4.1)\r\n",
      "Requirement already satisfied: traitlets>=5.4.0 in ./totallosshdi/lib/python3.10/site-packages (from ipykernel==6.29.5) (5.14.3)\r\n"
     ]
    },
    {
     "name": "stdout",
     "output_type": "stream",
     "text": [
      "Requirement already satisfied: decorator in ./totallosshdi/lib/python3.10/site-packages (from ipython>=7.23.1->ipykernel==6.29.5) (5.1.1)\r\n",
      "Requirement already satisfied: jedi>=0.16 in ./totallosshdi/lib/python3.10/site-packages (from ipython>=7.23.1->ipykernel==6.29.5) (0.19.1)\r\n",
      "Requirement already satisfied: prompt-toolkit<3.1.0,>=3.0.41 in ./totallosshdi/lib/python3.10/site-packages (from ipython>=7.23.1->ipykernel==6.29.5) (3.0.48)\r\n",
      "Requirement already satisfied: pygments>=2.4.0 in ./totallosshdi/lib/python3.10/site-packages (from ipython>=7.23.1->ipykernel==6.29.5) (2.18.0)\r\n",
      "Requirement already satisfied: stack-data in ./totallosshdi/lib/python3.10/site-packages (from ipython>=7.23.1->ipykernel==6.29.5) (0.6.3)\r\n",
      "Requirement already satisfied: exceptiongroup in ./totallosshdi/lib/python3.10/site-packages (from ipython>=7.23.1->ipykernel==6.29.5) (1.2.2)\r\n",
      "Requirement already satisfied: pexpect>4.3 in ./totallosshdi/lib/python3.10/site-packages (from ipython>=7.23.1->ipykernel==6.29.5) (4.9.0)\r\n",
      "Requirement already satisfied: python-dateutil>=2.8.2 in ./totallosshdi/lib/python3.10/site-packages (from jupyter-client>=6.1.12->ipykernel==6.29.5) (2.9.0.post0)\r\n",
      "Requirement already satisfied: platformdirs>=2.5 in ./totallosshdi/lib/python3.10/site-packages (from jupyter-core!=5.0.*,>=4.12->ipykernel==6.29.5) (4.3.6)\r\n",
      "Requirement already satisfied: parso<0.9.0,>=0.8.3 in ./totallosshdi/lib/python3.10/site-packages (from jedi>=0.16->ipython>=7.23.1->ipykernel==6.29.5) (0.8.4)\r\n",
      "Requirement already satisfied: ptyprocess>=0.5 in ./totallosshdi/lib/python3.10/site-packages (from pexpect>4.3->ipython>=7.23.1->ipykernel==6.29.5) (0.7.0)\r\n",
      "Requirement already satisfied: wcwidth in ./totallosshdi/lib/python3.10/site-packages (from prompt-toolkit<3.1.0,>=3.0.41->ipython>=7.23.1->ipykernel==6.29.5) (0.2.13)\r\n",
      "Requirement already satisfied: six>=1.5 in ./totallosshdi/lib/python3.10/site-packages (from python-dateutil>=2.8.2->jupyter-client>=6.1.12->ipykernel==6.29.5) (1.16.0)\r\n",
      "Requirement already satisfied: executing>=1.2.0 in ./totallosshdi/lib/python3.10/site-packages (from stack-data->ipython>=7.23.1->ipykernel==6.29.5) (2.1.0)\r\n",
      "Requirement already satisfied: asttokens>=2.1.0 in ./totallosshdi/lib/python3.10/site-packages (from stack-data->ipython>=7.23.1->ipykernel==6.29.5) (2.4.1)\r\n",
      "Requirement already satisfied: pure-eval in ./totallosshdi/lib/python3.10/site-packages (from stack-data->ipython>=7.23.1->ipykernel==6.29.5) (0.2.3)\r\n"
     ]
    },
    {
     "name": "stdout",
     "output_type": "stream",
     "text": [
      "Note: you may need to restart the kernel to use updated packages.\n"
     ]
    },
    {
     "name": "stdout",
     "output_type": "stream",
     "text": [
      "Requirement already satisfied: ipython==8.18.1 in ./totallosshdi/lib/python3.10/site-packages (8.18.1)\r\n",
      "Requirement already satisfied: decorator in ./totallosshdi/lib/python3.10/site-packages (from ipython==8.18.1) (5.1.1)\r\n",
      "Requirement already satisfied: jedi>=0.16 in ./totallosshdi/lib/python3.10/site-packages (from ipython==8.18.1) (0.19.1)\r\n",
      "Requirement already satisfied: matplotlib-inline in ./totallosshdi/lib/python3.10/site-packages (from ipython==8.18.1) (0.1.7)\r\n",
      "Requirement already satisfied: prompt-toolkit<3.1.0,>=3.0.41 in ./totallosshdi/lib/python3.10/site-packages (from ipython==8.18.1) (3.0.48)\r\n",
      "Requirement already satisfied: pygments>=2.4.0 in ./totallosshdi/lib/python3.10/site-packages (from ipython==8.18.1) (2.18.0)\r\n",
      "Requirement already satisfied: stack-data in ./totallosshdi/lib/python3.10/site-packages (from ipython==8.18.1) (0.6.3)\r\n",
      "Requirement already satisfied: traitlets>=5 in ./totallosshdi/lib/python3.10/site-packages (from ipython==8.18.1) (5.14.3)\r\n",
      "Requirement already satisfied: exceptiongroup in ./totallosshdi/lib/python3.10/site-packages (from ipython==8.18.1) (1.2.2)\r\n",
      "Requirement already satisfied: pexpect>4.3 in ./totallosshdi/lib/python3.10/site-packages (from ipython==8.18.1) (4.9.0)\r\n"
     ]
    },
    {
     "name": "stdout",
     "output_type": "stream",
     "text": [
      "Requirement already satisfied: parso<0.9.0,>=0.8.3 in ./totallosshdi/lib/python3.10/site-packages (from jedi>=0.16->ipython==8.18.1) (0.8.4)\r\n",
      "Requirement already satisfied: ptyprocess>=0.5 in ./totallosshdi/lib/python3.10/site-packages (from pexpect>4.3->ipython==8.18.1) (0.7.0)\r\n",
      "Requirement already satisfied: wcwidth in ./totallosshdi/lib/python3.10/site-packages (from prompt-toolkit<3.1.0,>=3.0.41->ipython==8.18.1) (0.2.13)\r\n",
      "Requirement already satisfied: executing>=1.2.0 in ./totallosshdi/lib/python3.10/site-packages (from stack-data->ipython==8.18.1) (2.1.0)\r\n",
      "Requirement already satisfied: asttokens>=2.1.0 in ./totallosshdi/lib/python3.10/site-packages (from stack-data->ipython==8.18.1) (2.4.1)\r\n",
      "Requirement already satisfied: pure-eval in ./totallosshdi/lib/python3.10/site-packages (from stack-data->ipython==8.18.1) (0.2.3)\r\n",
      "Requirement already satisfied: six>=1.12.0 in ./totallosshdi/lib/python3.10/site-packages (from asttokens>=2.1.0->stack-data->ipython==8.18.1) (1.16.0)\r\n"
     ]
    },
    {
     "name": "stdout",
     "output_type": "stream",
     "text": [
      "Note: you may need to restart the kernel to use updated packages.\n"
     ]
    },
    {
     "name": "stdout",
     "output_type": "stream",
     "text": [
      "Requirement already satisfied: jedi==0.19.1 in ./totallosshdi/lib/python3.10/site-packages (0.19.1)\r\n",
      "Requirement already satisfied: parso<0.9.0,>=0.8.3 in ./totallosshdi/lib/python3.10/site-packages (from jedi==0.19.1) (0.8.4)\r\n"
     ]
    },
    {
     "name": "stdout",
     "output_type": "stream",
     "text": [
      "Note: you may need to restart the kernel to use updated packages.\n"
     ]
    },
    {
     "name": "stdout",
     "output_type": "stream",
     "text": [
      "Requirement already satisfied: jmespath==1.0.1 in ./totallosshdi/lib/python3.10/site-packages (1.0.1)\r\n"
     ]
    },
    {
     "name": "stdout",
     "output_type": "stream",
     "text": [
      "Note: you may need to restart the kernel to use updated packages.\n"
     ]
    },
    {
     "name": "stdout",
     "output_type": "stream",
     "text": [
      "Requirement already satisfied: joblib==1.2.0 in ./totallosshdi/lib/python3.10/site-packages (1.2.0)\r\n"
     ]
    },
    {
     "name": "stdout",
     "output_type": "stream",
     "text": [
      "Note: you may need to restart the kernel to use updated packages.\n"
     ]
    },
    {
     "name": "stdout",
     "output_type": "stream",
     "text": [
      "Requirement already satisfied: jupyter_client==8.6.3 in ./totallosshdi/lib/python3.10/site-packages (8.6.3)\r\n",
      "Requirement already satisfied: jupyter-core!=5.0.*,>=4.12 in ./totallosshdi/lib/python3.10/site-packages (from jupyter_client==8.6.3) (5.7.2)\r\n",
      "Requirement already satisfied: python-dateutil>=2.8.2 in ./totallosshdi/lib/python3.10/site-packages (from jupyter_client==8.6.3) (2.9.0.post0)\r\n",
      "Requirement already satisfied: pyzmq>=23.0 in ./totallosshdi/lib/python3.10/site-packages (from jupyter_client==8.6.3) (26.2.0)\r\n",
      "Requirement already satisfied: tornado>=6.2 in ./totallosshdi/lib/python3.10/site-packages (from jupyter_client==8.6.3) (6.4.1)\r\n",
      "Requirement already satisfied: traitlets>=5.3 in ./totallosshdi/lib/python3.10/site-packages (from jupyter_client==8.6.3) (5.14.3)\r\n",
      "Requirement already satisfied: platformdirs>=2.5 in ./totallosshdi/lib/python3.10/site-packages (from jupyter-core!=5.0.*,>=4.12->jupyter_client==8.6.3) (4.3.6)\r\n",
      "Requirement already satisfied: six>=1.5 in ./totallosshdi/lib/python3.10/site-packages (from python-dateutil>=2.8.2->jupyter_client==8.6.3) (1.16.0)\r\n"
     ]
    },
    {
     "name": "stdout",
     "output_type": "stream",
     "text": [
      "Note: you may need to restart the kernel to use updated packages.\n"
     ]
    },
    {
     "name": "stdout",
     "output_type": "stream",
     "text": [
      "Requirement already satisfied: jupyter_core==5.7.2 in ./totallosshdi/lib/python3.10/site-packages (5.7.2)\r\n",
      "Requirement already satisfied: platformdirs>=2.5 in ./totallosshdi/lib/python3.10/site-packages (from jupyter_core==5.7.2) (4.3.6)\r\n",
      "Requirement already satisfied: traitlets>=5.3 in ./totallosshdi/lib/python3.10/site-packages (from jupyter_core==5.7.2) (5.14.3)\r\n"
     ]
    },
    {
     "name": "stdout",
     "output_type": "stream",
     "text": [
      "Note: you may need to restart the kernel to use updated packages.\n"
     ]
    },
    {
     "name": "stdout",
     "output_type": "stream",
     "text": [
      "Requirement already satisfied: Mako==1.3.6 in ./totallosshdi/lib/python3.10/site-packages (1.3.6)\r\n",
      "Requirement already satisfied: MarkupSafe>=0.9.2 in ./totallosshdi/lib/python3.10/site-packages (from Mako==1.3.6) (3.0.2)\r\n"
     ]
    },
    {
     "name": "stdout",
     "output_type": "stream",
     "text": [
      "Note: you may need to restart the kernel to use updated packages.\n"
     ]
    },
    {
     "name": "stdout",
     "output_type": "stream",
     "text": [
      "Requirement already satisfied: MarkupSafe==3.0.2 in ./totallosshdi/lib/python3.10/site-packages (3.0.2)\r\n"
     ]
    },
    {
     "name": "stdout",
     "output_type": "stream",
     "text": [
      "Note: you may need to restart the kernel to use updated packages.\n"
     ]
    },
    {
     "name": "stdout",
     "output_type": "stream",
     "text": [
      "Requirement already satisfied: matplotlib-inline==0.1.7 in ./totallosshdi/lib/python3.10/site-packages (0.1.7)\r\n",
      "Requirement already satisfied: traitlets in ./totallosshdi/lib/python3.10/site-packages (from matplotlib-inline==0.1.7) (5.14.3)\r\n"
     ]
    },
    {
     "name": "stdout",
     "output_type": "stream",
     "text": [
      "Note: you may need to restart the kernel to use updated packages.\n"
     ]
    },
    {
     "name": "stdout",
     "output_type": "stream",
     "text": [
      "Requirement already satisfied: multidict==6.1.0 in ./totallosshdi/lib/python3.10/site-packages (6.1.0)\r\n",
      "Requirement already satisfied: typing-extensions>=4.1.0 in ./totallosshdi/lib/python3.10/site-packages (from multidict==6.1.0) (4.12.2)\r\n"
     ]
    },
    {
     "name": "stdout",
     "output_type": "stream",
     "text": [
      "Note: you may need to restart the kernel to use updated packages.\n"
     ]
    },
    {
     "name": "stdout",
     "output_type": "stream",
     "text": [
      "Requirement already satisfied: nest-asyncio==1.6.0 in ./totallosshdi/lib/python3.10/site-packages (1.6.0)\r\n"
     ]
    },
    {
     "name": "stdout",
     "output_type": "stream",
     "text": [
      "Note: you may need to restart the kernel to use updated packages.\n"
     ]
    },
    {
     "name": "stdout",
     "output_type": "stream",
     "text": [
      "Requirement already satisfied: nltk==3.7 in ./totallosshdi/lib/python3.10/site-packages (3.7)\r\n",
      "Requirement already satisfied: click in ./totallosshdi/lib/python3.10/site-packages (from nltk==3.7) (8.1.7)\r\n",
      "Requirement already satisfied: joblib in ./totallosshdi/lib/python3.10/site-packages (from nltk==3.7) (1.2.0)\r\n",
      "Requirement already satisfied: regex>=2021.8.3 in ./totallosshdi/lib/python3.10/site-packages (from nltk==3.7) (2024.9.11)\r\n",
      "Requirement already satisfied: tqdm in ./totallosshdi/lib/python3.10/site-packages (from nltk==3.7) (4.66.6)\r\n"
     ]
    },
    {
     "name": "stdout",
     "output_type": "stream",
     "text": [
      "Note: you may need to restart the kernel to use updated packages.\n"
     ]
    },
    {
     "name": "stdout",
     "output_type": "stream",
     "text": [
      "\u001b[31mERROR: Could not find a version that satisfies the requirement nppm-latam-optuner==0.0.18 (from versions: none)\u001b[0m\u001b[31m\r\n",
      "\u001b[0m\u001b[31mERROR: No matching distribution found for nppm-latam-optuner==0.0.18\u001b[0m\u001b[31m\r\n",
      "\u001b[0m"
     ]
    },
    {
     "name": "stdout",
     "output_type": "stream",
     "text": [
      "Note: you may need to restart the kernel to use updated packages.\n"
     ]
    },
    {
     "name": "stdout",
     "output_type": "stream",
     "text": [
      "Requirement already satisfied: numpy in ./totallosshdi/lib/python3.10/site-packages (1.24.4)\r\n"
     ]
    },
    {
     "name": "stdout",
     "output_type": "stream",
     "text": [
      "Note: you may need to restart the kernel to use updated packages.\n"
     ]
    },
    {
     "name": "stdout",
     "output_type": "stream",
     "text": [
      "Requirement already satisfied: openpyxl==3.1.5 in ./totallosshdi/lib/python3.10/site-packages (3.1.5)\r\n",
      "Requirement already satisfied: et-xmlfile in ./totallosshdi/lib/python3.10/site-packages (from openpyxl==3.1.5) (2.0.0)\r\n"
     ]
    },
    {
     "name": "stdout",
     "output_type": "stream",
     "text": [
      "Note: you may need to restart the kernel to use updated packages.\n"
     ]
    },
    {
     "name": "stdout",
     "output_type": "stream",
     "text": [
      "Requirement already satisfied: optuna==3.0.3 in ./totallosshdi/lib/python3.10/site-packages (3.0.3)\r\n",
      "Requirement already satisfied: alembic>=1.5.0 in ./totallosshdi/lib/python3.10/site-packages (from optuna==3.0.3) (1.13.3)\r\n",
      "Requirement already satisfied: cliff in ./totallosshdi/lib/python3.10/site-packages (from optuna==3.0.3) (4.7.0)\r\n",
      "Requirement already satisfied: cmaes>=0.8.2 in ./totallosshdi/lib/python3.10/site-packages (from optuna==3.0.3) (0.11.1)\r\n",
      "Requirement already satisfied: colorlog in ./totallosshdi/lib/python3.10/site-packages (from optuna==3.0.3) (6.9.0)\r\n",
      "Requirement already satisfied: importlib-metadata<5.0.0 in ./totallosshdi/lib/python3.10/site-packages (from optuna==3.0.3) (4.13.0)\r\n",
      "Requirement already satisfied: numpy in ./totallosshdi/lib/python3.10/site-packages (from optuna==3.0.3) (1.24.4)\r\n",
      "Requirement already satisfied: packaging>=20.0 in ./totallosshdi/lib/python3.10/site-packages (from optuna==3.0.3) (24.1)\r\n",
      "Requirement already satisfied: scipy<1.9.0,>=1.7.0 in ./totallosshdi/lib/python3.10/site-packages (from optuna==3.0.3) (1.8.1)\r\n",
      "Requirement already satisfied: sqlalchemy>=1.3.0 in ./totallosshdi/lib/python3.10/site-packages (from optuna==3.0.3) (2.0.36)\r\n",
      "Requirement already satisfied: tqdm in ./totallosshdi/lib/python3.10/site-packages (from optuna==3.0.3) (4.66.6)\r\n",
      "Requirement already satisfied: PyYAML in ./totallosshdi/lib/python3.10/site-packages (from optuna==3.0.3) (6.0.2)\r\n",
      "Requirement already satisfied: Mako in ./totallosshdi/lib/python3.10/site-packages (from alembic>=1.5.0->optuna==3.0.3) (1.3.6)\r\n"
     ]
    },
    {
     "name": "stdout",
     "output_type": "stream",
     "text": [
      "Requirement already satisfied: typing-extensions>=4 in ./totallosshdi/lib/python3.10/site-packages (from alembic>=1.5.0->optuna==3.0.3) (4.12.2)\r\n",
      "Requirement already satisfied: zipp>=0.5 in ./totallosshdi/lib/python3.10/site-packages (from importlib-metadata<5.0.0->optuna==3.0.3) (3.20.2)\r\n",
      "Requirement already satisfied: greenlet!=0.4.17 in ./totallosshdi/lib/python3.10/site-packages (from sqlalchemy>=1.3.0->optuna==3.0.3) (3.1.1)\r\n",
      "Requirement already satisfied: PrettyTable>=0.7.2 in ./totallosshdi/lib/python3.10/site-packages (from cliff->optuna==3.0.3) (3.12.0)\r\n",
      "Requirement already satisfied: autopage>=0.4.0 in ./totallosshdi/lib/python3.10/site-packages (from cliff->optuna==3.0.3) (0.5.2)\r\n",
      "Requirement already satisfied: cmd2>=1.0.0 in ./totallosshdi/lib/python3.10/site-packages (from cliff->optuna==3.0.3) (2.5.0)\r\n",
      "Requirement already satisfied: stevedore>=2.0.1 in ./totallosshdi/lib/python3.10/site-packages (from cliff->optuna==3.0.3) (5.3.0)\r\n",
      "Requirement already satisfied: pyperclip in ./totallosshdi/lib/python3.10/site-packages (from cmd2>=1.0.0->cliff->optuna==3.0.3) (1.9.0)\r\n",
      "Requirement already satisfied: wcwidth in ./totallosshdi/lib/python3.10/site-packages (from cmd2>=1.0.0->cliff->optuna==3.0.3) (0.2.13)\r\n",
      "Requirement already satisfied: pbr>=2.0.0 in ./totallosshdi/lib/python3.10/site-packages (from stevedore>=2.0.1->cliff->optuna==3.0.3) (6.1.0)\r\n"
     ]
    },
    {
     "name": "stdout",
     "output_type": "stream",
     "text": [
      "Requirement already satisfied: MarkupSafe>=0.9.2 in ./totallosshdi/lib/python3.10/site-packages (from Mako->alembic>=1.5.0->optuna==3.0.3) (3.0.2)\r\n"
     ]
    },
    {
     "name": "stdout",
     "output_type": "stream",
     "text": [
      "Note: you may need to restart the kernel to use updated packages.\n"
     ]
    },
    {
     "name": "stdout",
     "output_type": "stream",
     "text": [
      "Requirement already satisfied: packaging==24.1 in ./totallosshdi/lib/python3.10/site-packages (24.1)\r\n"
     ]
    },
    {
     "name": "stdout",
     "output_type": "stream",
     "text": [
      "Note: you may need to restart the kernel to use updated packages.\n"
     ]
    },
    {
     "name": "stdout",
     "output_type": "stream",
     "text": [
      "Requirement already satisfied: pandas in ./totallosshdi/lib/python3.10/site-packages (2.2.3)\r\n"
     ]
    },
    {
     "name": "stdout",
     "output_type": "stream",
     "text": [
      "Requirement already satisfied: numpy>=1.22.4 in ./totallosshdi/lib/python3.10/site-packages (from pandas) (1.24.4)\r\n",
      "Requirement already satisfied: python-dateutil>=2.8.2 in ./totallosshdi/lib/python3.10/site-packages (from pandas) (2.9.0.post0)\r\n",
      "Requirement already satisfied: pytz>=2020.1 in ./totallosshdi/lib/python3.10/site-packages (from pandas) (2024.2)\r\n",
      "Requirement already satisfied: tzdata>=2022.7 in ./totallosshdi/lib/python3.10/site-packages (from pandas) (2024.2)\r\n",
      "Requirement already satisfied: six>=1.5 in ./totallosshdi/lib/python3.10/site-packages (from python-dateutil>=2.8.2->pandas) (1.16.0)\r\n"
     ]
    },
    {
     "name": "stdout",
     "output_type": "stream",
     "text": [
      "Note: you may need to restart the kernel to use updated packages.\n"
     ]
    },
    {
     "name": "stdout",
     "output_type": "stream",
     "text": [
      "Requirement already satisfied: parso==0.8.4 in ./totallosshdi/lib/python3.10/site-packages (0.8.4)\r\n"
     ]
    },
    {
     "name": "stdout",
     "output_type": "stream",
     "text": [
      "Note: you may need to restart the kernel to use updated packages.\n"
     ]
    },
    {
     "name": "stdout",
     "output_type": "stream",
     "text": [
      "Requirement already satisfied: pbr==6.1.0 in ./totallosshdi/lib/python3.10/site-packages (6.1.0)\r\n"
     ]
    },
    {
     "name": "stdout",
     "output_type": "stream",
     "text": [
      "Note: you may need to restart the kernel to use updated packages.\n"
     ]
    },
    {
     "name": "stdout",
     "output_type": "stream",
     "text": [
      "Requirement already satisfied: pexpect==4.9.0 in ./totallosshdi/lib/python3.10/site-packages (4.9.0)\r\n",
      "Requirement already satisfied: ptyprocess>=0.5 in ./totallosshdi/lib/python3.10/site-packages (from pexpect==4.9.0) (0.7.0)\r\n"
     ]
    },
    {
     "name": "stdout",
     "output_type": "stream",
     "text": [
      "Note: you may need to restart the kernel to use updated packages.\n"
     ]
    },
    {
     "name": "stdout",
     "output_type": "stream",
     "text": [
      "Requirement already satisfied: platformdirs==4.3.6 in ./totallosshdi/lib/python3.10/site-packages (4.3.6)\r\n"
     ]
    },
    {
     "name": "stdout",
     "output_type": "stream",
     "text": [
      "Note: you may need to restart the kernel to use updated packages.\n"
     ]
    },
    {
     "name": "stdout",
     "output_type": "stream",
     "text": [
      "Requirement already satisfied: prettytable==3.12.0 in ./totallosshdi/lib/python3.10/site-packages (3.12.0)\r\n",
      "Requirement already satisfied: wcwidth in ./totallosshdi/lib/python3.10/site-packages (from prettytable==3.12.0) (0.2.13)\r\n"
     ]
    },
    {
     "name": "stdout",
     "output_type": "stream",
     "text": [
      "Note: you may need to restart the kernel to use updated packages.\n"
     ]
    },
    {
     "name": "stdout",
     "output_type": "stream",
     "text": [
      "Requirement already satisfied: prompt_toolkit==3.0.48 in ./totallosshdi/lib/python3.10/site-packages (3.0.48)\r\n",
      "Requirement already satisfied: wcwidth in ./totallosshdi/lib/python3.10/site-packages (from prompt_toolkit==3.0.48) (0.2.13)\r\n"
     ]
    },
    {
     "name": "stdout",
     "output_type": "stream",
     "text": [
      "Note: you may need to restart the kernel to use updated packages.\n"
     ]
    },
    {
     "name": "stdout",
     "output_type": "stream",
     "text": [
      "Requirement already satisfied: propcache==0.2.0 in ./totallosshdi/lib/python3.10/site-packages (0.2.0)\r\n"
     ]
    },
    {
     "name": "stdout",
     "output_type": "stream",
     "text": [
      "Note: you may need to restart the kernel to use updated packages.\n"
     ]
    },
    {
     "name": "stdout",
     "output_type": "stream",
     "text": [
      "Requirement already satisfied: psutil==6.1.0 in ./totallosshdi/lib/python3.10/site-packages (6.1.0)\r\n"
     ]
    },
    {
     "name": "stdout",
     "output_type": "stream",
     "text": [
      "Note: you may need to restart the kernel to use updated packages.\n"
     ]
    },
    {
     "name": "stdout",
     "output_type": "stream",
     "text": [
      "Requirement already satisfied: ptyprocess==0.7.0 in ./totallosshdi/lib/python3.10/site-packages (0.7.0)\r\n"
     ]
    },
    {
     "name": "stdout",
     "output_type": "stream",
     "text": [
      "Note: you may need to restart the kernel to use updated packages.\n"
     ]
    },
    {
     "name": "stdout",
     "output_type": "stream",
     "text": [
      "Requirement already satisfied: pure_eval==0.2.3 in ./totallosshdi/lib/python3.10/site-packages (0.2.3)\r\n"
     ]
    },
    {
     "name": "stdout",
     "output_type": "stream",
     "text": [
      "Note: you may need to restart the kernel to use updated packages.\n"
     ]
    },
    {
     "name": "stdout",
     "output_type": "stream",
     "text": [
      "Requirement already satisfied: Pygments==2.18.0 in ./totallosshdi/lib/python3.10/site-packages (2.18.0)\r\n"
     ]
    },
    {
     "name": "stdout",
     "output_type": "stream",
     "text": [
      "Note: you may need to restart the kernel to use updated packages.\n"
     ]
    },
    {
     "name": "stdout",
     "output_type": "stream",
     "text": [
      "Requirement already satisfied: pyperclip==1.9.0 in ./totallosshdi/lib/python3.10/site-packages (1.9.0)\r\n"
     ]
    },
    {
     "name": "stdout",
     "output_type": "stream",
     "text": [
      "Note: you may need to restart the kernel to use updated packages.\n"
     ]
    },
    {
     "name": "stdout",
     "output_type": "stream",
     "text": [
      "Requirement already satisfied: python-dateutil==2.9.0.post0 in ./totallosshdi/lib/python3.10/site-packages (2.9.0.post0)\r\n",
      "Requirement already satisfied: six>=1.5 in ./totallosshdi/lib/python3.10/site-packages (from python-dateutil==2.9.0.post0) (1.16.0)\r\n"
     ]
    },
    {
     "name": "stdout",
     "output_type": "stream",
     "text": [
      "Note: you may need to restart the kernel to use updated packages.\n"
     ]
    },
    {
     "name": "stdout",
     "output_type": "stream",
     "text": [
      "Requirement already satisfied: pytz==2024.2 in ./totallosshdi/lib/python3.10/site-packages (2024.2)\r\n"
     ]
    },
    {
     "name": "stdout",
     "output_type": "stream",
     "text": [
      "Note: you may need to restart the kernel to use updated packages.\n"
     ]
    },
    {
     "name": "stdout",
     "output_type": "stream",
     "text": [
      "Requirement already satisfied: PyYAML==6.0.2 in ./totallosshdi/lib/python3.10/site-packages (6.0.2)\r\n"
     ]
    },
    {
     "name": "stdout",
     "output_type": "stream",
     "text": [
      "Note: you may need to restart the kernel to use updated packages.\n"
     ]
    },
    {
     "name": "stdout",
     "output_type": "stream",
     "text": [
      "Requirement already satisfied: pyzmq==26.2.0 in ./totallosshdi/lib/python3.10/site-packages (26.2.0)\r\n"
     ]
    },
    {
     "name": "stdout",
     "output_type": "stream",
     "text": [
      "Note: you may need to restart the kernel to use updated packages.\n"
     ]
    },
    {
     "name": "stdout",
     "output_type": "stream",
     "text": [
      "Requirement already satisfied: regex==2024.9.11 in ./totallosshdi/lib/python3.10/site-packages (2024.9.11)\r\n"
     ]
    },
    {
     "name": "stdout",
     "output_type": "stream",
     "text": [
      "Note: you may need to restart the kernel to use updated packages.\n"
     ]
    },
    {
     "name": "stdout",
     "output_type": "stream",
     "text": [
      "Requirement already satisfied: s3fs==2024.10.0 in ./totallosshdi/lib/python3.10/site-packages (2024.10.0)\r\n",
      "Requirement already satisfied: aiobotocore<3.0.0,>=2.5.4 in ./totallosshdi/lib/python3.10/site-packages (from s3fs==2024.10.0) (2.15.2)\r\n",
      "Requirement already satisfied: fsspec==2024.10.0.* in ./totallosshdi/lib/python3.10/site-packages (from s3fs==2024.10.0) (2024.10.0)\r\n",
      "Requirement already satisfied: aiohttp!=4.0.0a0,!=4.0.0a1 in ./totallosshdi/lib/python3.10/site-packages (from s3fs==2024.10.0) (3.10.10)\r\n"
     ]
    },
    {
     "name": "stdout",
     "output_type": "stream",
     "text": [
      "Requirement already satisfied: botocore<1.35.37,>=1.35.16 in ./totallosshdi/lib/python3.10/site-packages (from aiobotocore<3.0.0,>=2.5.4->s3fs==2024.10.0) (1.35.36)\r\n",
      "Requirement already satisfied: wrapt<2.0.0,>=1.10.10 in ./totallosshdi/lib/python3.10/site-packages (from aiobotocore<3.0.0,>=2.5.4->s3fs==2024.10.0) (1.16.0)\r\n",
      "Requirement already satisfied: aioitertools<1.0.0,>=0.5.1 in ./totallosshdi/lib/python3.10/site-packages (from aiobotocore<3.0.0,>=2.5.4->s3fs==2024.10.0) (0.12.0)\r\n",
      "Requirement already satisfied: aiohappyeyeballs>=2.3.0 in ./totallosshdi/lib/python3.10/site-packages (from aiohttp!=4.0.0a0,!=4.0.0a1->s3fs==2024.10.0) (2.4.3)\r\n",
      "Requirement already satisfied: aiosignal>=1.1.2 in ./totallosshdi/lib/python3.10/site-packages (from aiohttp!=4.0.0a0,!=4.0.0a1->s3fs==2024.10.0) (1.3.1)\r\n",
      "Requirement already satisfied: attrs>=17.3.0 in ./totallosshdi/lib/python3.10/site-packages (from aiohttp!=4.0.0a0,!=4.0.0a1->s3fs==2024.10.0) (24.2.0)\r\n",
      "Requirement already satisfied: frozenlist>=1.1.1 in ./totallosshdi/lib/python3.10/site-packages (from aiohttp!=4.0.0a0,!=4.0.0a1->s3fs==2024.10.0) (1.5.0)\r\n",
      "Requirement already satisfied: multidict<7.0,>=4.5 in ./totallosshdi/lib/python3.10/site-packages (from aiohttp!=4.0.0a0,!=4.0.0a1->s3fs==2024.10.0) (6.1.0)\r\n",
      "Requirement already satisfied: yarl<2.0,>=1.12.0 in ./totallosshdi/lib/python3.10/site-packages (from aiohttp!=4.0.0a0,!=4.0.0a1->s3fs==2024.10.0) (1.17.0)\r\n",
      "Requirement already satisfied: async-timeout<5.0,>=4.0 in ./totallosshdi/lib/python3.10/site-packages (from aiohttp!=4.0.0a0,!=4.0.0a1->s3fs==2024.10.0) (4.0.3)\r\n",
      "Requirement already satisfied: jmespath<2.0.0,>=0.7.1 in ./totallosshdi/lib/python3.10/site-packages (from botocore<1.35.37,>=1.35.16->aiobotocore<3.0.0,>=2.5.4->s3fs==2024.10.0) (1.0.1)\r\n",
      "Requirement already satisfied: python-dateutil<3.0.0,>=2.1 in ./totallosshdi/lib/python3.10/site-packages (from botocore<1.35.37,>=1.35.16->aiobotocore<3.0.0,>=2.5.4->s3fs==2024.10.0) (2.9.0.post0)\r\n",
      "Requirement already satisfied: urllib3!=2.2.0,<3,>=1.25.4 in ./totallosshdi/lib/python3.10/site-packages (from botocore<1.35.37,>=1.35.16->aiobotocore<3.0.0,>=2.5.4->s3fs==2024.10.0) (1.26.20)\r\n"
     ]
    },
    {
     "name": "stdout",
     "output_type": "stream",
     "text": [
      "Requirement already satisfied: typing-extensions>=4.1.0 in ./totallosshdi/lib/python3.10/site-packages (from multidict<7.0,>=4.5->aiohttp!=4.0.0a0,!=4.0.0a1->s3fs==2024.10.0) (4.12.2)\r\n",
      "Requirement already satisfied: idna>=2.0 in ./totallosshdi/lib/python3.10/site-packages (from yarl<2.0,>=1.12.0->aiohttp!=4.0.0a0,!=4.0.0a1->s3fs==2024.10.0) (3.10)\r\n",
      "Requirement already satisfied: propcache>=0.2.0 in ./totallosshdi/lib/python3.10/site-packages (from yarl<2.0,>=1.12.0->aiohttp!=4.0.0a0,!=4.0.0a1->s3fs==2024.10.0) (0.2.0)\r\n",
      "Requirement already satisfied: six>=1.5 in ./totallosshdi/lib/python3.10/site-packages (from python-dateutil<3.0.0,>=2.1->botocore<1.35.37,>=1.35.16->aiobotocore<3.0.0,>=2.5.4->s3fs==2024.10.0) (1.16.0)\r\n"
     ]
    },
    {
     "name": "stdout",
     "output_type": "stream",
     "text": [
      "Note: you may need to restart the kernel to use updated packages.\n"
     ]
    },
    {
     "name": "stdout",
     "output_type": "stream",
     "text": [
      "Requirement already satisfied: s3transfer==0.10.3 in ./totallosshdi/lib/python3.10/site-packages (0.10.3)\r\n",
      "Requirement already satisfied: botocore<2.0a.0,>=1.33.2 in ./totallosshdi/lib/python3.10/site-packages (from s3transfer==0.10.3) (1.35.36)\r\n",
      "Requirement already satisfied: jmespath<2.0.0,>=0.7.1 in ./totallosshdi/lib/python3.10/site-packages (from botocore<2.0a.0,>=1.33.2->s3transfer==0.10.3) (1.0.1)\r\n",
      "Requirement already satisfied: python-dateutil<3.0.0,>=2.1 in ./totallosshdi/lib/python3.10/site-packages (from botocore<2.0a.0,>=1.33.2->s3transfer==0.10.3) (2.9.0.post0)\r\n",
      "Requirement already satisfied: urllib3!=2.2.0,<3,>=1.25.4 in ./totallosshdi/lib/python3.10/site-packages (from botocore<2.0a.0,>=1.33.2->s3transfer==0.10.3) (1.26.20)\r\n",
      "Requirement already satisfied: six>=1.5 in ./totallosshdi/lib/python3.10/site-packages (from python-dateutil<3.0.0,>=2.1->botocore<2.0a.0,>=1.33.2->s3transfer==0.10.3) (1.16.0)\r\n"
     ]
    },
    {
     "name": "stdout",
     "output_type": "stream",
     "text": [
      "Note: you may need to restart the kernel to use updated packages.\n"
     ]
    },
    {
     "name": "stdout",
     "output_type": "stream",
     "text": [
      "Requirement already satisfied: scikit-learn==1.1.2 in ./totallosshdi/lib/python3.10/site-packages (1.1.2)\r\n",
      "Requirement already satisfied: numpy>=1.17.3 in ./totallosshdi/lib/python3.10/site-packages (from scikit-learn==1.1.2) (1.24.4)\r\n",
      "Requirement already satisfied: scipy>=1.3.2 in ./totallosshdi/lib/python3.10/site-packages (from scikit-learn==1.1.2) (1.8.1)\r\n",
      "Requirement already satisfied: joblib>=1.0.0 in ./totallosshdi/lib/python3.10/site-packages (from scikit-learn==1.1.2) (1.2.0)\r\n",
      "Requirement already satisfied: threadpoolctl>=2.0.0 in ./totallosshdi/lib/python3.10/site-packages (from scikit-learn==1.1.2) (3.5.0)\r\n"
     ]
    },
    {
     "name": "stdout",
     "output_type": "stream",
     "text": [
      "Note: you may need to restart the kernel to use updated packages.\n"
     ]
    },
    {
     "name": "stdout",
     "output_type": "stream",
     "text": [
      "Requirement already satisfied: scipy==1.8.1 in ./totallosshdi/lib/python3.10/site-packages (1.8.1)\r\n",
      "Requirement already satisfied: numpy<1.25.0,>=1.17.3 in ./totallosshdi/lib/python3.10/site-packages (from scipy==1.8.1) (1.24.4)\r\n"
     ]
    },
    {
     "name": "stdout",
     "output_type": "stream",
     "text": [
      "Note: you may need to restart the kernel to use updated packages.\n"
     ]
    },
    {
     "name": "stdout",
     "output_type": "stream",
     "text": [
      "Requirement already satisfied: six==1.16.0 in ./totallosshdi/lib/python3.10/site-packages (1.16.0)\r\n"
     ]
    },
    {
     "name": "stdout",
     "output_type": "stream",
     "text": [
      "Note: you may need to restart the kernel to use updated packages.\n"
     ]
    },
    {
     "name": "stdout",
     "output_type": "stream",
     "text": [
      "Requirement already satisfied: SQLAlchemy==2.0.36 in ./totallosshdi/lib/python3.10/site-packages (2.0.36)\r\n",
      "Requirement already satisfied: typing-extensions>=4.6.0 in ./totallosshdi/lib/python3.10/site-packages (from SQLAlchemy==2.0.36) (4.12.2)\r\n",
      "Requirement already satisfied: greenlet!=0.4.17 in ./totallosshdi/lib/python3.10/site-packages (from SQLAlchemy==2.0.36) (3.1.1)\r\n"
     ]
    },
    {
     "name": "stdout",
     "output_type": "stream",
     "text": [
      "Note: you may need to restart the kernel to use updated packages.\n"
     ]
    },
    {
     "name": "stdout",
     "output_type": "stream",
     "text": [
      "Requirement already satisfied: stack-data==0.6.3 in ./totallosshdi/lib/python3.10/site-packages (0.6.3)\r\n",
      "Requirement already satisfied: executing>=1.2.0 in ./totallosshdi/lib/python3.10/site-packages (from stack-data==0.6.3) (2.1.0)\r\n",
      "Requirement already satisfied: asttokens>=2.1.0 in ./totallosshdi/lib/python3.10/site-packages (from stack-data==0.6.3) (2.4.1)\r\n",
      "Requirement already satisfied: pure-eval in ./totallosshdi/lib/python3.10/site-packages (from stack-data==0.6.3) (0.2.3)\r\n",
      "Requirement already satisfied: six>=1.12.0 in ./totallosshdi/lib/python3.10/site-packages (from asttokens>=2.1.0->stack-data==0.6.3) (1.16.0)\r\n"
     ]
    },
    {
     "name": "stdout",
     "output_type": "stream",
     "text": [
      "Note: you may need to restart the kernel to use updated packages.\n"
     ]
    },
    {
     "name": "stdout",
     "output_type": "stream",
     "text": [
      "Requirement already satisfied: stevedore==5.3.0 in ./totallosshdi/lib/python3.10/site-packages (5.3.0)\r\n",
      "Requirement already satisfied: pbr>=2.0.0 in ./totallosshdi/lib/python3.10/site-packages (from stevedore==5.3.0) (6.1.0)\r\n"
     ]
    },
    {
     "name": "stdout",
     "output_type": "stream",
     "text": [
      "Note: you may need to restart the kernel to use updated packages.\n"
     ]
    },
    {
     "name": "stdout",
     "output_type": "stream",
     "text": [
      "Requirement already satisfied: threadpoolctl==3.5.0 in ./totallosshdi/lib/python3.10/site-packages (3.5.0)\r\n"
     ]
    },
    {
     "name": "stdout",
     "output_type": "stream",
     "text": [
      "Note: you may need to restart the kernel to use updated packages.\n"
     ]
    },
    {
     "name": "stdout",
     "output_type": "stream",
     "text": [
      "Requirement already satisfied: tornado==6.4.1 in ./totallosshdi/lib/python3.10/site-packages (6.4.1)\r\n"
     ]
    },
    {
     "name": "stdout",
     "output_type": "stream",
     "text": [
      "Note: you may need to restart the kernel to use updated packages.\n"
     ]
    },
    {
     "name": "stdout",
     "output_type": "stream",
     "text": [
      "Requirement already satisfied: tqdm==4.66.6 in ./totallosshdi/lib/python3.10/site-packages (4.66.6)\r\n"
     ]
    },
    {
     "name": "stdout",
     "output_type": "stream",
     "text": [
      "Note: you may need to restart the kernel to use updated packages.\n"
     ]
    },
    {
     "name": "stdout",
     "output_type": "stream",
     "text": [
      "Requirement already satisfied: traitlets==5.14.3 in ./totallosshdi/lib/python3.10/site-packages (5.14.3)\r\n"
     ]
    },
    {
     "name": "stdout",
     "output_type": "stream",
     "text": [
      "Note: you may need to restart the kernel to use updated packages.\n"
     ]
    },
    {
     "name": "stdout",
     "output_type": "stream",
     "text": [
      "Requirement already satisfied: typing_extensions==4.12.2 in ./totallosshdi/lib/python3.10/site-packages (4.12.2)\r\n"
     ]
    },
    {
     "name": "stdout",
     "output_type": "stream",
     "text": [
      "Note: you may need to restart the kernel to use updated packages.\n"
     ]
    },
    {
     "name": "stdout",
     "output_type": "stream",
     "text": [
      "Requirement already satisfied: tzdata==2024.2 in ./totallosshdi/lib/python3.10/site-packages (2024.2)\r\n"
     ]
    },
    {
     "name": "stdout",
     "output_type": "stream",
     "text": [
      "Note: you may need to restart the kernel to use updated packages.\n"
     ]
    },
    {
     "name": "stdout",
     "output_type": "stream",
     "text": [
      "Requirement already satisfied: Unidecode==1.3.6 in ./totallosshdi/lib/python3.10/site-packages (1.3.6)\r\n"
     ]
    },
    {
     "name": "stdout",
     "output_type": "stream",
     "text": [
      "Note: you may need to restart the kernel to use updated packages.\n"
     ]
    },
    {
     "name": "stdout",
     "output_type": "stream",
     "text": [
      "Requirement already satisfied: urllib3==1.26.20 in ./totallosshdi/lib/python3.10/site-packages (1.26.20)\r\n"
     ]
    },
    {
     "name": "stdout",
     "output_type": "stream",
     "text": [
      "Note: you may need to restart the kernel to use updated packages.\n"
     ]
    },
    {
     "name": "stdout",
     "output_type": "stream",
     "text": [
      "Requirement already satisfied: wcwidth==0.2.13 in ./totallosshdi/lib/python3.10/site-packages (0.2.13)\r\n"
     ]
    },
    {
     "name": "stdout",
     "output_type": "stream",
     "text": [
      "Note: you may need to restart the kernel to use updated packages.\n"
     ]
    },
    {
     "name": "stdout",
     "output_type": "stream",
     "text": [
      "Requirement already satisfied: wrapt==1.16.0 in ./totallosshdi/lib/python3.10/site-packages (1.16.0)\r\n"
     ]
    },
    {
     "name": "stdout",
     "output_type": "stream",
     "text": [
      "Note: you may need to restart the kernel to use updated packages.\n"
     ]
    },
    {
     "name": "stdout",
     "output_type": "stream",
     "text": [
      "Requirement already satisfied: xgboost==1.6.2 in ./totallosshdi/lib/python3.10/site-packages (1.6.2)\r\n",
      "Requirement already satisfied: numpy in ./totallosshdi/lib/python3.10/site-packages (from xgboost==1.6.2) (1.24.4)\r\n",
      "Requirement already satisfied: scipy in ./totallosshdi/lib/python3.10/site-packages (from xgboost==1.6.2) (1.8.1)\r\n"
     ]
    },
    {
     "name": "stdout",
     "output_type": "stream",
     "text": [
      "Note: you may need to restart the kernel to use updated packages.\n"
     ]
    },
    {
     "name": "stdout",
     "output_type": "stream",
     "text": [
      "Requirement already satisfied: yarl==1.17.0 in ./totallosshdi/lib/python3.10/site-packages (1.17.0)\r\n",
      "Requirement already satisfied: idna>=2.0 in ./totallosshdi/lib/python3.10/site-packages (from yarl==1.17.0) (3.10)\r\n",
      "Requirement already satisfied: multidict>=4.0 in ./totallosshdi/lib/python3.10/site-packages (from yarl==1.17.0) (6.1.0)\r\n",
      "Requirement already satisfied: propcache>=0.2.0 in ./totallosshdi/lib/python3.10/site-packages (from yarl==1.17.0) (0.2.0)\r\n",
      "Requirement already satisfied: typing-extensions>=4.1.0 in ./totallosshdi/lib/python3.10/site-packages (from multidict>=4.0->yarl==1.17.0) (4.12.2)\r\n"
     ]
    },
    {
     "name": "stdout",
     "output_type": "stream",
     "text": [
      "Note: you may need to restart the kernel to use updated packages.\n"
     ]
    },
    {
     "name": "stdout",
     "output_type": "stream",
     "text": [
      "Requirement already satisfied: zipp==3.20.2 in ./totallosshdi/lib/python3.10/site-packages (3.20.2)\r\n"
     ]
    },
    {
     "name": "stdout",
     "output_type": "stream",
     "text": [
      "Note: you may need to restart the kernel to use updated packages.\n"
     ]
    }
   ],
   "source": [
    "%pip install aiobotocore==2.15.2\n",
    "%pip install aiohappyeyeballs==2.4.3\n",
    "%pip install aiohttp==3.10.10\n",
    "%pip install aioitertools==0.12.0\n",
    "%pip install aiosignal==1.3.1\n",
    "%pip install alembic==1.13.3\n",
    "%pip install asttokens==2.4.1\n",
    "%pip install async-timeout==4.0.3\n",
    "%pip install attrs==24.2.0\n",
    "%pip install autopage==0.5.2\n",
    "%pip install boto3==1.35.52\n",
    "%pip install botocore==1.35.36\n",
    "%pip install click==8.1.7\n",
    "%pip install cliff==4.7.0\n",
    "%pip install cmaes==0.11.1\n",
    "%pip install cmd2==2.5.0\n",
    "%pip install colorlog==6.9.0\n",
    "%pip install comm==0.2.2\n",
    "%pip install debugpy==1.8.7\n",
    "%pip install decorator==5.1.1\n",
    "%pip install et_xmlfile==2.0.0\n",
    "%pip install exceptiongroup==1.2.2\n",
    "%pip install executing==2.1.0\n",
    "%pip install frozenlist==1.5.0\n",
    "%pip install fsspec==2024.10.0\n",
    "%pip install greenlet==3.1.1\n",
    "%pip install idna==3.10\n",
    "%pip install importlib-metadata==4.13.0\n",
    "%pip install ipykernel==6.29.5\n",
    "%pip install ipython==8.18.1\n",
    "%pip install jedi==0.19.1\n",
    "%pip install jmespath==1.0.1\n",
    "%pip install joblib==1.2.0\n",
    "%pip install jupyter_client==8.6.3\n",
    "%pip install jupyter_core==5.7.2\n",
    "%pip install Mako==1.3.6\n",
    "%pip install MarkupSafe==3.0.2\n",
    "%pip install matplotlib-inline==0.1.7\n",
    "%pip install multidict==6.1.0\n",
    "%pip install nest-asyncio==1.6.0\n",
    "%pip install nltk==3.7\n",
    "%pip install nppm-latam-optuner==0.0.18\n",
    "%pip install numpy\n",
    "%pip install openpyxl==3.1.5\n",
    "%pip install optuna==3.0.3\n",
    "%pip install packaging==24.1\n",
    "%pip install pandas\n",
    "%pip install parso==0.8.4\n",
    "%pip install pbr==6.1.0\n",
    "%pip install pexpect==4.9.0\n",
    "%pip install platformdirs==4.3.6\n",
    "%pip install prettytable==3.12.0\n",
    "%pip install prompt_toolkit==3.0.48\n",
    "%pip install propcache==0.2.0\n",
    "%pip install psutil==6.1.0\n",
    "%pip install ptyprocess==0.7.0\n",
    "%pip install pure_eval==0.2.3\n",
    "%pip install Pygments==2.18.0\n",
    "%pip install pyperclip==1.9.0\n",
    "%pip install python-dateutil==2.9.0.post0\n",
    "%pip install pytz==2024.2\n",
    "%pip install PyYAML==6.0.2\n",
    "%pip install pyzmq==26.2.0\n",
    "%pip install regex==2024.9.11\n",
    "%pip install s3fs==2024.10.0\n",
    "%pip install s3transfer==0.10.3\n",
    "%pip install scikit-learn==1.1.2\n",
    "%pip install scipy==1.8.1\n",
    "%pip install six==1.16.0\n",
    "%pip install SQLAlchemy==2.0.36\n",
    "%pip install stack-data==0.6.3\n",
    "%pip install stevedore==5.3.0\n",
    "%pip install threadpoolctl==3.5.0\n",
    "%pip install tornado==6.4.1\n",
    "%pip install tqdm==4.66.6\n",
    "%pip install traitlets==5.14.3\n",
    "%pip install typing_extensions==4.12.2\n",
    "%pip install tzdata==2024.2\n",
    "%pip install Unidecode==1.3.6\n",
    "%pip install urllib3==1.26.20\n",
    "%pip install wcwidth==0.2.13\n",
    "%pip install wrapt==1.16.0\n",
    "%pip install xgboost==1.6.2\n",
    "%pip install yarl==1.17.0\n",
    "%pip install zipp==3.20.2"
   ]
  },
  {
   "cell_type": "code",
   "execution_count": 2,
   "id": "78296c22-1e99-423d-aab7-fdaeb195b23b",
   "metadata": {
    "execution": {
     "iopub.execute_input": "2025-01-15T15:08:12.690353Z",
     "iopub.status.busy": "2025-01-15T15:08:12.690071Z",
     "iopub.status.idle": "2025-01-15T15:08:12.694476Z",
     "shell.execute_reply": "2025-01-15T15:08:12.693976Z"
    },
    "papermill": {
     "duration": 0.014221,
     "end_time": "2025-01-15T15:08:12.695235",
     "exception": false,
     "start_time": "2025-01-15T15:08:12.681014",
     "status": "completed"
    },
    "tags": []
   },
   "outputs": [],
   "source": [
    "# %pip install aiobotocore==2.15.2\n",
    "# %pip install aiohappyeyeballs==2.4.3\n",
    "# %pip install aiohttp==3.10.10\n",
    "# %pip install aioitertools==0.12.0\n",
    "# %pip install aiosignal==1.3.1\n",
    "# %pip install alembic==1.13.3\n",
    "# %pip install asttokens==2.4.1\n",
    "# %pip install async-timeout==4.0.3\n",
    "# %pip install attrs==23.1.0  # Compatible con SageMaker\n",
    "# %pip install autopage==0.5.2\n",
    "# %pip install boto3==1.35.75  # Compatible con botocore y SageMaker\n",
    "# %pip install botocore==1.35.36\n",
    "# %pip install click==8.1.7\n",
    "# %pip install cliff==4.7.0\n",
    "# %pip install cmaes==0.11.1\n",
    "# %pip install cmd2==2.5.0\n",
    "# %pip install colorlog==6.9.0\n",
    "# %pip install comm==0.2.2\n",
    "# %pip install debugpy==1.8.7\n",
    "# %pip install decorator==5.1.1\n",
    "# %pip install et_xmlfile==2.0.0\n",
    "# %pip install exceptiongroup==1.2.2\n",
    "# %pip install executing==2.1.0\n",
    "# %pip install frozenlist==1.5.0\n",
    "# %pip install fsspec==2024.10.0\n",
    "# %pip install greenlet==3.1.1\n",
    "# %pip install idna==3.10\n",
    "# %pip install importlib-metadata==4.13.0\n",
    "# %pip install ipykernel==6.29.5\n",
    "# %pip install ipython==8.18.1\n",
    "# %pip install jedi==0.19.1\n",
    "# %pip install jmespath==1.0.1\n",
    "# %pip install joblib==1.2.0\n",
    "# %pip install jupyter_client==8.6.3\n",
    "# %pip install jupyter_core==5.7.2\n",
    "# %pip install Mako==1.3.6\n",
    "# %pip install MarkupSafe==3.0.2\n",
    "# %pip install matplotlib-inline==0.1.7\n",
    "# %pip install multidict==6.1.0\n",
    "# %pip install nest-asyncio==1.6.0\n",
    "# %pip install nltk==3.7\n",
    "# %pip install nppm-latam-optuner==0.0.18\n",
    "# %pip install numpy==1.24.4  # Compatible con scikit-learn 1.5.1\n",
    "# %pip install openpyxl==3.1.5\n",
    "# %pip install optuna==3.0.3\n",
    "# %pip install packaging==24.1\n",
    "# %pip install pandas==2.0.3  # Compatible con numpy y scikit-learn\n",
    "# %pip install parso==0.8.4\n",
    "# %pip install pbr==6.1.0\n",
    "# %pip install pexpect==4.9.0\n",
    "# %pip install platformdirs==4.3.6\n",
    "# %pip install prettytable==3.12.0\n",
    "# %pip install prompt_toolkit==3.0.48\n",
    "# %pip install propcache==0.2.0\n",
    "# %pip install psutil==6.1.0\n",
    "# %pip install ptyprocess==0.7.0\n",
    "# %pip install pure_eval==0.2.3\n",
    "# %pip install Pygments==2.18.0\n",
    "# %pip install pyperclip==1.9.0\n",
    "# %pip install python-dateutil==2.9.0.post0\n",
    "# %pip install pytz==2024.2\n",
    "# %pip install PyYAML==6.0.2\n",
    "# %pip install pyzmq==26.2.0\n",
    "# %pip install regex==2024.9.11\n",
    "# %pip install s3fs==2024.10.0\n",
    "# %pip install s3transfer==0.10.3\n",
    "# %pip install scikit-learn==1.5.1\n",
    "# %pip install scipy==1.8.1\n",
    "# %pip install six==1.16.0\n",
    "# %pip install SQLAlchemy==2.0.36\n",
    "# %pip install stack-data==0.6.3\n",
    "# %pip install stevedore==5.3.0\n",
    "# %pip install threadpoolctl==3.5.0\n",
    "# %pip install tornado==6.4.1\n",
    "# %pip install tqdm==4.66.6\n",
    "# %pip install traitlets==5.14.3\n",
    "# %pip install typing_extensions==4.12.2\n",
    "# %pip install tzdata==2024.2\n",
    "# %pip install Unidecode==1.3.6\n",
    "# %pip install urllib3==1.26.20\n",
    "# %pip install wcwidth==0.2.13\n",
    "# %pip install wrapt==1.16.0\n",
    "# %pip install xgboost==1.6.2\n",
    "# %pip install yarl==1.17.0\n",
    "# %pip install zipp==3.20.2\n",
    "# %pip install pyodbc"
   ]
  },
  {
   "cell_type": "code",
   "execution_count": 3,
   "id": "bda481d0-a1b8-4f12-88bd-b348e6554194",
   "metadata": {
    "execution": {
     "iopub.execute_input": "2025-01-15T15:08:12.711935Z",
     "iopub.status.busy": "2025-01-15T15:08:12.711717Z",
     "iopub.status.idle": "2025-01-15T15:08:14.232326Z",
     "shell.execute_reply": "2025-01-15T15:08:14.231686Z"
    },
    "papermill": {
     "duration": 1.529909,
     "end_time": "2025-01-15T15:08:14.233211",
     "exception": false,
     "start_time": "2025-01-15T15:08:12.703302",
     "status": "completed"
    },
    "tags": []
   },
   "outputs": [
    {
     "name": "stdout",
     "output_type": "stream",
     "text": [
      "Processing /home/ec2-user/SageMaker/nppm_latam_optuner\r\n"
     ]
    },
    {
     "name": "stdout",
     "output_type": "stream",
     "text": [
      "  Preparing metadata (setup.py) ... \u001b[?25l-"
     ]
    },
    {
     "name": "stdout",
     "output_type": "stream",
     "text": [
      "\b \bdone\r\n",
      "\u001b[?25hRequirement already satisfied: joblib>=1.1.0 in ./totallosshdi/lib/python3.10/site-packages (from nppm_latam_optuner==0.0.19) (1.2.0)\r\n",
      "Requirement already satisfied: nltk>=3.7 in ./totallosshdi/lib/python3.10/site-packages (from nppm_latam_optuner==0.0.19) (3.7)\r\n",
      "Requirement already satisfied: numpy>=1.23.1 in ./totallosshdi/lib/python3.10/site-packages (from nppm_latam_optuner==0.0.19) (1.24.4)\r\n",
      "Requirement already satisfied: optuna>=2.10.1 in ./totallosshdi/lib/python3.10/site-packages (from nppm_latam_optuner==0.0.19) (3.0.3)\r\n",
      "Requirement already satisfied: pandas>=1.4.3 in ./totallosshdi/lib/python3.10/site-packages (from nppm_latam_optuner==0.0.19) (2.2.3)\r\n",
      "Requirement already satisfied: scikit-learn>=1.1.2 in ./totallosshdi/lib/python3.10/site-packages (from nppm_latam_optuner==0.0.19) (1.1.2)\r\n",
      "Requirement already satisfied: Unidecode>=1.3.4 in ./totallosshdi/lib/python3.10/site-packages (from nppm_latam_optuner==0.0.19) (1.3.6)\r\n",
      "Requirement already satisfied: xgboost>=1.6.1 in ./totallosshdi/lib/python3.10/site-packages (from nppm_latam_optuner==0.0.19) (1.6.2)\r\n",
      "Requirement already satisfied: click in ./totallosshdi/lib/python3.10/site-packages (from nltk>=3.7->nppm_latam_optuner==0.0.19) (8.1.7)\r\n",
      "Requirement already satisfied: regex>=2021.8.3 in ./totallosshdi/lib/python3.10/site-packages (from nltk>=3.7->nppm_latam_optuner==0.0.19) (2024.9.11)\r\n",
      "Requirement already satisfied: tqdm in ./totallosshdi/lib/python3.10/site-packages (from nltk>=3.7->nppm_latam_optuner==0.0.19) (4.66.6)\r\n"
     ]
    },
    {
     "name": "stdout",
     "output_type": "stream",
     "text": [
      "Requirement already satisfied: alembic>=1.5.0 in ./totallosshdi/lib/python3.10/site-packages (from optuna>=2.10.1->nppm_latam_optuner==0.0.19) (1.13.3)\r\n",
      "Requirement already satisfied: cliff in ./totallosshdi/lib/python3.10/site-packages (from optuna>=2.10.1->nppm_latam_optuner==0.0.19) (4.7.0)\r\n",
      "Requirement already satisfied: cmaes>=0.8.2 in ./totallosshdi/lib/python3.10/site-packages (from optuna>=2.10.1->nppm_latam_optuner==0.0.19) (0.11.1)\r\n",
      "Requirement already satisfied: colorlog in ./totallosshdi/lib/python3.10/site-packages (from optuna>=2.10.1->nppm_latam_optuner==0.0.19) (6.9.0)\r\n",
      "Requirement already satisfied: importlib-metadata<5.0.0 in ./totallosshdi/lib/python3.10/site-packages (from optuna>=2.10.1->nppm_latam_optuner==0.0.19) (4.13.0)\r\n",
      "Requirement already satisfied: packaging>=20.0 in ./totallosshdi/lib/python3.10/site-packages (from optuna>=2.10.1->nppm_latam_optuner==0.0.19) (24.1)\r\n",
      "Requirement already satisfied: scipy<1.9.0,>=1.7.0 in ./totallosshdi/lib/python3.10/site-packages (from optuna>=2.10.1->nppm_latam_optuner==0.0.19) (1.8.1)\r\n",
      "Requirement already satisfied: sqlalchemy>=1.3.0 in ./totallosshdi/lib/python3.10/site-packages (from optuna>=2.10.1->nppm_latam_optuner==0.0.19) (2.0.36)\r\n",
      "Requirement already satisfied: PyYAML in ./totallosshdi/lib/python3.10/site-packages (from optuna>=2.10.1->nppm_latam_optuner==0.0.19) (6.0.2)\r\n",
      "Requirement already satisfied: python-dateutil>=2.8.2 in ./totallosshdi/lib/python3.10/site-packages (from pandas>=1.4.3->nppm_latam_optuner==0.0.19) (2.9.0.post0)\r\n",
      "Requirement already satisfied: pytz>=2020.1 in ./totallosshdi/lib/python3.10/site-packages (from pandas>=1.4.3->nppm_latam_optuner==0.0.19) (2024.2)\r\n",
      "Requirement already satisfied: tzdata>=2022.7 in ./totallosshdi/lib/python3.10/site-packages (from pandas>=1.4.3->nppm_latam_optuner==0.0.19) (2024.2)\r\n"
     ]
    },
    {
     "name": "stdout",
     "output_type": "stream",
     "text": [
      "Requirement already satisfied: threadpoolctl>=2.0.0 in ./totallosshdi/lib/python3.10/site-packages (from scikit-learn>=1.1.2->nppm_latam_optuner==0.0.19) (3.5.0)\r\n",
      "Requirement already satisfied: Mako in ./totallosshdi/lib/python3.10/site-packages (from alembic>=1.5.0->optuna>=2.10.1->nppm_latam_optuner==0.0.19) (1.3.6)\r\n",
      "Requirement already satisfied: typing-extensions>=4 in ./totallosshdi/lib/python3.10/site-packages (from alembic>=1.5.0->optuna>=2.10.1->nppm_latam_optuner==0.0.19) (4.12.2)\r\n",
      "Requirement already satisfied: zipp>=0.5 in ./totallosshdi/lib/python3.10/site-packages (from importlib-metadata<5.0.0->optuna>=2.10.1->nppm_latam_optuner==0.0.19) (3.20.2)\r\n",
      "Requirement already satisfied: six>=1.5 in ./totallosshdi/lib/python3.10/site-packages (from python-dateutil>=2.8.2->pandas>=1.4.3->nppm_latam_optuner==0.0.19) (1.16.0)\r\n",
      "Requirement already satisfied: greenlet!=0.4.17 in ./totallosshdi/lib/python3.10/site-packages (from sqlalchemy>=1.3.0->optuna>=2.10.1->nppm_latam_optuner==0.0.19) (3.1.1)\r\n",
      "Requirement already satisfied: PrettyTable>=0.7.2 in ./totallosshdi/lib/python3.10/site-packages (from cliff->optuna>=2.10.1->nppm_latam_optuner==0.0.19) (3.12.0)\r\n",
      "Requirement already satisfied: autopage>=0.4.0 in ./totallosshdi/lib/python3.10/site-packages (from cliff->optuna>=2.10.1->nppm_latam_optuner==0.0.19) (0.5.2)\r\n",
      "Requirement already satisfied: cmd2>=1.0.0 in ./totallosshdi/lib/python3.10/site-packages (from cliff->optuna>=2.10.1->nppm_latam_optuner==0.0.19) (2.5.0)\r\n",
      "Requirement already satisfied: stevedore>=2.0.1 in ./totallosshdi/lib/python3.10/site-packages (from cliff->optuna>=2.10.1->nppm_latam_optuner==0.0.19) (5.3.0)\r\n",
      "Requirement already satisfied: pyperclip in ./totallosshdi/lib/python3.10/site-packages (from cmd2>=1.0.0->cliff->optuna>=2.10.1->nppm_latam_optuner==0.0.19) (1.9.0)\r\n",
      "Requirement already satisfied: wcwidth in ./totallosshdi/lib/python3.10/site-packages (from cmd2>=1.0.0->cliff->optuna>=2.10.1->nppm_latam_optuner==0.0.19) (0.2.13)\r\n"
     ]
    },
    {
     "name": "stdout",
     "output_type": "stream",
     "text": [
      "Requirement already satisfied: pbr>=2.0.0 in ./totallosshdi/lib/python3.10/site-packages (from stevedore>=2.0.1->cliff->optuna>=2.10.1->nppm_latam_optuner==0.0.19) (6.1.0)\r\n",
      "Requirement already satisfied: MarkupSafe>=0.9.2 in ./totallosshdi/lib/python3.10/site-packages (from Mako->alembic>=1.5.0->optuna>=2.10.1->nppm_latam_optuner==0.0.19) (3.0.2)\r\n",
      "Building wheels for collected packages: nppm_latam_optuner\r\n"
     ]
    },
    {
     "name": "stdout",
     "output_type": "stream",
     "text": [
      "  Building wheel for nppm_latam_optuner (setup.py) ... \u001b[?25l-"
     ]
    },
    {
     "name": "stdout",
     "output_type": "stream",
     "text": [
      "\b \b\\"
     ]
    },
    {
     "name": "stdout",
     "output_type": "stream",
     "text": [
      "\b \bdone\r\n",
      "\u001b[?25h  Created wheel for nppm_latam_optuner: filename=nppm_latam_optuner-0.0.19-py3-none-any.whl size=8210 sha256=4bd34bf7cce3be48a0ae30d3df3410d6be2c9854cda3566e911ba68f02b5e531\r\n",
      "  Stored in directory: /tmp/pip-ephem-wheel-cache-h9pbv_64/wheels/36/3e/00/c016ead6d80e57b9d0355e957a09b42f14b8ccd60db95d6dd4\r\n",
      "Successfully built nppm_latam_optuner\r\n"
     ]
    },
    {
     "name": "stdout",
     "output_type": "stream",
     "text": [
      "Installing collected packages: nppm_latam_optuner\r\n",
      "  Attempting uninstall: nppm_latam_optuner\r\n",
      "    Found existing installation: nppm_latam_optuner 0.0.19\r\n",
      "    Uninstalling nppm_latam_optuner-0.0.19:\r\n",
      "      Successfully uninstalled nppm_latam_optuner-0.0.19\r\n"
     ]
    },
    {
     "name": "stdout",
     "output_type": "stream",
     "text": [
      "Successfully installed nppm_latam_optuner-0.0.19\r\n"
     ]
    },
    {
     "name": "stdout",
     "output_type": "stream",
     "text": [
      "Note: you may need to restart the kernel to use updated packages.\n"
     ]
    }
   ],
   "source": [
    "%pip install /home/ec2-user/SageMaker/nppm_latam_optuner"
   ]
  }
 ],
 "metadata": {
  "kernelspec": {
   "display_name": "totallosshdi",
   "language": "python",
   "name": "totallosshdi"
  },
  "language_info": {
   "codemirror_mode": {
    "name": "ipython",
    "version": 3
   },
   "file_extension": ".py",
   "mimetype": "text/x-python",
   "name": "python",
   "nbconvert_exporter": "python",
   "pygments_lexer": "ipython3",
   "version": "3.10.8"
  },
  "papermill": {
   "default_parameters": {},
   "duration": 72.986088,
   "end_time": "2025-01-15T15:08:14.457365",
   "environment_variables": {},
   "exception": null,
   "input_path": "/home/ec2-user/SageMaker/totalloss_HDI/librerias.ipynb",
   "output_path": "/home/ec2-user/SageMaker/totalloss_HDI/librerias.ipynb",
   "parameters": {},
   "start_time": "2025-01-15T15:07:01.471277",
   "version": "2.6.0"
  }
 },
 "nbformat": 4,
 "nbformat_minor": 5
}